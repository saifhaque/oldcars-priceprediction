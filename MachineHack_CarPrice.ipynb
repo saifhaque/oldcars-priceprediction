{
 "cells": [
  {
   "cell_type": "code",
   "execution_count": 577,
   "metadata": {},
   "outputs": [
    {
     "name": "stdout",
     "output_type": "stream",
     "text": [
      "Collecting auto-sklearn\n",
      "Requirement already satisfied: scikit-learn<0.20,>=0.19 in /home/subramanyat/anaconda3/lib/python3.7/site-packages (from auto-sklearn) (0.19.2)\n",
      "Requirement already satisfied: liac-arff in /home/subramanyat/anaconda3/lib/python3.7/site-packages (from auto-sklearn) (2.4.0)\n",
      "Requirement already satisfied: Cython in /home/subramanyat/anaconda3/lib/python3.7/site-packages (from auto-sklearn) (0.29.6)\n",
      "Requirement already satisfied: pandas in /home/subramanyat/anaconda3/lib/python3.7/site-packages (from auto-sklearn) (0.24.2)\n",
      "Requirement already satisfied: psutil in /home/subramanyat/anaconda3/lib/python3.7/site-packages (from auto-sklearn) (5.6.1)\n",
      "Requirement already satisfied: pynisher>=0.4.2 in /home/subramanyat/anaconda3/lib/python3.7/site-packages (from auto-sklearn) (0.5.0)\n",
      "Requirement already satisfied: setuptools in /home/subramanyat/anaconda3/lib/python3.7/site-packages (from auto-sklearn) (40.8.0)\n",
      "Requirement already satisfied: numpy>=1.9.0 in /home/subramanyat/anaconda3/lib/python3.7/site-packages (from auto-sklearn) (1.16.2)\n",
      "Requirement already satisfied: lockfile in /home/subramanyat/anaconda3/lib/python3.7/site-packages (from auto-sklearn) (0.12.2)\n",
      "Requirement already satisfied: joblib in /home/subramanyat/anaconda3/lib/python3.7/site-packages (from auto-sklearn) (0.13.2)\n",
      "Requirement already satisfied: scipy>=0.14.1 in /home/subramanyat/anaconda3/lib/python3.7/site-packages (from auto-sklearn) (1.2.1)\n",
      "Requirement already satisfied: pyyaml in /home/subramanyat/anaconda3/lib/python3.7/site-packages (from auto-sklearn) (5.1)\n",
      "Collecting pyrfr<0.8,>=0.7 (from auto-sklearn)\n",
      "  Using cached https://files.pythonhosted.org/packages/c3/c6/c555cfa3c7d0078dded091d4901ed52344bbb925077aa70b871faf35fd58/pyrfr-0.7.4.tar.gz\n",
      "Requirement already satisfied: nose in /home/subramanyat/anaconda3/lib/python3.7/site-packages (from auto-sklearn) (1.3.7)\n",
      "Collecting smac==0.8 (from auto-sklearn)\n",
      "Requirement already satisfied: ConfigSpace<0.5,>=0.4.0 in /home/subramanyat/anaconda3/lib/python3.7/site-packages (from auto-sklearn) (0.4.10)\n",
      "Requirement already satisfied: xgboost>=0.80 in /home/subramanyat/anaconda3/lib/python3.7/site-packages (from auto-sklearn) (0.90)\n",
      "Requirement already satisfied: pytz>=2011k in /home/subramanyat/anaconda3/lib/python3.7/site-packages (from pandas->auto-sklearn) (2018.9)\n",
      "Requirement already satisfied: python-dateutil>=2.5.0 in /home/subramanyat/anaconda3/lib/python3.7/site-packages (from pandas->auto-sklearn) (2.8.0)\n",
      "Requirement already satisfied: docutils>=0.3 in /home/subramanyat/anaconda3/lib/python3.7/site-packages (from pynisher>=0.4.2->auto-sklearn) (0.14)\n",
      "Requirement already satisfied: six in /home/subramanyat/anaconda3/lib/python3.7/site-packages (from smac==0.8->auto-sklearn) (1.12.0)\n",
      "Requirement already satisfied: typing in /home/subramanyat/anaconda3/lib/python3.7/site-packages (from smac==0.8->auto-sklearn) (3.6.6)\n",
      "Requirement already satisfied: sphinx-rtd-theme in /home/subramanyat/anaconda3/lib/python3.7/site-packages (from smac==0.8->auto-sklearn) (0.4.3)\n",
      "Requirement already satisfied: sphinx in /home/subramanyat/anaconda3/lib/python3.7/site-packages (from smac==0.8->auto-sklearn) (1.8.5)\n",
      "Requirement already satisfied: pyparsing in /home/subramanyat/anaconda3/lib/python3.7/site-packages (from ConfigSpace<0.5,>=0.4.0->auto-sklearn) (2.3.1)\n",
      "Requirement already satisfied: Jinja2>=2.3 in /home/subramanyat/anaconda3/lib/python3.7/site-packages (from sphinx->smac==0.8->auto-sklearn) (2.10)\n",
      "Requirement already satisfied: Pygments>=2.0 in /home/subramanyat/anaconda3/lib/python3.7/site-packages (from sphinx->smac==0.8->auto-sklearn) (2.3.1)\n",
      "Requirement already satisfied: snowballstemmer>=1.1 in /home/subramanyat/anaconda3/lib/python3.7/site-packages (from sphinx->smac==0.8->auto-sklearn) (1.2.1)\n",
      "Requirement already satisfied: babel!=2.0,>=1.3 in /home/subramanyat/anaconda3/lib/python3.7/site-packages (from sphinx->smac==0.8->auto-sklearn) (2.6.0)\n",
      "Requirement already satisfied: alabaster<0.8,>=0.7 in /home/subramanyat/anaconda3/lib/python3.7/site-packages (from sphinx->smac==0.8->auto-sklearn) (0.7.12)\n",
      "Requirement already satisfied: imagesize in /home/subramanyat/anaconda3/lib/python3.7/site-packages (from sphinx->smac==0.8->auto-sklearn) (1.1.0)\n",
      "Requirement already satisfied: requests>=2.0.0 in /home/subramanyat/anaconda3/lib/python3.7/site-packages (from sphinx->smac==0.8->auto-sklearn) (2.21.0)\n",
      "Requirement already satisfied: packaging in /home/subramanyat/anaconda3/lib/python3.7/site-packages (from sphinx->smac==0.8->auto-sklearn) (19.0)\n",
      "Requirement already satisfied: sphinxcontrib-websupport in /home/subramanyat/anaconda3/lib/python3.7/site-packages (from sphinx->smac==0.8->auto-sklearn) (1.1.0)\n",
      "Requirement already satisfied: MarkupSafe>=0.23 in /home/subramanyat/anaconda3/lib/python3.7/site-packages (from Jinja2>=2.3->sphinx->smac==0.8->auto-sklearn) (1.1.1)\n",
      "Requirement already satisfied: idna<2.9,>=2.5 in /home/subramanyat/anaconda3/lib/python3.7/site-packages (from requests>=2.0.0->sphinx->smac==0.8->auto-sklearn) (2.8)\n",
      "Requirement already satisfied: urllib3<1.25,>=1.21.1 in /home/subramanyat/anaconda3/lib/python3.7/site-packages (from requests>=2.0.0->sphinx->smac==0.8->auto-sklearn) (1.24.1)\n",
      "Requirement already satisfied: chardet<3.1.0,>=3.0.2 in /home/subramanyat/anaconda3/lib/python3.7/site-packages (from requests>=2.0.0->sphinx->smac==0.8->auto-sklearn) (3.0.4)\n",
      "Requirement already satisfied: certifi>=2017.4.17 in /home/subramanyat/anaconda3/lib/python3.7/site-packages (from requests>=2.0.0->sphinx->smac==0.8->auto-sklearn) (2019.3.9)\n",
      "Building wheels for collected packages: pyrfr\n",
      "  Building wheel for pyrfr (setup.py) ... \u001b[?25ldone\n",
      "\u001b[?25h  Stored in directory: /home/subramanyat/.cache/pip/wheels/fb/98/fd/b1d53cab6d5ed836980777d9733d7e549d82a727650eed6f6d\n",
      "Successfully built pyrfr\n",
      "Installing collected packages: pyrfr, smac, auto-sklearn\n",
      "Successfully installed auto-sklearn-0.5.2 pyrfr-0.7.4 smac-0.8.0\n"
     ]
    }
   ],
   "source": [
    "import sys\n",
    "!{sys.executable} -m pip install auto-sklearn"
   ]
  },
  {
   "cell_type": "code",
   "execution_count": 346,
   "metadata": {},
   "outputs": [],
   "source": [
    "import xgboost"
   ]
  },
  {
   "cell_type": "code",
   "execution_count": 2,
   "metadata": {},
   "outputs": [],
   "source": [
    "import pandas as pd\n",
    "import numpy as np"
   ]
  },
  {
   "cell_type": "code",
   "execution_count": 81,
   "metadata": {},
   "outputs": [],
   "source": [
    "train_data = pd.read_excel(\"Data_Train.xlsx\")"
   ]
  },
  {
   "cell_type": "code",
   "execution_count": 82,
   "metadata": {},
   "outputs": [
    {
     "data": {
      "text/html": [
       "<div>\n",
       "<style scoped>\n",
       "    .dataframe tbody tr th:only-of-type {\n",
       "        vertical-align: middle;\n",
       "    }\n",
       "\n",
       "    .dataframe tbody tr th {\n",
       "        vertical-align: top;\n",
       "    }\n",
       "\n",
       "    .dataframe thead th {\n",
       "        text-align: right;\n",
       "    }\n",
       "</style>\n",
       "<table border=\"1\" class=\"dataframe\">\n",
       "  <thead>\n",
       "    <tr style=\"text-align: right;\">\n",
       "      <th></th>\n",
       "      <th>Name</th>\n",
       "      <th>Location</th>\n",
       "      <th>Year</th>\n",
       "      <th>Kilometers_Driven</th>\n",
       "      <th>Fuel_Type</th>\n",
       "      <th>Transmission</th>\n",
       "      <th>Owner_Type</th>\n",
       "      <th>Mileage</th>\n",
       "      <th>Engine</th>\n",
       "      <th>Power</th>\n",
       "      <th>Seats</th>\n",
       "      <th>New_Price</th>\n",
       "      <th>Price</th>\n",
       "    </tr>\n",
       "  </thead>\n",
       "  <tbody>\n",
       "    <tr>\n",
       "      <th>0</th>\n",
       "      <td>Maruti Wagon R LXI CNG</td>\n",
       "      <td>Mumbai</td>\n",
       "      <td>2010</td>\n",
       "      <td>72000</td>\n",
       "      <td>CNG</td>\n",
       "      <td>Manual</td>\n",
       "      <td>First</td>\n",
       "      <td>26.6 km/kg</td>\n",
       "      <td>998 CC</td>\n",
       "      <td>58.16 bhp</td>\n",
       "      <td>5.0</td>\n",
       "      <td>NaN</td>\n",
       "      <td>1.75</td>\n",
       "    </tr>\n",
       "    <tr>\n",
       "      <th>1</th>\n",
       "      <td>Hyundai Creta 1.6 CRDi SX Option</td>\n",
       "      <td>Pune</td>\n",
       "      <td>2015</td>\n",
       "      <td>41000</td>\n",
       "      <td>Diesel</td>\n",
       "      <td>Manual</td>\n",
       "      <td>First</td>\n",
       "      <td>19.67 kmpl</td>\n",
       "      <td>1582 CC</td>\n",
       "      <td>126.2 bhp</td>\n",
       "      <td>5.0</td>\n",
       "      <td>NaN</td>\n",
       "      <td>12.50</td>\n",
       "    </tr>\n",
       "    <tr>\n",
       "      <th>2</th>\n",
       "      <td>Honda Jazz V</td>\n",
       "      <td>Chennai</td>\n",
       "      <td>2011</td>\n",
       "      <td>46000</td>\n",
       "      <td>Petrol</td>\n",
       "      <td>Manual</td>\n",
       "      <td>First</td>\n",
       "      <td>18.2 kmpl</td>\n",
       "      <td>1199 CC</td>\n",
       "      <td>88.7 bhp</td>\n",
       "      <td>5.0</td>\n",
       "      <td>8.61 Lakh</td>\n",
       "      <td>4.50</td>\n",
       "    </tr>\n",
       "    <tr>\n",
       "      <th>3</th>\n",
       "      <td>Maruti Ertiga VDI</td>\n",
       "      <td>Chennai</td>\n",
       "      <td>2012</td>\n",
       "      <td>87000</td>\n",
       "      <td>Diesel</td>\n",
       "      <td>Manual</td>\n",
       "      <td>First</td>\n",
       "      <td>20.77 kmpl</td>\n",
       "      <td>1248 CC</td>\n",
       "      <td>88.76 bhp</td>\n",
       "      <td>7.0</td>\n",
       "      <td>NaN</td>\n",
       "      <td>6.00</td>\n",
       "    </tr>\n",
       "    <tr>\n",
       "      <th>4</th>\n",
       "      <td>Audi A4 New 2.0 TDI Multitronic</td>\n",
       "      <td>Coimbatore</td>\n",
       "      <td>2013</td>\n",
       "      <td>40670</td>\n",
       "      <td>Diesel</td>\n",
       "      <td>Automatic</td>\n",
       "      <td>Second</td>\n",
       "      <td>15.2 kmpl</td>\n",
       "      <td>1968 CC</td>\n",
       "      <td>140.8 bhp</td>\n",
       "      <td>5.0</td>\n",
       "      <td>NaN</td>\n",
       "      <td>17.74</td>\n",
       "    </tr>\n",
       "  </tbody>\n",
       "</table>\n",
       "</div>"
      ],
      "text/plain": [
       "                               Name    Location  Year  Kilometers_Driven  \\\n",
       "0            Maruti Wagon R LXI CNG      Mumbai  2010              72000   \n",
       "1  Hyundai Creta 1.6 CRDi SX Option        Pune  2015              41000   \n",
       "2                      Honda Jazz V     Chennai  2011              46000   \n",
       "3                 Maruti Ertiga VDI     Chennai  2012              87000   \n",
       "4   Audi A4 New 2.0 TDI Multitronic  Coimbatore  2013              40670   \n",
       "\n",
       "  Fuel_Type Transmission Owner_Type     Mileage   Engine      Power  Seats  \\\n",
       "0       CNG       Manual      First  26.6 km/kg   998 CC  58.16 bhp    5.0   \n",
       "1    Diesel       Manual      First  19.67 kmpl  1582 CC  126.2 bhp    5.0   \n",
       "2    Petrol       Manual      First   18.2 kmpl  1199 CC   88.7 bhp    5.0   \n",
       "3    Diesel       Manual      First  20.77 kmpl  1248 CC  88.76 bhp    7.0   \n",
       "4    Diesel    Automatic     Second   15.2 kmpl  1968 CC  140.8 bhp    5.0   \n",
       "\n",
       "   New_Price  Price  \n",
       "0        NaN   1.75  \n",
       "1        NaN  12.50  \n",
       "2  8.61 Lakh   4.50  \n",
       "3        NaN   6.00  \n",
       "4        NaN  17.74  "
      ]
     },
     "execution_count": 82,
     "metadata": {},
     "output_type": "execute_result"
    }
   ],
   "source": [
    "train_data.head()"
   ]
  },
  {
   "cell_type": "code",
   "execution_count": 83,
   "metadata": {},
   "outputs": [
    {
     "name": "stdout",
     "output_type": "stream",
     "text": [
      "<class 'pandas.core.frame.DataFrame'>\n",
      "RangeIndex: 6019 entries, 0 to 6018\n",
      "Data columns (total 13 columns):\n",
      "Name                 6019 non-null object\n",
      "Location             6019 non-null object\n",
      "Year                 6019 non-null int64\n",
      "Kilometers_Driven    6019 non-null int64\n",
      "Fuel_Type            6019 non-null object\n",
      "Transmission         6019 non-null object\n",
      "Owner_Type           6019 non-null object\n",
      "Mileage              6017 non-null object\n",
      "Engine               5983 non-null object\n",
      "Power                5983 non-null object\n",
      "Seats                5977 non-null float64\n",
      "New_Price            824 non-null object\n",
      "Price                6019 non-null float64\n",
      "dtypes: float64(2), int64(2), object(9)\n",
      "memory usage: 611.4+ KB\n"
     ]
    }
   ],
   "source": [
    "train_data.info()"
   ]
  },
  {
   "cell_type": "code",
   "execution_count": 154,
   "metadata": {},
   "outputs": [],
   "source": [
    "train_data_processed = train_data.copy()"
   ]
  },
  {
   "cell_type": "code",
   "execution_count": 84,
   "metadata": {},
   "outputs": [
    {
     "data": {
      "text/plain": [
       "(1876,)"
      ]
     },
     "execution_count": 84,
     "metadata": {},
     "output_type": "execute_result"
    }
   ],
   "source": [
    "train_data.Name.unique().shape"
   ]
  },
  {
   "cell_type": "code",
   "execution_count": 125,
   "metadata": {},
   "outputs": [
    {
     "name": "stdout",
     "output_type": "stream",
     "text": [
      "<class 'pandas.core.frame.DataFrame'>\n",
      "RangeIndex: 6019 entries, 0 to 6018\n",
      "Data columns (total 14 columns):\n",
      "Name                 6019 non-null object\n",
      "Location             6019 non-null object\n",
      "Year                 6019 non-null int64\n",
      "Kilometers_Driven    6019 non-null int64\n",
      "Fuel_Type            6019 non-null object\n",
      "Transmission         6019 non-null object\n",
      "Owner_Type           6019 non-null object\n",
      "Mileage              6017 non-null object\n",
      "Engine               5983 non-null object\n",
      "Power                5983 non-null object\n",
      "Seats                6019 non-null category\n",
      "New_Price            824 non-null object\n",
      "Price                6019 non-null float64\n",
      "No_Years             6019 non-null int64\n",
      "dtypes: category(1), float64(1), int64(3), object(9)\n",
      "memory usage: 617.6+ KB\n"
     ]
    }
   ],
   "source": [
    "train_data_processed.info()"
   ]
  },
  {
   "cell_type": "markdown",
   "metadata": {},
   "source": [
    "#         Car FirstName "
   ]
  },
  {
   "cell_type": "code",
   "execution_count": 120,
   "metadata": {},
   "outputs": [],
   "source": [
    "Car_FirstName = []\n",
    "for i in range(train_data.shape[0]):\n",
    "    name = train_data.iloc[i].Name\n",
    "    Car_FirstName.append(name.split(' ')[0])"
   ]
  },
  {
   "cell_type": "code",
   "execution_count": 122,
   "metadata": {},
   "outputs": [
    {
     "data": {
      "text/plain": [
       "{'Ambassador',\n",
       " 'Audi',\n",
       " 'BMW',\n",
       " 'Bentley',\n",
       " 'Chevrolet',\n",
       " 'Datsun',\n",
       " 'Fiat',\n",
       " 'Force',\n",
       " 'Ford',\n",
       " 'Honda',\n",
       " 'Hyundai',\n",
       " 'ISUZU',\n",
       " 'Isuzu',\n",
       " 'Jaguar',\n",
       " 'Jeep',\n",
       " 'Lamborghini',\n",
       " 'Land',\n",
       " 'Mahindra',\n",
       " 'Maruti',\n",
       " 'Mercedes-Benz',\n",
       " 'Mini',\n",
       " 'Mitsubishi',\n",
       " 'Nissan',\n",
       " 'Porsche',\n",
       " 'Renault',\n",
       " 'Skoda',\n",
       " 'Smart',\n",
       " 'Tata',\n",
       " 'Toyota',\n",
       " 'Volkswagen',\n",
       " 'Volvo'}"
      ]
     },
     "execution_count": 122,
     "metadata": {},
     "output_type": "execute_result"
    }
   ],
   "source": [
    "set(Car_FirstName)"
   ]
  },
  {
   "cell_type": "code",
   "execution_count": null,
   "metadata": {},
   "outputs": [],
   "source": []
  },
  {
   "cell_type": "code",
   "execution_count": 123,
   "metadata": {},
   "outputs": [
    {
     "data": {
      "text/plain": [
       "31"
      ]
     },
     "execution_count": 123,
     "metadata": {},
     "output_type": "execute_result"
    }
   ],
   "source": [
    "len(set(Car_FirstName))"
   ]
  },
  {
   "cell_type": "code",
   "execution_count": 116,
   "metadata": {},
   "outputs": [
    {
     "data": {
      "text/plain": [
       "'Honda'"
      ]
     },
     "execution_count": 116,
     "metadata": {},
     "output_type": "execute_result"
    }
   ],
   "source": [
    "train_data.Name.iloc[2].split(' ')[0]"
   ]
  },
  {
   "cell_type": "markdown",
   "metadata": {},
   "source": [
    "#                   Location"
   ]
  },
  {
   "cell_type": "code",
   "execution_count": 10,
   "metadata": {},
   "outputs": [
    {
     "data": {
      "text/plain": [
       "array(['Mumbai', 'Pune', 'Chennai', 'Coimbatore', 'Hyderabad', 'Jaipur',\n",
       "       'Kochi', 'Kolkata', 'Delhi', 'Bangalore', 'Ahmedabad'],\n",
       "      dtype=object)"
      ]
     },
     "execution_count": 10,
     "metadata": {},
     "output_type": "execute_result"
    }
   ],
   "source": [
    "train_data.Location.unique()"
   ]
  },
  {
   "cell_type": "code",
   "execution_count": 119,
   "metadata": {},
   "outputs": [
    {
     "data": {
      "text/plain": [
       "(11,)"
      ]
     },
     "execution_count": 119,
     "metadata": {},
     "output_type": "execute_result"
    }
   ],
   "source": [
    "train_data.Location.unique().shape"
   ]
  },
  {
   "cell_type": "code",
   "execution_count": 11,
   "metadata": {},
   "outputs": [
    {
     "data": {
      "text/plain": [
       "Mumbai        790\n",
       "Hyderabad     742\n",
       "Kochi         651\n",
       "Coimbatore    636\n",
       "Pune          622\n",
       "Delhi         554\n",
       "Kolkata       535\n",
       "Chennai       494\n",
       "Jaipur        413\n",
       "Bangalore     358\n",
       "Ahmedabad     224\n",
       "Name: Location, dtype: int64"
      ]
     },
     "execution_count": 11,
     "metadata": {},
     "output_type": "execute_result"
    }
   ],
   "source": [
    "train_data.Location.value_counts()"
   ]
  },
  {
   "cell_type": "markdown",
   "metadata": {},
   "source": [
    "#  Year "
   ]
  },
  {
   "cell_type": "code",
   "execution_count": 12,
   "metadata": {},
   "outputs": [
    {
     "data": {
      "text/plain": [
       "array([2010, 2015, 2011, 2012, 2013, 2016, 2018, 2014, 2017, 2007, 2009,\n",
       "       2008, 2019, 2006, 2005, 2004, 2002, 2000, 2003, 1999, 2001, 1998])"
      ]
     },
     "execution_count": 12,
     "metadata": {},
     "output_type": "execute_result"
    }
   ],
   "source": [
    "train_data.Year.unique()"
   ]
  },
  {
   "cell_type": "code",
   "execution_count": 13,
   "metadata": {},
   "outputs": [
    {
     "data": {
      "text/plain": [
       "(22,)"
      ]
     },
     "execution_count": 13,
     "metadata": {},
     "output_type": "execute_result"
    }
   ],
   "source": [
    "train_data.Year.unique().shape"
   ]
  },
  {
   "cell_type": "code",
   "execution_count": 93,
   "metadata": {},
   "outputs": [],
   "source": [
    "train_data['No_Years'] = 2020 - train_data.Year"
   ]
  },
  {
   "cell_type": "code",
   "execution_count": 95,
   "metadata": {},
   "outputs": [
    {
     "data": {
      "text/plain": [
       "count    6019.000000\n",
       "mean        6.641801\n",
       "std         3.269742\n",
       "min         1.000000\n",
       "25%         4.000000\n",
       "50%         6.000000\n",
       "75%         9.000000\n",
       "max        22.000000\n",
       "Name: No_Years, dtype: float64"
      ]
     },
     "execution_count": 95,
     "metadata": {},
     "output_type": "execute_result"
    }
   ],
   "source": [
    "train_data['No_Years'].describe()"
   ]
  },
  {
   "cell_type": "markdown",
   "metadata": {},
   "source": [
    "# Kilometers_Driven"
   ]
  },
  {
   "cell_type": "code",
   "execution_count": 15,
   "metadata": {},
   "outputs": [
    {
     "data": {
      "text/plain": [
       "(3093,)"
      ]
     },
     "execution_count": 15,
     "metadata": {},
     "output_type": "execute_result"
    }
   ],
   "source": [
    "train_data.Kilometers_Driven.unique().shape"
   ]
  },
  {
   "cell_type": "code",
   "execution_count": 16,
   "metadata": {},
   "outputs": [
    {
     "data": {
      "text/plain": [
       "count    6.019000e+03\n",
       "mean     5.873838e+04\n",
       "std      9.126884e+04\n",
       "min      1.710000e+02\n",
       "25%      3.400000e+04\n",
       "50%      5.300000e+04\n",
       "75%      7.300000e+04\n",
       "max      6.500000e+06\n",
       "Name: Kilometers_Driven, dtype: float64"
      ]
     },
     "execution_count": 16,
     "metadata": {},
     "output_type": "execute_result"
    }
   ],
   "source": [
    "train_data.Kilometers_Driven.describe()"
   ]
  },
  {
   "cell_type": "markdown",
   "metadata": {},
   "source": [
    "# Fuel_Type"
   ]
  },
  {
   "cell_type": "code",
   "execution_count": 17,
   "metadata": {},
   "outputs": [
    {
     "data": {
      "text/plain": [
       "array(['CNG', 'Diesel', 'Petrol', 'LPG', 'Electric'], dtype=object)"
      ]
     },
     "execution_count": 17,
     "metadata": {},
     "output_type": "execute_result"
    }
   ],
   "source": [
    "train_data.Fuel_Type.unique()"
   ]
  },
  {
   "cell_type": "code",
   "execution_count": 18,
   "metadata": {},
   "outputs": [
    {
     "data": {
      "text/plain": [
       "Diesel      3205\n",
       "Petrol      2746\n",
       "CNG           56\n",
       "LPG           10\n",
       "Electric       2\n",
       "Name: Fuel_Type, dtype: int64"
      ]
     },
     "execution_count": 18,
     "metadata": {},
     "output_type": "execute_result"
    }
   ],
   "source": [
    "train_data.Fuel_Type.value_counts()"
   ]
  },
  {
   "cell_type": "code",
   "execution_count": 107,
   "metadata": {},
   "outputs": [
    {
     "data": {
      "text/html": [
       "<div>\n",
       "<style scoped>\n",
       "    .dataframe tbody tr th:only-of-type {\n",
       "        vertical-align: middle;\n",
       "    }\n",
       "\n",
       "    .dataframe tbody tr th {\n",
       "        vertical-align: top;\n",
       "    }\n",
       "\n",
       "    .dataframe thead th {\n",
       "        text-align: right;\n",
       "    }\n",
       "</style>\n",
       "<table border=\"1\" class=\"dataframe\">\n",
       "  <thead>\n",
       "    <tr style=\"text-align: right;\">\n",
       "      <th></th>\n",
       "      <th>Name</th>\n",
       "      <th>Location</th>\n",
       "      <th>Year</th>\n",
       "      <th>Kilometers_Driven</th>\n",
       "      <th>Fuel_Type</th>\n",
       "      <th>Transmission</th>\n",
       "      <th>Owner_Type</th>\n",
       "      <th>Mileage</th>\n",
       "      <th>Engine</th>\n",
       "      <th>Power</th>\n",
       "      <th>Seats</th>\n",
       "      <th>New_Price</th>\n",
       "      <th>Price</th>\n",
       "      <th>No_Years</th>\n",
       "    </tr>\n",
       "  </thead>\n",
       "  <tbody>\n",
       "    <tr>\n",
       "      <th>4446</th>\n",
       "      <td>Mahindra E Verito D4</td>\n",
       "      <td>Chennai</td>\n",
       "      <td>2016</td>\n",
       "      <td>50000</td>\n",
       "      <td>Electric</td>\n",
       "      <td>Automatic</td>\n",
       "      <td>First</td>\n",
       "      <td>NaN</td>\n",
       "      <td>72 CC</td>\n",
       "      <td>41 bhp</td>\n",
       "      <td>5.0</td>\n",
       "      <td>13.58 Lakh</td>\n",
       "      <td>13.00</td>\n",
       "      <td>4</td>\n",
       "    </tr>\n",
       "    <tr>\n",
       "      <th>4904</th>\n",
       "      <td>Toyota Prius 2009-2016 Z4</td>\n",
       "      <td>Mumbai</td>\n",
       "      <td>2011</td>\n",
       "      <td>44000</td>\n",
       "      <td>Electric</td>\n",
       "      <td>Automatic</td>\n",
       "      <td>First</td>\n",
       "      <td>NaN</td>\n",
       "      <td>1798 CC</td>\n",
       "      <td>73 bhp</td>\n",
       "      <td>5.0</td>\n",
       "      <td>NaN</td>\n",
       "      <td>12.75</td>\n",
       "      <td>9</td>\n",
       "    </tr>\n",
       "  </tbody>\n",
       "</table>\n",
       "</div>"
      ],
      "text/plain": [
       "                           Name Location  Year  Kilometers_Driven Fuel_Type  \\\n",
       "4446       Mahindra E Verito D4  Chennai  2016              50000  Electric   \n",
       "4904  Toyota Prius 2009-2016 Z4   Mumbai  2011              44000  Electric   \n",
       "\n",
       "     Transmission Owner_Type Mileage   Engine   Power Seats   New_Price  \\\n",
       "4446    Automatic      First     NaN    72 CC  41 bhp   5.0  13.58 Lakh   \n",
       "4904    Automatic      First     NaN  1798 CC  73 bhp   5.0         NaN   \n",
       "\n",
       "      Price  No_Years  \n",
       "4446  13.00         4  \n",
       "4904  12.75         9  "
      ]
     },
     "execution_count": 107,
     "metadata": {},
     "output_type": "execute_result"
    }
   ],
   "source": [
    "train_data[train_data.Fuel_Type == 'Electric']"
   ]
  },
  {
   "cell_type": "markdown",
   "metadata": {},
   "source": [
    "#   Transmission"
   ]
  },
  {
   "cell_type": "code",
   "execution_count": 19,
   "metadata": {},
   "outputs": [
    {
     "data": {
      "text/plain": [
       "Manual       4299\n",
       "Automatic    1720\n",
       "Name: Transmission, dtype: int64"
      ]
     },
     "execution_count": 19,
     "metadata": {},
     "output_type": "execute_result"
    }
   ],
   "source": [
    "train_data.Transmission.value_counts()"
   ]
  },
  {
   "cell_type": "markdown",
   "metadata": {},
   "source": [
    "# Owner_Type"
   ]
  },
  {
   "cell_type": "code",
   "execution_count": 20,
   "metadata": {},
   "outputs": [
    {
     "data": {
      "text/plain": [
       "First             4929\n",
       "Second             968\n",
       "Third              113\n",
       "Fourth & Above       9\n",
       "Name: Owner_Type, dtype: int64"
      ]
     },
     "execution_count": 20,
     "metadata": {},
     "output_type": "execute_result"
    }
   ],
   "source": [
    "train_data.Owner_Type.value_counts()"
   ]
  },
  {
   "cell_type": "markdown",
   "metadata": {},
   "source": [
    "# Mileage"
   ]
  },
  {
   "cell_type": "code",
   "execution_count": 31,
   "metadata": {},
   "outputs": [],
   "source": [
    "mileage_value = train_data.Mileage.apply(lambda x : float(str(x).split(' ')[0]))"
   ]
  },
  {
   "cell_type": "code",
   "execution_count": 229,
   "metadata": {},
   "outputs": [],
   "source": [
    "mileage_value_test = test_data.Mileage.apply(lambda x : float(str(x).split(' ')[0]))"
   ]
  },
  {
   "cell_type": "code",
   "execution_count": 29,
   "metadata": {},
   "outputs": [
    {
     "data": {
      "text/plain": [
       "'0.0 kmpl'"
      ]
     },
     "execution_count": 29,
     "metadata": {},
     "output_type": "execute_result"
    }
   ],
   "source": [
    "train_data.Mileage.iloc[14]"
   ]
  },
  {
   "cell_type": "code",
   "execution_count": 30,
   "metadata": {},
   "outputs": [
    {
     "data": {
      "text/plain": [
       "Name                 Land Rover Freelander 2 TD4 SE\n",
       "Location                                       Pune\n",
       "Year                                           2012\n",
       "Kilometers_Driven                             85000\n",
       "Fuel_Type                                    Diesel\n",
       "Transmission                              Automatic\n",
       "Owner_Type                                   Second\n",
       "Mileage                                    0.0 kmpl\n",
       "Engine                                      2179 CC\n",
       "Power                                       115 bhp\n",
       "Seats                                             5\n",
       "New_Price                                       NaN\n",
       "Price                                          17.5\n",
       "Name: 14, dtype: object"
      ]
     },
     "execution_count": 30,
     "metadata": {},
     "output_type": "execute_result"
    }
   ],
   "source": [
    "train_data.iloc[14]"
   ]
  },
  {
   "cell_type": "code",
   "execution_count": 34,
   "metadata": {},
   "outputs": [
    {
     "ename": "IndexError",
     "evalue": "list index out of range",
     "output_type": "error",
     "traceback": [
      "\u001b[0;31m---------------------------------------------------------------------------\u001b[0m",
      "\u001b[0;31mIndexError\u001b[0m                                Traceback (most recent call last)",
      "\u001b[0;32m<ipython-input-34-e7d8f2dfc493>\u001b[0m in \u001b[0;36m<module>\u001b[0;34m\u001b[0m\n\u001b[0;32m----> 1\u001b[0;31m \u001b[0mmileage_units\u001b[0m \u001b[0;34m=\u001b[0m \u001b[0mtrain_data\u001b[0m\u001b[0;34m.\u001b[0m\u001b[0mMileage\u001b[0m\u001b[0;34m.\u001b[0m\u001b[0mapply\u001b[0m\u001b[0;34m(\u001b[0m\u001b[0;32mlambda\u001b[0m \u001b[0mx\u001b[0m \u001b[0;34m:\u001b[0m \u001b[0mstr\u001b[0m\u001b[0;34m(\u001b[0m\u001b[0mx\u001b[0m\u001b[0;34m)\u001b[0m\u001b[0;34m.\u001b[0m\u001b[0msplit\u001b[0m\u001b[0;34m(\u001b[0m\u001b[0;34m' '\u001b[0m\u001b[0;34m)\u001b[0m\u001b[0;34m[\u001b[0m\u001b[0;36m1\u001b[0m\u001b[0;34m]\u001b[0m\u001b[0;34m)\u001b[0m\u001b[0;34m\u001b[0m\u001b[0;34m\u001b[0m\u001b[0m\n\u001b[0m",
      "\u001b[0;32m~/anaconda3/lib/python3.7/site-packages/pandas/core/series.py\u001b[0m in \u001b[0;36mapply\u001b[0;34m(self, func, convert_dtype, args, **kwds)\u001b[0m\n\u001b[1;32m   3589\u001b[0m             \u001b[0;32melse\u001b[0m\u001b[0;34m:\u001b[0m\u001b[0;34m\u001b[0m\u001b[0;34m\u001b[0m\u001b[0m\n\u001b[1;32m   3590\u001b[0m                 \u001b[0mvalues\u001b[0m \u001b[0;34m=\u001b[0m \u001b[0mself\u001b[0m\u001b[0;34m.\u001b[0m\u001b[0mastype\u001b[0m\u001b[0;34m(\u001b[0m\u001b[0mobject\u001b[0m\u001b[0;34m)\u001b[0m\u001b[0;34m.\u001b[0m\u001b[0mvalues\u001b[0m\u001b[0;34m\u001b[0m\u001b[0;34m\u001b[0m\u001b[0m\n\u001b[0;32m-> 3591\u001b[0;31m                 \u001b[0mmapped\u001b[0m \u001b[0;34m=\u001b[0m \u001b[0mlib\u001b[0m\u001b[0;34m.\u001b[0m\u001b[0mmap_infer\u001b[0m\u001b[0;34m(\u001b[0m\u001b[0mvalues\u001b[0m\u001b[0;34m,\u001b[0m \u001b[0mf\u001b[0m\u001b[0;34m,\u001b[0m \u001b[0mconvert\u001b[0m\u001b[0;34m=\u001b[0m\u001b[0mconvert_dtype\u001b[0m\u001b[0;34m)\u001b[0m\u001b[0;34m\u001b[0m\u001b[0;34m\u001b[0m\u001b[0m\n\u001b[0m\u001b[1;32m   3592\u001b[0m \u001b[0;34m\u001b[0m\u001b[0m\n\u001b[1;32m   3593\u001b[0m         \u001b[0;32mif\u001b[0m \u001b[0mlen\u001b[0m\u001b[0;34m(\u001b[0m\u001b[0mmapped\u001b[0m\u001b[0;34m)\u001b[0m \u001b[0;32mand\u001b[0m \u001b[0misinstance\u001b[0m\u001b[0;34m(\u001b[0m\u001b[0mmapped\u001b[0m\u001b[0;34m[\u001b[0m\u001b[0;36m0\u001b[0m\u001b[0;34m]\u001b[0m\u001b[0;34m,\u001b[0m \u001b[0mSeries\u001b[0m\u001b[0;34m)\u001b[0m\u001b[0;34m:\u001b[0m\u001b[0;34m\u001b[0m\u001b[0;34m\u001b[0m\u001b[0m\n",
      "\u001b[0;32mpandas/_libs/lib.pyx\u001b[0m in \u001b[0;36mpandas._libs.lib.map_infer\u001b[0;34m()\u001b[0m\n",
      "\u001b[0;32m<ipython-input-34-e7d8f2dfc493>\u001b[0m in \u001b[0;36m<lambda>\u001b[0;34m(x)\u001b[0m\n\u001b[0;32m----> 1\u001b[0;31m \u001b[0mmileage_units\u001b[0m \u001b[0;34m=\u001b[0m \u001b[0mtrain_data\u001b[0m\u001b[0;34m.\u001b[0m\u001b[0mMileage\u001b[0m\u001b[0;34m.\u001b[0m\u001b[0mapply\u001b[0m\u001b[0;34m(\u001b[0m\u001b[0;32mlambda\u001b[0m \u001b[0mx\u001b[0m \u001b[0;34m:\u001b[0m \u001b[0mstr\u001b[0m\u001b[0;34m(\u001b[0m\u001b[0mx\u001b[0m\u001b[0;34m)\u001b[0m\u001b[0;34m.\u001b[0m\u001b[0msplit\u001b[0m\u001b[0;34m(\u001b[0m\u001b[0;34m' '\u001b[0m\u001b[0;34m)\u001b[0m\u001b[0;34m[\u001b[0m\u001b[0;36m1\u001b[0m\u001b[0;34m]\u001b[0m\u001b[0;34m)\u001b[0m\u001b[0;34m\u001b[0m\u001b[0;34m\u001b[0m\u001b[0m\n\u001b[0m",
      "\u001b[0;31mIndexError\u001b[0m: list index out of range"
     ]
    }
   ],
   "source": [
    " mileage_units = train_data.Mileage.apply(lambda x : str(x).split(' ')[1])"
   ]
  },
  {
   "cell_type": "code",
   "execution_count": 33,
   "metadata": {},
   "outputs": [
    {
     "data": {
      "text/plain": [
       "'kmpl'"
      ]
     },
     "execution_count": 33,
     "metadata": {},
     "output_type": "execute_result"
    }
   ],
   "source": [
    "train_data.Mileage.iloc[10].split(' ')[1]"
   ]
  },
  {
   "cell_type": "code",
   "execution_count": 36,
   "metadata": {},
   "outputs": [
    {
     "name": "stdout",
     "output_type": "stream",
     "text": [
      "4446\n",
      "4904\n"
     ]
    }
   ],
   "source": [
    "mileage_units = []\n",
    "for i in range(train_data.Mileage.shape[0]):\n",
    "    try:\n",
    "        mileage_units.append(train_data.Mileage.iloc[i].split(' ')[1])   \n",
    "    except:\n",
    "        mileage_units.append('NA')\n",
    "        print(i)"
   ]
  },
  {
   "cell_type": "code",
   "execution_count": 37,
   "metadata": {},
   "outputs": [
    {
     "data": {
      "text/plain": [
       "nan"
      ]
     },
     "execution_count": 37,
     "metadata": {},
     "output_type": "execute_result"
    }
   ],
   "source": [
    "train_data.Mileage."
   ]
  },
  {
   "cell_type": "code",
   "execution_count": 38,
   "metadata": {},
   "outputs": [
    {
     "data": {
      "text/plain": [
       "6019"
      ]
     },
     "execution_count": 38,
     "metadata": {},
     "output_type": "execute_result"
    }
   ],
   "source": [
    "len(mileage_units)"
   ]
  },
  {
   "cell_type": "code",
   "execution_count": 39,
   "metadata": {},
   "outputs": [
    {
     "data": {
      "text/plain": [
       "6019"
      ]
     },
     "execution_count": 39,
     "metadata": {},
     "output_type": "execute_result"
    }
   ],
   "source": [
    "len(mileage_value)"
   ]
  },
  {
   "cell_type": "code",
   "execution_count": 40,
   "metadata": {},
   "outputs": [
    {
     "data": {
      "text/plain": [
       "nan"
      ]
     },
     "execution_count": 40,
     "metadata": {},
     "output_type": "execute_result"
    }
   ],
   "source": [
    "mileage_value[4446]"
   ]
  },
  {
   "cell_type": "code",
   "execution_count": 41,
   "metadata": {},
   "outputs": [
    {
     "data": {
      "text/plain": [
       "nan"
      ]
     },
     "execution_count": 41,
     "metadata": {},
     "output_type": "execute_result"
    }
   ],
   "source": [
    "mileage_value[4904]"
   ]
  },
  {
   "cell_type": "code",
   "execution_count": 42,
   "metadata": {},
   "outputs": [],
   "source": [
    "mileage_units = pd.Series(mileage_units)"
   ]
  },
  {
   "cell_type": "code",
   "execution_count": 43,
   "metadata": {},
   "outputs": [
    {
     "data": {
      "text/plain": [
       "kmpl     5951\n",
       "km/kg      66\n",
       "NA          2\n",
       "dtype: int64"
      ]
     },
     "execution_count": 43,
     "metadata": {},
     "output_type": "execute_result"
    }
   ],
   "source": [
    "mileage_units.value_counts()"
   ]
  },
  {
   "cell_type": "code",
   "execution_count": 96,
   "metadata": {},
   "outputs": [
    {
     "data": {
      "text/plain": [
       "(6019,)"
      ]
     },
     "execution_count": 96,
     "metadata": {},
     "output_type": "execute_result"
    }
   ],
   "source": [
    "mileage_units.shape"
   ]
  },
  {
   "cell_type": "code",
   "execution_count": 130,
   "metadata": {},
   "outputs": [
    {
     "data": {
      "text/plain": [
       "6019"
      ]
     },
     "execution_count": 130,
     "metadata": {},
     "output_type": "execute_result"
    }
   ],
   "source": [
    "len(mileage_value)"
   ]
  },
  {
   "cell_type": "code",
   "execution_count": 44,
   "metadata": {},
   "outputs": [],
   "source": [
    "mileage_value = pd.Series(mileage_value)"
   ]
  },
  {
   "cell_type": "code",
   "execution_count": null,
   "metadata": {},
   "outputs": [],
   "source": []
  },
  {
   "cell_type": "code",
   "execution_count": 45,
   "metadata": {},
   "outputs": [
    {
     "data": {
      "text/plain": [
       "count    6017.000000\n",
       "mean       18.134961\n",
       "std         4.582289\n",
       "min         0.000000\n",
       "25%        15.170000\n",
       "50%        18.150000\n",
       "75%        21.100000\n",
       "max        33.540000\n",
       "Name: Mileage, dtype: float64"
      ]
     },
     "execution_count": 45,
     "metadata": {},
     "output_type": "execute_result"
    }
   ],
   "source": [
    "mileage_value.describe()"
   ]
  },
  {
   "cell_type": "code",
   "execution_count": 99,
   "metadata": {},
   "outputs": [],
   "source": [
    "mileage = list(zip(mileage_value,mileage_units))"
   ]
  },
  {
   "cell_type": "code",
   "execution_count": 100,
   "metadata": {},
   "outputs": [
    {
     "data": {
      "text/plain": [
       "6019"
      ]
     },
     "execution_count": 100,
     "metadata": {},
     "output_type": "execute_result"
    }
   ],
   "source": [
    "len(mileage)"
   ]
  },
  {
   "cell_type": "code",
   "execution_count": null,
   "metadata": {},
   "outputs": [],
   "source": [
    "mileage_value"
   ]
  },
  {
   "cell_type": "code",
   "execution_count": 104,
   "metadata": {},
   "outputs": [],
   "source": [
    "fuel_type = []\n",
    "for i in range(len(mileage)):\n",
    "    if mileage[i][1] == 'km/kg':\n",
    "        fuel_type.append(train_data.iloc[i].Fuel_Type)\n",
    "        "
   ]
  },
  {
   "cell_type": "code",
   "execution_count": 105,
   "metadata": {},
   "outputs": [
    {
     "data": {
      "text/plain": [
       "66"
      ]
     },
     "execution_count": 105,
     "metadata": {},
     "output_type": "execute_result"
    }
   ],
   "source": [
    "len(fuel_type)"
   ]
  },
  {
   "cell_type": "code",
   "execution_count": 106,
   "metadata": {},
   "outputs": [
    {
     "data": {
      "text/plain": [
       "{'CNG', 'LPG'}"
      ]
     },
     "execution_count": 106,
     "metadata": {},
     "output_type": "execute_result"
    }
   ],
   "source": [
    "set(fuel_type)"
   ]
  },
  {
   "cell_type": "code",
   "execution_count": 155,
   "metadata": {},
   "outputs": [],
   "source": [
    "train_data_processed.Mileage = mileage_value"
   ]
  },
  {
   "cell_type": "code",
   "execution_count": 231,
   "metadata": {},
   "outputs": [],
   "source": [
    "test_data.Mileage = mileage_value_test"
   ]
  },
  {
   "cell_type": "code",
   "execution_count": null,
   "metadata": {},
   "outputs": [],
   "source": [
    "prices = {'CNG' = 40, 'Diesel' = , 'Petrol' = , 'LPG' = }"
   ]
  },
  {
   "cell_type": "markdown",
   "metadata": {},
   "source": [
    "# Engine "
   ]
  },
  {
   "cell_type": "code",
   "execution_count": 48,
   "metadata": {},
   "outputs": [],
   "source": [
    "engine_units = []\n",
    "for i in range(train_data.Engine.shape[0]):\n",
    "    try:\n",
    "        engine_units.append(train_data.Engine.iloc[i].split(' ')[1])   \n",
    "    except:\n",
    "        engine_units.append('NA')\n",
    "        #print(i)"
   ]
  },
  {
   "cell_type": "code",
   "execution_count": 49,
   "metadata": {},
   "outputs": [],
   "source": [
    "engine_units = pd.Series(engine_units)"
   ]
  },
  {
   "cell_type": "code",
   "execution_count": 50,
   "metadata": {},
   "outputs": [
    {
     "data": {
      "text/plain": [
       "CC    5983\n",
       "NA      36\n",
       "dtype: int64"
      ]
     },
     "execution_count": 50,
     "metadata": {},
     "output_type": "execute_result"
    }
   ],
   "source": [
    "engine_units.value_counts()"
   ]
  },
  {
   "cell_type": "code",
   "execution_count": 52,
   "metadata": {},
   "outputs": [],
   "source": [
    "engine_value = train_data.Engine.apply(lambda x : float(str(x).split(' ')[0]))"
   ]
  },
  {
   "cell_type": "code",
   "execution_count": 236,
   "metadata": {},
   "outputs": [],
   "source": [
    "engine_value_test = test_data.Engine.apply(lambda x : float(str(x).split(' ')[0]))"
   ]
  },
  {
   "cell_type": "code",
   "execution_count": 54,
   "metadata": {},
   "outputs": [
    {
     "data": {
      "text/plain": [
       "count    5983.000000\n",
       "mean     1621.276450\n",
       "std       601.355233\n",
       "min        72.000000\n",
       "25%      1198.000000\n",
       "50%      1493.000000\n",
       "75%      1984.000000\n",
       "max      5998.000000\n",
       "Name: Engine, dtype: float64"
      ]
     },
     "execution_count": 54,
     "metadata": {},
     "output_type": "execute_result"
    }
   ],
   "source": [
    "engine_value.describe()"
   ]
  },
  {
   "cell_type": "code",
   "execution_count": 156,
   "metadata": {},
   "outputs": [],
   "source": [
    "train_data_processed['Engine'] = pd.Series(engine_value)"
   ]
  },
  {
   "cell_type": "code",
   "execution_count": 238,
   "metadata": {},
   "outputs": [],
   "source": [
    "test_data['Engine'] = pd.Series(engine_value_test)"
   ]
  },
  {
   "cell_type": "code",
   "execution_count": 157,
   "metadata": {},
   "outputs": [
    {
     "data": {
      "text/plain": [
       "count    5983.000000\n",
       "mean     1621.276450\n",
       "std       601.355233\n",
       "min        72.000000\n",
       "25%      1198.000000\n",
       "50%      1493.000000\n",
       "75%      1984.000000\n",
       "max      5998.000000\n",
       "Name: Engine, dtype: float64"
      ]
     },
     "execution_count": 157,
     "metadata": {},
     "output_type": "execute_result"
    }
   ],
   "source": [
    "train_data_processed.Engine.describe()"
   ]
  },
  {
   "cell_type": "markdown",
   "metadata": {},
   "source": [
    "#               Power"
   ]
  },
  {
   "cell_type": "code",
   "execution_count": 55,
   "metadata": {},
   "outputs": [],
   "source": [
    "power_units = []\n",
    "for i in range(train_data.Power.shape[0]):\n",
    "    try:\n",
    "        power_units.append(train_data.Power.iloc[i].split(' ')[1])   \n",
    "    except:\n",
    "        power_units.append('NA')"
   ]
  },
  {
   "cell_type": "code",
   "execution_count": 57,
   "metadata": {},
   "outputs": [
    {
     "data": {
      "text/plain": [
       "{'NA', 'bhp'}"
      ]
     },
     "execution_count": 57,
     "metadata": {},
     "output_type": "execute_result"
    }
   ],
   "source": [
    "set(power_units)"
   ]
  },
  {
   "cell_type": "code",
   "execution_count": 59,
   "metadata": {},
   "outputs": [],
   "source": [
    "power_value = train_data.Power.apply(lambda x : str(x).split(' ')[0])"
   ]
  },
  {
   "cell_type": "code",
   "execution_count": 232,
   "metadata": {},
   "outputs": [],
   "source": [
    "power_value_test = test_data.Power.apply(lambda x : str(x).split(' ')[0])"
   ]
  },
  {
   "cell_type": "code",
   "execution_count": 242,
   "metadata": {},
   "outputs": [
    {
     "data": {
      "text/plain": [
       "0     58.2\n",
       "1     47.3\n",
       "2    147.8\n",
       "3     null\n",
       "4    82.85\n",
       "Name: Power, dtype: object"
      ]
     },
     "execution_count": 242,
     "metadata": {},
     "output_type": "execute_result"
    }
   ],
   "source": [
    "pd.Series(power_value_test).head()"
   ]
  },
  {
   "cell_type": "code",
   "execution_count": 60,
   "metadata": {},
   "outputs": [
    {
     "data": {
      "text/plain": [
       "count     6019\n",
       "unique     373\n",
       "top         74\n",
       "freq       235\n",
       "Name: Power, dtype: object"
      ]
     },
     "execution_count": 60,
     "metadata": {},
     "output_type": "execute_result"
    }
   ],
   "source": [
    "power_value.describe()"
   ]
  },
  {
   "cell_type": "code",
   "execution_count": 67,
   "metadata": {},
   "outputs": [],
   "source": [
    "for i in range(len(power_value)):\n",
    "    if power_value[i] == 'null':\n",
    "        power_value[i] = np.nan     "
   ]
  },
  {
   "cell_type": "code",
   "execution_count": 243,
   "metadata": {},
   "outputs": [],
   "source": [
    "for i in range(len(power_value_test)):\n",
    "    if power_value_test[i] == 'null':\n",
    "        power_value_test[i] = np.nan  "
   ]
  },
  {
   "cell_type": "code",
   "execution_count": 68,
   "metadata": {},
   "outputs": [],
   "source": [
    "power_value = pd.Series(power_value).astype(float)"
   ]
  },
  {
   "cell_type": "code",
   "execution_count": 244,
   "metadata": {},
   "outputs": [],
   "source": [
    "power_value_test = pd.Series(power_value_test).astype(float)"
   ]
  },
  {
   "cell_type": "code",
   "execution_count": 245,
   "metadata": {},
   "outputs": [],
   "source": [
    "test_data['Power'] = pd.Series(power_value_test)"
   ]
  },
  {
   "cell_type": "code",
   "execution_count": 162,
   "metadata": {},
   "outputs": [],
   "source": [
    "train_data_processed['Power'] = pd.Series(power_value)"
   ]
  },
  {
   "cell_type": "code",
   "execution_count": 167,
   "metadata": {},
   "outputs": [
    {
     "data": {
      "text/html": [
       "<div>\n",
       "<style scoped>\n",
       "    .dataframe tbody tr th:only-of-type {\n",
       "        vertical-align: middle;\n",
       "    }\n",
       "\n",
       "    .dataframe tbody tr th {\n",
       "        vertical-align: top;\n",
       "    }\n",
       "\n",
       "    .dataframe thead th {\n",
       "        text-align: right;\n",
       "    }\n",
       "</style>\n",
       "<table border=\"1\" class=\"dataframe\">\n",
       "  <thead>\n",
       "    <tr style=\"text-align: right;\">\n",
       "      <th></th>\n",
       "      <th>Year</th>\n",
       "      <th>Kilometers_Driven</th>\n",
       "      <th>Mileage</th>\n",
       "      <th>Engine</th>\n",
       "      <th>Power</th>\n",
       "      <th>Price</th>\n",
       "      <th>No_Years</th>\n",
       "    </tr>\n",
       "  </thead>\n",
       "  <tbody>\n",
       "    <tr>\n",
       "      <th>count</th>\n",
       "      <td>6019.000000</td>\n",
       "      <td>6.019000e+03</td>\n",
       "      <td>6018.000000</td>\n",
       "      <td>6019.000000</td>\n",
       "      <td>6019.000000</td>\n",
       "      <td>6019.000000</td>\n",
       "      <td>6019.000000</td>\n",
       "    </tr>\n",
       "    <tr>\n",
       "      <th>mean</th>\n",
       "      <td>2013.358199</td>\n",
       "      <td>5.873838e+04</td>\n",
       "      <td>18.146903</td>\n",
       "      <td>1620.551088</td>\n",
       "      <td>112.938182</td>\n",
       "      <td>9.479468</td>\n",
       "      <td>6.641801</td>\n",
       "    </tr>\n",
       "    <tr>\n",
       "      <th>std</th>\n",
       "      <td>3.269742</td>\n",
       "      <td>9.126884e+04</td>\n",
       "      <td>4.674620</td>\n",
       "      <td>599.626796</td>\n",
       "      <td>53.269277</td>\n",
       "      <td>11.187917</td>\n",
       "      <td>3.269742</td>\n",
       "    </tr>\n",
       "    <tr>\n",
       "      <th>min</th>\n",
       "      <td>1998.000000</td>\n",
       "      <td>1.710000e+02</td>\n",
       "      <td>0.000000</td>\n",
       "      <td>72.000000</td>\n",
       "      <td>34.200000</td>\n",
       "      <td>0.440000</td>\n",
       "      <td>1.000000</td>\n",
       "    </tr>\n",
       "    <tr>\n",
       "      <th>25%</th>\n",
       "      <td>2011.000000</td>\n",
       "      <td>3.400000e+04</td>\n",
       "      <td>15.170000</td>\n",
       "      <td>1198.000000</td>\n",
       "      <td>78.000000</td>\n",
       "      <td>3.500000</td>\n",
       "      <td>4.000000</td>\n",
       "    </tr>\n",
       "    <tr>\n",
       "      <th>50%</th>\n",
       "      <td>2014.000000</td>\n",
       "      <td>5.300000e+04</td>\n",
       "      <td>18.155000</td>\n",
       "      <td>1493.000000</td>\n",
       "      <td>98.600000</td>\n",
       "      <td>5.640000</td>\n",
       "      <td>6.000000</td>\n",
       "    </tr>\n",
       "    <tr>\n",
       "      <th>75%</th>\n",
       "      <td>2016.000000</td>\n",
       "      <td>7.300000e+04</td>\n",
       "      <td>21.100000</td>\n",
       "      <td>1969.000000</td>\n",
       "      <td>138.030000</td>\n",
       "      <td>9.950000</td>\n",
       "      <td>9.000000</td>\n",
       "    </tr>\n",
       "    <tr>\n",
       "      <th>max</th>\n",
       "      <td>2019.000000</td>\n",
       "      <td>6.500000e+06</td>\n",
       "      <td>90.000000</td>\n",
       "      <td>5998.000000</td>\n",
       "      <td>560.000000</td>\n",
       "      <td>160.000000</td>\n",
       "      <td>22.000000</td>\n",
       "    </tr>\n",
       "  </tbody>\n",
       "</table>\n",
       "</div>"
      ],
      "text/plain": [
       "              Year  Kilometers_Driven      Mileage       Engine        Power  \\\n",
       "count  6019.000000       6.019000e+03  6018.000000  6019.000000  6019.000000   \n",
       "mean   2013.358199       5.873838e+04    18.146903  1620.551088   112.938182   \n",
       "std       3.269742       9.126884e+04     4.674620   599.626796    53.269277   \n",
       "min    1998.000000       1.710000e+02     0.000000    72.000000    34.200000   \n",
       "25%    2011.000000       3.400000e+04    15.170000  1198.000000    78.000000   \n",
       "50%    2014.000000       5.300000e+04    18.155000  1493.000000    98.600000   \n",
       "75%    2016.000000       7.300000e+04    21.100000  1969.000000   138.030000   \n",
       "max    2019.000000       6.500000e+06    90.000000  5998.000000   560.000000   \n",
       "\n",
       "             Price     No_Years  \n",
       "count  6019.000000  6019.000000  \n",
       "mean      9.479468     6.641801  \n",
       "std      11.187917     3.269742  \n",
       "min       0.440000     1.000000  \n",
       "25%       3.500000     4.000000  \n",
       "50%       5.640000     6.000000  \n",
       "75%       9.950000     9.000000  \n",
       "max     160.000000    22.000000  "
      ]
     },
     "execution_count": 167,
     "metadata": {},
     "output_type": "execute_result"
    }
   ],
   "source": [
    "train_data_processed.describe()"
   ]
  },
  {
   "cell_type": "code",
   "execution_count": 69,
   "metadata": {},
   "outputs": [
    {
     "data": {
      "text/plain": [
       "count    5876.000000\n",
       "mean      113.253050\n",
       "std        53.874957\n",
       "min        34.200000\n",
       "25%        75.000000\n",
       "50%        97.700000\n",
       "75%       138.100000\n",
       "max       560.000000\n",
       "Name: Power, dtype: float64"
      ]
     },
     "execution_count": 69,
     "metadata": {},
     "output_type": "execute_result"
    }
   ],
   "source": [
    "power_value.describe()"
   ]
  },
  {
   "cell_type": "markdown",
   "metadata": {},
   "source": [
    "# Missing Value Imputation    Power - 100 (mostly near to median)"
   ]
  },
  {
   "cell_type": "code",
   "execution_count": 166,
   "metadata": {},
   "outputs": [],
   "source": [
    "train_data_processed['Power'] = train_data_processed['Power'].fillna(100.0)"
   ]
  },
  {
   "cell_type": "code",
   "execution_count": 70,
   "metadata": {},
   "outputs": [
    {
     "data": {
      "text/plain": [
       "143"
      ]
     },
     "execution_count": 70,
     "metadata": {},
     "output_type": "execute_result"
    }
   ],
   "source": [
    "pd.isnull(power_value).sum()"
   ]
  },
  {
   "cell_type": "code",
   "execution_count": 72,
   "metadata": {},
   "outputs": [
    {
     "data": {
      "text/plain": [
       "array([ 5.,  7.,  8.,  4.,  6.,  2., nan, 10.,  9.,  0.])"
      ]
     },
     "execution_count": 72,
     "metadata": {},
     "output_type": "execute_result"
    }
   ],
   "source": [
    "train_data.Seats.unique()"
   ]
  },
  {
   "cell_type": "code",
   "execution_count": 73,
   "metadata": {},
   "outputs": [
    {
     "data": {
      "text/plain": [
       "5.0     5014\n",
       "7.0      674\n",
       "8.0      134\n",
       "4.0       99\n",
       "6.0       31\n",
       "2.0       16\n",
       "10.0       5\n",
       "9.0        3\n",
       "0.0        1\n",
       "Name: Seats, dtype: int64"
      ]
     },
     "execution_count": 73,
     "metadata": {},
     "output_type": "execute_result"
    }
   ],
   "source": [
    "train_data.Seats.value_counts()"
   ]
  },
  {
   "cell_type": "code",
   "execution_count": 74,
   "metadata": {},
   "outputs": [
    {
     "data": {
      "text/plain": [
       "42"
      ]
     },
     "execution_count": 74,
     "metadata": {},
     "output_type": "execute_result"
    }
   ],
   "source": [
    "pd.isnull(train_data.Seats).sum()"
   ]
  },
  {
   "cell_type": "code",
   "execution_count": 75,
   "metadata": {},
   "outputs": [
    {
     "data": {
      "text/plain": [
       "(10,)"
      ]
     },
     "execution_count": 75,
     "metadata": {},
     "output_type": "execute_result"
    }
   ],
   "source": [
    "train_data.Seats.unique().shape"
   ]
  },
  {
   "cell_type": "markdown",
   "metadata": {},
   "source": [
    "# Missing Value Imputation"
   ]
  },
  {
   "cell_type": "markdown",
   "metadata": {},
   "source": [
    "Nan's are converted to 0.0 assuming cars with Seat = 0.0 are actually Nan's"
   ]
  },
  {
   "cell_type": "code",
   "execution_count": 85,
   "metadata": {},
   "outputs": [],
   "source": [
    "train_data.Seats = train_data.Seats.fillna(0.0)"
   ]
  },
  {
   "cell_type": "code",
   "execution_count": 86,
   "metadata": {},
   "outputs": [
    {
     "data": {
      "text/plain": [
       "5.0     5014\n",
       "7.0      674\n",
       "8.0      134\n",
       "4.0       99\n",
       "0.0       43\n",
       "6.0       31\n",
       "2.0       16\n",
       "10.0       5\n",
       "9.0        3\n",
       "Name: Seats, dtype: int64"
      ]
     },
     "execution_count": 86,
     "metadata": {},
     "output_type": "execute_result"
    }
   ],
   "source": [
    "train_data.Seats.value_counts()"
   ]
  },
  {
   "cell_type": "code",
   "execution_count": 87,
   "metadata": {},
   "outputs": [
    {
     "data": {
      "text/plain": [
       "pandas.core.series.Series"
      ]
     },
     "execution_count": 87,
     "metadata": {},
     "output_type": "execute_result"
    }
   ],
   "source": [
    "type(train_data.Seats)"
   ]
  },
  {
   "cell_type": "code",
   "execution_count": 88,
   "metadata": {},
   "outputs": [
    {
     "data": {
      "text/plain": [
       "numpy.float64"
      ]
     },
     "execution_count": 88,
     "metadata": {},
     "output_type": "execute_result"
    }
   ],
   "source": [
    "type(train_data.Seats.iloc[0])"
   ]
  },
  {
   "cell_type": "code",
   "execution_count": 89,
   "metadata": {},
   "outputs": [],
   "source": [
    "train_data.Seats = train_data.Seats.astype('category')"
   ]
  },
  {
   "cell_type": "code",
   "execution_count": 90,
   "metadata": {},
   "outputs": [
    {
     "data": {
      "text/plain": [
       "5.0     5014\n",
       "7.0      674\n",
       "8.0      134\n",
       "4.0       99\n",
       "0.0       43\n",
       "6.0       31\n",
       "2.0       16\n",
       "10.0       5\n",
       "9.0        3\n",
       "Name: Seats, dtype: int64"
      ]
     },
     "execution_count": 90,
     "metadata": {},
     "output_type": "execute_result"
    }
   ],
   "source": [
    "train_data.Seats.value_counts()"
   ]
  },
  {
   "cell_type": "code",
   "execution_count": 91,
   "metadata": {},
   "outputs": [],
   "source": [
    "target = train_data.Price"
   ]
  },
  {
   "cell_type": "code",
   "execution_count": 92,
   "metadata": {},
   "outputs": [
    {
     "data": {
      "text/plain": [
       "count    6019.000000\n",
       "mean        9.479468\n",
       "std        11.187917\n",
       "min         0.440000\n",
       "25%         3.500000\n",
       "50%         5.640000\n",
       "75%         9.950000\n",
       "max       160.000000\n",
       "Name: Price, dtype: float64"
      ]
     },
     "execution_count": 92,
     "metadata": {},
     "output_type": "execute_result"
    }
   ],
   "source": [
    "target.describe()"
   ]
  },
  {
   "cell_type": "code",
   "execution_count": 133,
   "metadata": {},
   "outputs": [
    {
     "data": {
      "text/html": [
       "<div>\n",
       "<style scoped>\n",
       "    .dataframe tbody tr th:only-of-type {\n",
       "        vertical-align: middle;\n",
       "    }\n",
       "\n",
       "    .dataframe tbody tr th {\n",
       "        vertical-align: top;\n",
       "    }\n",
       "\n",
       "    .dataframe thead th {\n",
       "        text-align: right;\n",
       "    }\n",
       "</style>\n",
       "<table border=\"1\" class=\"dataframe\">\n",
       "  <thead>\n",
       "    <tr style=\"text-align: right;\">\n",
       "      <th></th>\n",
       "      <th>Name</th>\n",
       "      <th>Location</th>\n",
       "      <th>Year</th>\n",
       "      <th>Kilometers_Driven</th>\n",
       "      <th>Fuel_Type</th>\n",
       "      <th>Transmission</th>\n",
       "      <th>Owner_Type</th>\n",
       "      <th>Mileage</th>\n",
       "      <th>Engine</th>\n",
       "      <th>Power</th>\n",
       "      <th>Seats</th>\n",
       "      <th>New_Price</th>\n",
       "      <th>Price</th>\n",
       "      <th>No_Years</th>\n",
       "    </tr>\n",
       "  </thead>\n",
       "  <tbody>\n",
       "    <tr>\n",
       "      <th>14</th>\n",
       "      <td>Land Rover Freelander 2 TD4 SE</td>\n",
       "      <td>Pune</td>\n",
       "      <td>2012</td>\n",
       "      <td>85000</td>\n",
       "      <td>Diesel</td>\n",
       "      <td>Automatic</td>\n",
       "      <td>Second</td>\n",
       "      <td>0.0</td>\n",
       "      <td>2179.0</td>\n",
       "      <td>115.00</td>\n",
       "      <td>5.0</td>\n",
       "      <td>NaN</td>\n",
       "      <td>17.50</td>\n",
       "      <td>8</td>\n",
       "    </tr>\n",
       "    <tr>\n",
       "      <th>67</th>\n",
       "      <td>Mercedes-Benz C-Class Progressive C 220d</td>\n",
       "      <td>Coimbatore</td>\n",
       "      <td>2019</td>\n",
       "      <td>15369</td>\n",
       "      <td>Diesel</td>\n",
       "      <td>Automatic</td>\n",
       "      <td>First</td>\n",
       "      <td>0.0</td>\n",
       "      <td>1950.0</td>\n",
       "      <td>194.00</td>\n",
       "      <td>5.0</td>\n",
       "      <td>49.14 Lakh</td>\n",
       "      <td>35.67</td>\n",
       "      <td>1</td>\n",
       "    </tr>\n",
       "    <tr>\n",
       "      <th>79</th>\n",
       "      <td>Hyundai Santro Xing XL</td>\n",
       "      <td>Hyderabad</td>\n",
       "      <td>2005</td>\n",
       "      <td>87591</td>\n",
       "      <td>Petrol</td>\n",
       "      <td>Manual</td>\n",
       "      <td>First</td>\n",
       "      <td>0.0</td>\n",
       "      <td>1086.0</td>\n",
       "      <td>NaN</td>\n",
       "      <td>5.0</td>\n",
       "      <td>NaN</td>\n",
       "      <td>1.30</td>\n",
       "      <td>15</td>\n",
       "    </tr>\n",
       "    <tr>\n",
       "      <th>194</th>\n",
       "      <td>Honda City 1.5 GXI</td>\n",
       "      <td>Ahmedabad</td>\n",
       "      <td>2007</td>\n",
       "      <td>60006</td>\n",
       "      <td>Petrol</td>\n",
       "      <td>Manual</td>\n",
       "      <td>First</td>\n",
       "      <td>0.0</td>\n",
       "      <td>NaN</td>\n",
       "      <td>NaN</td>\n",
       "      <td>0.0</td>\n",
       "      <td>NaN</td>\n",
       "      <td>2.95</td>\n",
       "      <td>13</td>\n",
       "    </tr>\n",
       "    <tr>\n",
       "      <th>229</th>\n",
       "      <td>Ford Figo Diesel</td>\n",
       "      <td>Bangalore</td>\n",
       "      <td>2015</td>\n",
       "      <td>70436</td>\n",
       "      <td>Diesel</td>\n",
       "      <td>Manual</td>\n",
       "      <td>First</td>\n",
       "      <td>0.0</td>\n",
       "      <td>1498.0</td>\n",
       "      <td>99.00</td>\n",
       "      <td>0.0</td>\n",
       "      <td>NaN</td>\n",
       "      <td>3.60</td>\n",
       "      <td>5</td>\n",
       "    </tr>\n",
       "    <tr>\n",
       "      <th>262</th>\n",
       "      <td>Hyundai Santro Xing XL</td>\n",
       "      <td>Hyderabad</td>\n",
       "      <td>2006</td>\n",
       "      <td>99000</td>\n",
       "      <td>Petrol</td>\n",
       "      <td>Manual</td>\n",
       "      <td>First</td>\n",
       "      <td>0.0</td>\n",
       "      <td>1086.0</td>\n",
       "      <td>NaN</td>\n",
       "      <td>5.0</td>\n",
       "      <td>NaN</td>\n",
       "      <td>1.75</td>\n",
       "      <td>14</td>\n",
       "    </tr>\n",
       "    <tr>\n",
       "      <th>307</th>\n",
       "      <td>Hyundai Santro Xing XL</td>\n",
       "      <td>Chennai</td>\n",
       "      <td>2006</td>\n",
       "      <td>58000</td>\n",
       "      <td>Petrol</td>\n",
       "      <td>Manual</td>\n",
       "      <td>Second</td>\n",
       "      <td>0.0</td>\n",
       "      <td>1086.0</td>\n",
       "      <td>NaN</td>\n",
       "      <td>5.0</td>\n",
       "      <td>NaN</td>\n",
       "      <td>1.50</td>\n",
       "      <td>14</td>\n",
       "    </tr>\n",
       "    <tr>\n",
       "      <th>424</th>\n",
       "      <td>Volkswagen Jetta 2007-2011 1.9 L TDI</td>\n",
       "      <td>Hyderabad</td>\n",
       "      <td>2010</td>\n",
       "      <td>42021</td>\n",
       "      <td>Diesel</td>\n",
       "      <td>Manual</td>\n",
       "      <td>First</td>\n",
       "      <td>0.0</td>\n",
       "      <td>1968.0</td>\n",
       "      <td>NaN</td>\n",
       "      <td>5.0</td>\n",
       "      <td>NaN</td>\n",
       "      <td>5.45</td>\n",
       "      <td>10</td>\n",
       "    </tr>\n",
       "    <tr>\n",
       "      <th>443</th>\n",
       "      <td>Hyundai Santro GLS I - Euro I</td>\n",
       "      <td>Coimbatore</td>\n",
       "      <td>2012</td>\n",
       "      <td>50243</td>\n",
       "      <td>Petrol</td>\n",
       "      <td>Manual</td>\n",
       "      <td>First</td>\n",
       "      <td>0.0</td>\n",
       "      <td>1086.0</td>\n",
       "      <td>NaN</td>\n",
       "      <td>5.0</td>\n",
       "      <td>NaN</td>\n",
       "      <td>3.35</td>\n",
       "      <td>8</td>\n",
       "    </tr>\n",
       "    <tr>\n",
       "      <th>544</th>\n",
       "      <td>Mercedes-Benz New C-Class Progressive C 200</td>\n",
       "      <td>Kochi</td>\n",
       "      <td>2019</td>\n",
       "      <td>13190</td>\n",
       "      <td>Petrol</td>\n",
       "      <td>Automatic</td>\n",
       "      <td>First</td>\n",
       "      <td>0.0</td>\n",
       "      <td>1950.0</td>\n",
       "      <td>181.43</td>\n",
       "      <td>5.0</td>\n",
       "      <td>49.49 Lakh</td>\n",
       "      <td>38.99</td>\n",
       "      <td>1</td>\n",
       "    </tr>\n",
       "    <tr>\n",
       "      <th>631</th>\n",
       "      <td>Hyundai Santro LS zipPlus</td>\n",
       "      <td>Chennai</td>\n",
       "      <td>2002</td>\n",
       "      <td>70000</td>\n",
       "      <td>Petrol</td>\n",
       "      <td>Manual</td>\n",
       "      <td>Third</td>\n",
       "      <td>0.0</td>\n",
       "      <td>1086.0</td>\n",
       "      <td>NaN</td>\n",
       "      <td>5.0</td>\n",
       "      <td>NaN</td>\n",
       "      <td>0.65</td>\n",
       "      <td>18</td>\n",
       "    </tr>\n",
       "    <tr>\n",
       "      <th>647</th>\n",
       "      <td>Hyundai Santro Xing XP</td>\n",
       "      <td>Jaipur</td>\n",
       "      <td>2004</td>\n",
       "      <td>200000</td>\n",
       "      <td>Petrol</td>\n",
       "      <td>Manual</td>\n",
       "      <td>First</td>\n",
       "      <td>0.0</td>\n",
       "      <td>1086.0</td>\n",
       "      <td>NaN</td>\n",
       "      <td>5.0</td>\n",
       "      <td>NaN</td>\n",
       "      <td>0.80</td>\n",
       "      <td>16</td>\n",
       "    </tr>\n",
       "    <tr>\n",
       "      <th>707</th>\n",
       "      <td>Mercedes-Benz M-Class ML 350 4Matic</td>\n",
       "      <td>Pune</td>\n",
       "      <td>2014</td>\n",
       "      <td>120000</td>\n",
       "      <td>Diesel</td>\n",
       "      <td>Automatic</td>\n",
       "      <td>First</td>\n",
       "      <td>0.0</td>\n",
       "      <td>2987.0</td>\n",
       "      <td>165.00</td>\n",
       "      <td>5.0</td>\n",
       "      <td>NaN</td>\n",
       "      <td>30.00</td>\n",
       "      <td>6</td>\n",
       "    </tr>\n",
       "    <tr>\n",
       "      <th>749</th>\n",
       "      <td>Land Rover Range Rover 3.0 D</td>\n",
       "      <td>Mumbai</td>\n",
       "      <td>2008</td>\n",
       "      <td>55001</td>\n",
       "      <td>Diesel</td>\n",
       "      <td>Automatic</td>\n",
       "      <td>Second</td>\n",
       "      <td>0.0</td>\n",
       "      <td>NaN</td>\n",
       "      <td>NaN</td>\n",
       "      <td>0.0</td>\n",
       "      <td>NaN</td>\n",
       "      <td>26.50</td>\n",
       "      <td>12</td>\n",
       "    </tr>\n",
       "    <tr>\n",
       "      <th>915</th>\n",
       "      <td>Smart Fortwo CDI AT</td>\n",
       "      <td>Pune</td>\n",
       "      <td>2008</td>\n",
       "      <td>103000</td>\n",
       "      <td>Diesel</td>\n",
       "      <td>Automatic</td>\n",
       "      <td>Second</td>\n",
       "      <td>0.0</td>\n",
       "      <td>799.0</td>\n",
       "      <td>NaN</td>\n",
       "      <td>2.0</td>\n",
       "      <td>NaN</td>\n",
       "      <td>3.00</td>\n",
       "      <td>12</td>\n",
       "    </tr>\n",
       "    <tr>\n",
       "      <th>962</th>\n",
       "      <td>Mercedes-Benz C-Class Progressive C 220d</td>\n",
       "      <td>Mumbai</td>\n",
       "      <td>2018</td>\n",
       "      <td>8682</td>\n",
       "      <td>Diesel</td>\n",
       "      <td>Automatic</td>\n",
       "      <td>First</td>\n",
       "      <td>0.0</td>\n",
       "      <td>1950.0</td>\n",
       "      <td>194.00</td>\n",
       "      <td>5.0</td>\n",
       "      <td>52.26 Lakh</td>\n",
       "      <td>39.50</td>\n",
       "      <td>2</td>\n",
       "    </tr>\n",
       "    <tr>\n",
       "      <th>996</th>\n",
       "      <td>Hyundai Santro Xing GL</td>\n",
       "      <td>Pune</td>\n",
       "      <td>2008</td>\n",
       "      <td>93000</td>\n",
       "      <td>Petrol</td>\n",
       "      <td>Manual</td>\n",
       "      <td>First</td>\n",
       "      <td>0.0</td>\n",
       "      <td>1086.0</td>\n",
       "      <td>62.00</td>\n",
       "      <td>5.0</td>\n",
       "      <td>NaN</td>\n",
       "      <td>1.45</td>\n",
       "      <td>12</td>\n",
       "    </tr>\n",
       "    <tr>\n",
       "      <th>1059</th>\n",
       "      <td>Hyundai Santro Xing GL</td>\n",
       "      <td>Hyderabad</td>\n",
       "      <td>2010</td>\n",
       "      <td>58163</td>\n",
       "      <td>Petrol</td>\n",
       "      <td>Manual</td>\n",
       "      <td>First</td>\n",
       "      <td>0.0</td>\n",
       "      <td>1086.0</td>\n",
       "      <td>62.00</td>\n",
       "      <td>5.0</td>\n",
       "      <td>NaN</td>\n",
       "      <td>2.45</td>\n",
       "      <td>10</td>\n",
       "    </tr>\n",
       "    <tr>\n",
       "      <th>1259</th>\n",
       "      <td>Land Rover Freelander 2 TD4 S</td>\n",
       "      <td>Bangalore</td>\n",
       "      <td>2010</td>\n",
       "      <td>125000</td>\n",
       "      <td>Diesel</td>\n",
       "      <td>Automatic</td>\n",
       "      <td>Second</td>\n",
       "      <td>0.0</td>\n",
       "      <td>2179.0</td>\n",
       "      <td>115.00</td>\n",
       "      <td>5.0</td>\n",
       "      <td>NaN</td>\n",
       "      <td>11.00</td>\n",
       "      <td>10</td>\n",
       "    </tr>\n",
       "    <tr>\n",
       "      <th>1271</th>\n",
       "      <td>Hyundai Santro GLS I - Euro II</td>\n",
       "      <td>Jaipur</td>\n",
       "      <td>2009</td>\n",
       "      <td>89000</td>\n",
       "      <td>Petrol</td>\n",
       "      <td>Manual</td>\n",
       "      <td>Second</td>\n",
       "      <td>0.0</td>\n",
       "      <td>999.0</td>\n",
       "      <td>NaN</td>\n",
       "      <td>5.0</td>\n",
       "      <td>NaN</td>\n",
       "      <td>1.60</td>\n",
       "      <td>11</td>\n",
       "    </tr>\n",
       "    <tr>\n",
       "      <th>1308</th>\n",
       "      <td>Mercedes-Benz M-Class ML 350 4Matic</td>\n",
       "      <td>Bangalore</td>\n",
       "      <td>2014</td>\n",
       "      <td>33000</td>\n",
       "      <td>Diesel</td>\n",
       "      <td>Automatic</td>\n",
       "      <td>Second</td>\n",
       "      <td>0.0</td>\n",
       "      <td>2987.0</td>\n",
       "      <td>165.00</td>\n",
       "      <td>5.0</td>\n",
       "      <td>NaN</td>\n",
       "      <td>43.00</td>\n",
       "      <td>6</td>\n",
       "    </tr>\n",
       "    <tr>\n",
       "      <th>1345</th>\n",
       "      <td>Maruti Baleno Vxi</td>\n",
       "      <td>Pune</td>\n",
       "      <td>2005</td>\n",
       "      <td>70000</td>\n",
       "      <td>Petrol</td>\n",
       "      <td>Manual</td>\n",
       "      <td>First</td>\n",
       "      <td>0.0</td>\n",
       "      <td>1590.0</td>\n",
       "      <td>NaN</td>\n",
       "      <td>5.0</td>\n",
       "      <td>NaN</td>\n",
       "      <td>1.30</td>\n",
       "      <td>15</td>\n",
       "    </tr>\n",
       "    <tr>\n",
       "      <th>1354</th>\n",
       "      <td>Hyundai Santro Xing GL</td>\n",
       "      <td>Kochi</td>\n",
       "      <td>2011</td>\n",
       "      <td>20842</td>\n",
       "      <td>Petrol</td>\n",
       "      <td>Manual</td>\n",
       "      <td>First</td>\n",
       "      <td>0.0</td>\n",
       "      <td>1086.0</td>\n",
       "      <td>62.00</td>\n",
       "      <td>5.0</td>\n",
       "      <td>NaN</td>\n",
       "      <td>2.78</td>\n",
       "      <td>9</td>\n",
       "    </tr>\n",
       "    <tr>\n",
       "      <th>1385</th>\n",
       "      <td>Honda City 1.5 GXI</td>\n",
       "      <td>Pune</td>\n",
       "      <td>2004</td>\n",
       "      <td>115000</td>\n",
       "      <td>Petrol</td>\n",
       "      <td>Manual</td>\n",
       "      <td>Second</td>\n",
       "      <td>0.0</td>\n",
       "      <td>NaN</td>\n",
       "      <td>NaN</td>\n",
       "      <td>0.0</td>\n",
       "      <td>NaN</td>\n",
       "      <td>1.50</td>\n",
       "      <td>16</td>\n",
       "    </tr>\n",
       "    <tr>\n",
       "      <th>1419</th>\n",
       "      <td>Hyundai Santro Xing XL</td>\n",
       "      <td>Chennai</td>\n",
       "      <td>2007</td>\n",
       "      <td>82000</td>\n",
       "      <td>Petrol</td>\n",
       "      <td>Manual</td>\n",
       "      <td>Second</td>\n",
       "      <td>0.0</td>\n",
       "      <td>1086.0</td>\n",
       "      <td>NaN</td>\n",
       "      <td>5.0</td>\n",
       "      <td>NaN</td>\n",
       "      <td>1.35</td>\n",
       "      <td>13</td>\n",
       "    </tr>\n",
       "    <tr>\n",
       "      <th>1460</th>\n",
       "      <td>Land Rover Range Rover Sport 2005 2012 Sport</td>\n",
       "      <td>Coimbatore</td>\n",
       "      <td>2008</td>\n",
       "      <td>69078</td>\n",
       "      <td>Petrol</td>\n",
       "      <td>Manual</td>\n",
       "      <td>First</td>\n",
       "      <td>0.0</td>\n",
       "      <td>NaN</td>\n",
       "      <td>NaN</td>\n",
       "      <td>0.0</td>\n",
       "      <td>NaN</td>\n",
       "      <td>40.88</td>\n",
       "      <td>12</td>\n",
       "    </tr>\n",
       "    <tr>\n",
       "      <th>1764</th>\n",
       "      <td>Mercedes-Benz M-Class ML 350 4Matic</td>\n",
       "      <td>Pune</td>\n",
       "      <td>2015</td>\n",
       "      <td>69000</td>\n",
       "      <td>Diesel</td>\n",
       "      <td>Automatic</td>\n",
       "      <td>First</td>\n",
       "      <td>0.0</td>\n",
       "      <td>2987.0</td>\n",
       "      <td>165.00</td>\n",
       "      <td>5.0</td>\n",
       "      <td>NaN</td>\n",
       "      <td>38.00</td>\n",
       "      <td>5</td>\n",
       "    </tr>\n",
       "    <tr>\n",
       "      <th>1857</th>\n",
       "      <td>Hyundai Santro DX</td>\n",
       "      <td>Hyderabad</td>\n",
       "      <td>2007</td>\n",
       "      <td>96000</td>\n",
       "      <td>Petrol</td>\n",
       "      <td>Manual</td>\n",
       "      <td>Second</td>\n",
       "      <td>0.0</td>\n",
       "      <td>999.0</td>\n",
       "      <td>NaN</td>\n",
       "      <td>5.0</td>\n",
       "      <td>NaN</td>\n",
       "      <td>2.20</td>\n",
       "      <td>13</td>\n",
       "    </tr>\n",
       "    <tr>\n",
       "      <th>2053</th>\n",
       "      <td>Mahindra Jeep MM 550 PE</td>\n",
       "      <td>Hyderabad</td>\n",
       "      <td>2009</td>\n",
       "      <td>26000</td>\n",
       "      <td>Diesel</td>\n",
       "      <td>Manual</td>\n",
       "      <td>First</td>\n",
       "      <td>0.0</td>\n",
       "      <td>2498.0</td>\n",
       "      <td>NaN</td>\n",
       "      <td>6.0</td>\n",
       "      <td>NaN</td>\n",
       "      <td>6.99</td>\n",
       "      <td>11</td>\n",
       "    </tr>\n",
       "    <tr>\n",
       "      <th>2096</th>\n",
       "      <td>Hyundai Santro LP zipPlus</td>\n",
       "      <td>Coimbatore</td>\n",
       "      <td>2004</td>\n",
       "      <td>52146</td>\n",
       "      <td>Petrol</td>\n",
       "      <td>Manual</td>\n",
       "      <td>First</td>\n",
       "      <td>0.0</td>\n",
       "      <td>NaN</td>\n",
       "      <td>NaN</td>\n",
       "      <td>0.0</td>\n",
       "      <td>NaN</td>\n",
       "      <td>1.93</td>\n",
       "      <td>16</td>\n",
       "    </tr>\n",
       "    <tr>\n",
       "      <th>...</th>\n",
       "      <td>...</td>\n",
       "      <td>...</td>\n",
       "      <td>...</td>\n",
       "      <td>...</td>\n",
       "      <td>...</td>\n",
       "      <td>...</td>\n",
       "      <td>...</td>\n",
       "      <td>...</td>\n",
       "      <td>...</td>\n",
       "      <td>...</td>\n",
       "      <td>...</td>\n",
       "      <td>...</td>\n",
       "      <td>...</td>\n",
       "      <td>...</td>\n",
       "    </tr>\n",
       "    <tr>\n",
       "      <th>3033</th>\n",
       "      <td>Hyundai Santro Xing XP</td>\n",
       "      <td>Jaipur</td>\n",
       "      <td>2005</td>\n",
       "      <td>120000</td>\n",
       "      <td>Petrol</td>\n",
       "      <td>Manual</td>\n",
       "      <td>First</td>\n",
       "      <td>0.0</td>\n",
       "      <td>1086.0</td>\n",
       "      <td>NaN</td>\n",
       "      <td>5.0</td>\n",
       "      <td>NaN</td>\n",
       "      <td>1.15</td>\n",
       "      <td>15</td>\n",
       "    </tr>\n",
       "    <tr>\n",
       "      <th>3044</th>\n",
       "      <td>Hyundai Santro Xing GL</td>\n",
       "      <td>Kolkata</td>\n",
       "      <td>2009</td>\n",
       "      <td>60170</td>\n",
       "      <td>Petrol</td>\n",
       "      <td>Manual</td>\n",
       "      <td>First</td>\n",
       "      <td>0.0</td>\n",
       "      <td>1086.0</td>\n",
       "      <td>62.00</td>\n",
       "      <td>5.0</td>\n",
       "      <td>NaN</td>\n",
       "      <td>1.15</td>\n",
       "      <td>11</td>\n",
       "    </tr>\n",
       "    <tr>\n",
       "      <th>3061</th>\n",
       "      <td>Hyundai Santro GS</td>\n",
       "      <td>Ahmedabad</td>\n",
       "      <td>2005</td>\n",
       "      <td>58000</td>\n",
       "      <td>Petrol</td>\n",
       "      <td>Manual</td>\n",
       "      <td>Second</td>\n",
       "      <td>0.0</td>\n",
       "      <td>999.0</td>\n",
       "      <td>NaN</td>\n",
       "      <td>5.0</td>\n",
       "      <td>NaN</td>\n",
       "      <td>1.51</td>\n",
       "      <td>15</td>\n",
       "    </tr>\n",
       "    <tr>\n",
       "      <th>3093</th>\n",
       "      <td>Audi A7 2011-2015 Sportback</td>\n",
       "      <td>Kolkata</td>\n",
       "      <td>2012</td>\n",
       "      <td>24720</td>\n",
       "      <td>Diesel</td>\n",
       "      <td>Automatic</td>\n",
       "      <td>Second</td>\n",
       "      <td>0.0</td>\n",
       "      <td>2967.0</td>\n",
       "      <td>241.40</td>\n",
       "      <td>5.0</td>\n",
       "      <td>NaN</td>\n",
       "      <td>28.00</td>\n",
       "      <td>8</td>\n",
       "    </tr>\n",
       "    <tr>\n",
       "      <th>3189</th>\n",
       "      <td>Hyundai Santro GS zipDrive - Euro II</td>\n",
       "      <td>Chennai</td>\n",
       "      <td>2002</td>\n",
       "      <td>67000</td>\n",
       "      <td>Petrol</td>\n",
       "      <td>Manual</td>\n",
       "      <td>Third</td>\n",
       "      <td>0.0</td>\n",
       "      <td>999.0</td>\n",
       "      <td>NaN</td>\n",
       "      <td>5.0</td>\n",
       "      <td>NaN</td>\n",
       "      <td>1.20</td>\n",
       "      <td>18</td>\n",
       "    </tr>\n",
       "    <tr>\n",
       "      <th>3210</th>\n",
       "      <td>Mercedes-Benz M-Class ML 350 4Matic</td>\n",
       "      <td>Coimbatore</td>\n",
       "      <td>2016</td>\n",
       "      <td>22769</td>\n",
       "      <td>Diesel</td>\n",
       "      <td>Automatic</td>\n",
       "      <td>First</td>\n",
       "      <td>0.0</td>\n",
       "      <td>2987.0</td>\n",
       "      <td>165.00</td>\n",
       "      <td>5.0</td>\n",
       "      <td>NaN</td>\n",
       "      <td>49.22</td>\n",
       "      <td>4</td>\n",
       "    </tr>\n",
       "    <tr>\n",
       "      <th>3271</th>\n",
       "      <td>Hyundai Santro Xing GL</td>\n",
       "      <td>Bangalore</td>\n",
       "      <td>2008</td>\n",
       "      <td>35268</td>\n",
       "      <td>Petrol</td>\n",
       "      <td>Manual</td>\n",
       "      <td>Second</td>\n",
       "      <td>0.0</td>\n",
       "      <td>1086.0</td>\n",
       "      <td>62.00</td>\n",
       "      <td>5.0</td>\n",
       "      <td>NaN</td>\n",
       "      <td>1.88</td>\n",
       "      <td>12</td>\n",
       "    </tr>\n",
       "    <tr>\n",
       "      <th>3516</th>\n",
       "      <td>Hyundai Santro GLS I - Euro I</td>\n",
       "      <td>Pune</td>\n",
       "      <td>2011</td>\n",
       "      <td>65400</td>\n",
       "      <td>Petrol</td>\n",
       "      <td>Manual</td>\n",
       "      <td>First</td>\n",
       "      <td>0.0</td>\n",
       "      <td>1086.0</td>\n",
       "      <td>NaN</td>\n",
       "      <td>5.0</td>\n",
       "      <td>NaN</td>\n",
       "      <td>2.10</td>\n",
       "      <td>9</td>\n",
       "    </tr>\n",
       "    <tr>\n",
       "      <th>3522</th>\n",
       "      <td>Hyundai Santro GLS II - Euro II</td>\n",
       "      <td>Kochi</td>\n",
       "      <td>2012</td>\n",
       "      <td>66400</td>\n",
       "      <td>Petrol</td>\n",
       "      <td>Manual</td>\n",
       "      <td>First</td>\n",
       "      <td>0.0</td>\n",
       "      <td>NaN</td>\n",
       "      <td>NaN</td>\n",
       "      <td>0.0</td>\n",
       "      <td>NaN</td>\n",
       "      <td>2.66</td>\n",
       "      <td>8</td>\n",
       "    </tr>\n",
       "    <tr>\n",
       "      <th>3645</th>\n",
       "      <td>Hyundai Santro Xing XP</td>\n",
       "      <td>Bangalore</td>\n",
       "      <td>2004</td>\n",
       "      <td>167000</td>\n",
       "      <td>Petrol</td>\n",
       "      <td>Manual</td>\n",
       "      <td>First</td>\n",
       "      <td>0.0</td>\n",
       "      <td>1086.0</td>\n",
       "      <td>NaN</td>\n",
       "      <td>5.0</td>\n",
       "      <td>NaN</td>\n",
       "      <td>1.35</td>\n",
       "      <td>16</td>\n",
       "    </tr>\n",
       "    <tr>\n",
       "      <th>4152</th>\n",
       "      <td>Land Rover Range Rover 3.0 D</td>\n",
       "      <td>Mumbai</td>\n",
       "      <td>2003</td>\n",
       "      <td>75000</td>\n",
       "      <td>Diesel</td>\n",
       "      <td>Automatic</td>\n",
       "      <td>Second</td>\n",
       "      <td>0.0</td>\n",
       "      <td>NaN</td>\n",
       "      <td>NaN</td>\n",
       "      <td>0.0</td>\n",
       "      <td>NaN</td>\n",
       "      <td>16.11</td>\n",
       "      <td>17</td>\n",
       "    </tr>\n",
       "    <tr>\n",
       "      <th>4234</th>\n",
       "      <td>Mercedes-Benz M-Class ML 350 4Matic</td>\n",
       "      <td>Chennai</td>\n",
       "      <td>2012</td>\n",
       "      <td>63000</td>\n",
       "      <td>Diesel</td>\n",
       "      <td>Automatic</td>\n",
       "      <td>First</td>\n",
       "      <td>0.0</td>\n",
       "      <td>2987.0</td>\n",
       "      <td>165.00</td>\n",
       "      <td>5.0</td>\n",
       "      <td>NaN</td>\n",
       "      <td>26.00</td>\n",
       "      <td>8</td>\n",
       "    </tr>\n",
       "    <tr>\n",
       "      <th>4302</th>\n",
       "      <td>Hyundai Santro Xing GL</td>\n",
       "      <td>Delhi</td>\n",
       "      <td>2012</td>\n",
       "      <td>61449</td>\n",
       "      <td>Petrol</td>\n",
       "      <td>Manual</td>\n",
       "      <td>First</td>\n",
       "      <td>0.0</td>\n",
       "      <td>1086.0</td>\n",
       "      <td>62.00</td>\n",
       "      <td>5.0</td>\n",
       "      <td>NaN</td>\n",
       "      <td>2.15</td>\n",
       "      <td>8</td>\n",
       "    </tr>\n",
       "    <tr>\n",
       "      <th>4412</th>\n",
       "      <td>Mercedes-Benz M-Class ML 350 4Matic</td>\n",
       "      <td>Coimbatore</td>\n",
       "      <td>2016</td>\n",
       "      <td>27833</td>\n",
       "      <td>Diesel</td>\n",
       "      <td>Automatic</td>\n",
       "      <td>First</td>\n",
       "      <td>0.0</td>\n",
       "      <td>2987.0</td>\n",
       "      <td>165.00</td>\n",
       "      <td>5.0</td>\n",
       "      <td>NaN</td>\n",
       "      <td>49.24</td>\n",
       "      <td>4</td>\n",
       "    </tr>\n",
       "    <tr>\n",
       "      <th>4629</th>\n",
       "      <td>Fiat Siena 1.2 ELX</td>\n",
       "      <td>Jaipur</td>\n",
       "      <td>2001</td>\n",
       "      <td>70000</td>\n",
       "      <td>Petrol</td>\n",
       "      <td>Manual</td>\n",
       "      <td>Third</td>\n",
       "      <td>0.0</td>\n",
       "      <td>1242.0</td>\n",
       "      <td>NaN</td>\n",
       "      <td>5.0</td>\n",
       "      <td>NaN</td>\n",
       "      <td>0.55</td>\n",
       "      <td>19</td>\n",
       "    </tr>\n",
       "    <tr>\n",
       "      <th>4687</th>\n",
       "      <td>Land Rover Freelander 2 TD4 SE</td>\n",
       "      <td>Jaipur</td>\n",
       "      <td>2012</td>\n",
       "      <td>119203</td>\n",
       "      <td>Diesel</td>\n",
       "      <td>Automatic</td>\n",
       "      <td>First</td>\n",
       "      <td>0.0</td>\n",
       "      <td>2179.0</td>\n",
       "      <td>115.00</td>\n",
       "      <td>5.0</td>\n",
       "      <td>NaN</td>\n",
       "      <td>16.50</td>\n",
       "      <td>8</td>\n",
       "    </tr>\n",
       "    <tr>\n",
       "      <th>4704</th>\n",
       "      <td>Mercedes-Benz M-Class ML 350 4Matic</td>\n",
       "      <td>Bangalore</td>\n",
       "      <td>2015</td>\n",
       "      <td>20000</td>\n",
       "      <td>Diesel</td>\n",
       "      <td>Automatic</td>\n",
       "      <td>First</td>\n",
       "      <td>0.0</td>\n",
       "      <td>2987.0</td>\n",
       "      <td>165.00</td>\n",
       "      <td>5.0</td>\n",
       "      <td>NaN</td>\n",
       "      <td>47.35</td>\n",
       "      <td>5</td>\n",
       "    </tr>\n",
       "    <tr>\n",
       "      <th>5016</th>\n",
       "      <td>Land Rover Freelander 2 TD4 HSE</td>\n",
       "      <td>Delhi</td>\n",
       "      <td>2013</td>\n",
       "      <td>72000</td>\n",
       "      <td>Diesel</td>\n",
       "      <td>Automatic</td>\n",
       "      <td>First</td>\n",
       "      <td>0.0</td>\n",
       "      <td>2179.0</td>\n",
       "      <td>115.00</td>\n",
       "      <td>5.0</td>\n",
       "      <td>NaN</td>\n",
       "      <td>15.50</td>\n",
       "      <td>7</td>\n",
       "    </tr>\n",
       "    <tr>\n",
       "      <th>5022</th>\n",
       "      <td>Land Rover Freelander 2 TD4 SE</td>\n",
       "      <td>Hyderabad</td>\n",
       "      <td>2013</td>\n",
       "      <td>46000</td>\n",
       "      <td>Diesel</td>\n",
       "      <td>Automatic</td>\n",
       "      <td>Second</td>\n",
       "      <td>0.0</td>\n",
       "      <td>2179.0</td>\n",
       "      <td>115.00</td>\n",
       "      <td>5.0</td>\n",
       "      <td>NaN</td>\n",
       "      <td>26.00</td>\n",
       "      <td>7</td>\n",
       "    </tr>\n",
       "    <tr>\n",
       "      <th>5119</th>\n",
       "      <td>Hyundai Santro Xing XP</td>\n",
       "      <td>Kolkata</td>\n",
       "      <td>2008</td>\n",
       "      <td>45500</td>\n",
       "      <td>Petrol</td>\n",
       "      <td>Manual</td>\n",
       "      <td>Second</td>\n",
       "      <td>0.0</td>\n",
       "      <td>1086.0</td>\n",
       "      <td>NaN</td>\n",
       "      <td>5.0</td>\n",
       "      <td>NaN</td>\n",
       "      <td>1.17</td>\n",
       "      <td>12</td>\n",
       "    </tr>\n",
       "    <tr>\n",
       "      <th>5270</th>\n",
       "      <td>Honda City 1.5 GXI</td>\n",
       "      <td>Bangalore</td>\n",
       "      <td>2002</td>\n",
       "      <td>53000</td>\n",
       "      <td>Petrol</td>\n",
       "      <td>Manual</td>\n",
       "      <td>Second</td>\n",
       "      <td>0.0</td>\n",
       "      <td>NaN</td>\n",
       "      <td>NaN</td>\n",
       "      <td>0.0</td>\n",
       "      <td>NaN</td>\n",
       "      <td>1.85</td>\n",
       "      <td>18</td>\n",
       "    </tr>\n",
       "    <tr>\n",
       "      <th>5311</th>\n",
       "      <td>Land Rover Freelander 2 TD4 SE</td>\n",
       "      <td>Hyderabad</td>\n",
       "      <td>2012</td>\n",
       "      <td>139000</td>\n",
       "      <td>Diesel</td>\n",
       "      <td>Automatic</td>\n",
       "      <td>First</td>\n",
       "      <td>0.0</td>\n",
       "      <td>2179.0</td>\n",
       "      <td>115.00</td>\n",
       "      <td>5.0</td>\n",
       "      <td>NaN</td>\n",
       "      <td>16.75</td>\n",
       "      <td>8</td>\n",
       "    </tr>\n",
       "    <tr>\n",
       "      <th>5374</th>\n",
       "      <td>Mercedes-Benz M-Class ML 350 4Matic</td>\n",
       "      <td>Ahmedabad</td>\n",
       "      <td>2012</td>\n",
       "      <td>66000</td>\n",
       "      <td>Diesel</td>\n",
       "      <td>Automatic</td>\n",
       "      <td>First</td>\n",
       "      <td>0.0</td>\n",
       "      <td>2987.0</td>\n",
       "      <td>165.00</td>\n",
       "      <td>5.0</td>\n",
       "      <td>NaN</td>\n",
       "      <td>23.00</td>\n",
       "      <td>8</td>\n",
       "    </tr>\n",
       "    <tr>\n",
       "      <th>5426</th>\n",
       "      <td>Hyundai Santro Xing XL</td>\n",
       "      <td>Chennai</td>\n",
       "      <td>2006</td>\n",
       "      <td>85000</td>\n",
       "      <td>Petrol</td>\n",
       "      <td>Manual</td>\n",
       "      <td>Third</td>\n",
       "      <td>0.0</td>\n",
       "      <td>1086.0</td>\n",
       "      <td>NaN</td>\n",
       "      <td>5.0</td>\n",
       "      <td>NaN</td>\n",
       "      <td>1.30</td>\n",
       "      <td>14</td>\n",
       "    </tr>\n",
       "    <tr>\n",
       "      <th>5529</th>\n",
       "      <td>Hyundai Santro LP - Euro II</td>\n",
       "      <td>Chennai</td>\n",
       "      <td>2005</td>\n",
       "      <td>105000</td>\n",
       "      <td>Petrol</td>\n",
       "      <td>Manual</td>\n",
       "      <td>First</td>\n",
       "      <td>0.0</td>\n",
       "      <td>999.0</td>\n",
       "      <td>NaN</td>\n",
       "      <td>5.0</td>\n",
       "      <td>NaN</td>\n",
       "      <td>1.75</td>\n",
       "      <td>15</td>\n",
       "    </tr>\n",
       "    <tr>\n",
       "      <th>5647</th>\n",
       "      <td>Toyota Qualis Fleet A3</td>\n",
       "      <td>Mumbai</td>\n",
       "      <td>2001</td>\n",
       "      <td>227000</td>\n",
       "      <td>Diesel</td>\n",
       "      <td>Manual</td>\n",
       "      <td>Fourth &amp; Above</td>\n",
       "      <td>0.0</td>\n",
       "      <td>2446.0</td>\n",
       "      <td>NaN</td>\n",
       "      <td>8.0</td>\n",
       "      <td>NaN</td>\n",
       "      <td>2.20</td>\n",
       "      <td>19</td>\n",
       "    </tr>\n",
       "    <tr>\n",
       "      <th>5875</th>\n",
       "      <td>Mercedes-Benz C-Class Progressive C 220d</td>\n",
       "      <td>Ahmedabad</td>\n",
       "      <td>2019</td>\n",
       "      <td>4000</td>\n",
       "      <td>Diesel</td>\n",
       "      <td>Automatic</td>\n",
       "      <td>First</td>\n",
       "      <td>0.0</td>\n",
       "      <td>1950.0</td>\n",
       "      <td>194.00</td>\n",
       "      <td>5.0</td>\n",
       "      <td>49.14 Lakh</td>\n",
       "      <td>35.00</td>\n",
       "      <td>1</td>\n",
       "    </tr>\n",
       "    <tr>\n",
       "      <th>5943</th>\n",
       "      <td>Mahindra Jeep MM 540 DP</td>\n",
       "      <td>Chennai</td>\n",
       "      <td>2002</td>\n",
       "      <td>75000</td>\n",
       "      <td>Diesel</td>\n",
       "      <td>Manual</td>\n",
       "      <td>First</td>\n",
       "      <td>0.0</td>\n",
       "      <td>2112.0</td>\n",
       "      <td>NaN</td>\n",
       "      <td>6.0</td>\n",
       "      <td>NaN</td>\n",
       "      <td>1.70</td>\n",
       "      <td>18</td>\n",
       "    </tr>\n",
       "    <tr>\n",
       "      <th>5972</th>\n",
       "      <td>Hyundai Santro Xing GL</td>\n",
       "      <td>Mumbai</td>\n",
       "      <td>2008</td>\n",
       "      <td>65000</td>\n",
       "      <td>Petrol</td>\n",
       "      <td>Manual</td>\n",
       "      <td>Second</td>\n",
       "      <td>0.0</td>\n",
       "      <td>1086.0</td>\n",
       "      <td>62.00</td>\n",
       "      <td>5.0</td>\n",
       "      <td>NaN</td>\n",
       "      <td>1.39</td>\n",
       "      <td>12</td>\n",
       "    </tr>\n",
       "    <tr>\n",
       "      <th>6011</th>\n",
       "      <td>Skoda Superb 3.6 V6 FSI</td>\n",
       "      <td>Hyderabad</td>\n",
       "      <td>2009</td>\n",
       "      <td>53000</td>\n",
       "      <td>Petrol</td>\n",
       "      <td>Automatic</td>\n",
       "      <td>First</td>\n",
       "      <td>0.0</td>\n",
       "      <td>3597.0</td>\n",
       "      <td>262.60</td>\n",
       "      <td>5.0</td>\n",
       "      <td>NaN</td>\n",
       "      <td>4.75</td>\n",
       "      <td>11</td>\n",
       "    </tr>\n",
       "  </tbody>\n",
       "</table>\n",
       "<p>68 rows × 14 columns</p>\n",
       "</div>"
      ],
      "text/plain": [
       "                                              Name    Location  Year  \\\n",
       "14                  Land Rover Freelander 2 TD4 SE        Pune  2012   \n",
       "67        Mercedes-Benz C-Class Progressive C 220d  Coimbatore  2019   \n",
       "79                          Hyundai Santro Xing XL   Hyderabad  2005   \n",
       "194                             Honda City 1.5 GXI   Ahmedabad  2007   \n",
       "229                               Ford Figo Diesel   Bangalore  2015   \n",
       "262                         Hyundai Santro Xing XL   Hyderabad  2006   \n",
       "307                         Hyundai Santro Xing XL     Chennai  2006   \n",
       "424           Volkswagen Jetta 2007-2011 1.9 L TDI   Hyderabad  2010   \n",
       "443                  Hyundai Santro GLS I - Euro I  Coimbatore  2012   \n",
       "544    Mercedes-Benz New C-Class Progressive C 200       Kochi  2019   \n",
       "631                      Hyundai Santro LS zipPlus     Chennai  2002   \n",
       "647                         Hyundai Santro Xing XP      Jaipur  2004   \n",
       "707            Mercedes-Benz M-Class ML 350 4Matic        Pune  2014   \n",
       "749                   Land Rover Range Rover 3.0 D      Mumbai  2008   \n",
       "915                            Smart Fortwo CDI AT        Pune  2008   \n",
       "962       Mercedes-Benz C-Class Progressive C 220d      Mumbai  2018   \n",
       "996                         Hyundai Santro Xing GL        Pune  2008   \n",
       "1059                        Hyundai Santro Xing GL   Hyderabad  2010   \n",
       "1259                 Land Rover Freelander 2 TD4 S   Bangalore  2010   \n",
       "1271                Hyundai Santro GLS I - Euro II      Jaipur  2009   \n",
       "1308           Mercedes-Benz M-Class ML 350 4Matic   Bangalore  2014   \n",
       "1345                             Maruti Baleno Vxi        Pune  2005   \n",
       "1354                        Hyundai Santro Xing GL       Kochi  2011   \n",
       "1385                            Honda City 1.5 GXI        Pune  2004   \n",
       "1419                        Hyundai Santro Xing XL     Chennai  2007   \n",
       "1460  Land Rover Range Rover Sport 2005 2012 Sport  Coimbatore  2008   \n",
       "1764           Mercedes-Benz M-Class ML 350 4Matic        Pune  2015   \n",
       "1857                             Hyundai Santro DX   Hyderabad  2007   \n",
       "2053                       Mahindra Jeep MM 550 PE   Hyderabad  2009   \n",
       "2096                     Hyundai Santro LP zipPlus  Coimbatore  2004   \n",
       "...                                            ...         ...   ...   \n",
       "3033                        Hyundai Santro Xing XP      Jaipur  2005   \n",
       "3044                        Hyundai Santro Xing GL     Kolkata  2009   \n",
       "3061                             Hyundai Santro GS   Ahmedabad  2005   \n",
       "3093                   Audi A7 2011-2015 Sportback     Kolkata  2012   \n",
       "3189          Hyundai Santro GS zipDrive - Euro II     Chennai  2002   \n",
       "3210           Mercedes-Benz M-Class ML 350 4Matic  Coimbatore  2016   \n",
       "3271                        Hyundai Santro Xing GL   Bangalore  2008   \n",
       "3516                 Hyundai Santro GLS I - Euro I        Pune  2011   \n",
       "3522               Hyundai Santro GLS II - Euro II       Kochi  2012   \n",
       "3645                        Hyundai Santro Xing XP   Bangalore  2004   \n",
       "4152                  Land Rover Range Rover 3.0 D      Mumbai  2003   \n",
       "4234           Mercedes-Benz M-Class ML 350 4Matic     Chennai  2012   \n",
       "4302                        Hyundai Santro Xing GL       Delhi  2012   \n",
       "4412           Mercedes-Benz M-Class ML 350 4Matic  Coimbatore  2016   \n",
       "4629                            Fiat Siena 1.2 ELX      Jaipur  2001   \n",
       "4687                Land Rover Freelander 2 TD4 SE      Jaipur  2012   \n",
       "4704           Mercedes-Benz M-Class ML 350 4Matic   Bangalore  2015   \n",
       "5016               Land Rover Freelander 2 TD4 HSE       Delhi  2013   \n",
       "5022                Land Rover Freelander 2 TD4 SE   Hyderabad  2013   \n",
       "5119                        Hyundai Santro Xing XP     Kolkata  2008   \n",
       "5270                            Honda City 1.5 GXI   Bangalore  2002   \n",
       "5311                Land Rover Freelander 2 TD4 SE   Hyderabad  2012   \n",
       "5374           Mercedes-Benz M-Class ML 350 4Matic   Ahmedabad  2012   \n",
       "5426                        Hyundai Santro Xing XL     Chennai  2006   \n",
       "5529                   Hyundai Santro LP - Euro II     Chennai  2005   \n",
       "5647                        Toyota Qualis Fleet A3      Mumbai  2001   \n",
       "5875      Mercedes-Benz C-Class Progressive C 220d   Ahmedabad  2019   \n",
       "5943                       Mahindra Jeep MM 540 DP     Chennai  2002   \n",
       "5972                        Hyundai Santro Xing GL      Mumbai  2008   \n",
       "6011                       Skoda Superb 3.6 V6 FSI   Hyderabad  2009   \n",
       "\n",
       "      Kilometers_Driven Fuel_Type Transmission      Owner_Type  Mileage  \\\n",
       "14                85000    Diesel    Automatic          Second      0.0   \n",
       "67                15369    Diesel    Automatic           First      0.0   \n",
       "79                87591    Petrol       Manual           First      0.0   \n",
       "194               60006    Petrol       Manual           First      0.0   \n",
       "229               70436    Diesel       Manual           First      0.0   \n",
       "262               99000    Petrol       Manual           First      0.0   \n",
       "307               58000    Petrol       Manual          Second      0.0   \n",
       "424               42021    Diesel       Manual           First      0.0   \n",
       "443               50243    Petrol       Manual           First      0.0   \n",
       "544               13190    Petrol    Automatic           First      0.0   \n",
       "631               70000    Petrol       Manual           Third      0.0   \n",
       "647              200000    Petrol       Manual           First      0.0   \n",
       "707              120000    Diesel    Automatic           First      0.0   \n",
       "749               55001    Diesel    Automatic          Second      0.0   \n",
       "915              103000    Diesel    Automatic          Second      0.0   \n",
       "962                8682    Diesel    Automatic           First      0.0   \n",
       "996               93000    Petrol       Manual           First      0.0   \n",
       "1059              58163    Petrol       Manual           First      0.0   \n",
       "1259             125000    Diesel    Automatic          Second      0.0   \n",
       "1271              89000    Petrol       Manual          Second      0.0   \n",
       "1308              33000    Diesel    Automatic          Second      0.0   \n",
       "1345              70000    Petrol       Manual           First      0.0   \n",
       "1354              20842    Petrol       Manual           First      0.0   \n",
       "1385             115000    Petrol       Manual          Second      0.0   \n",
       "1419              82000    Petrol       Manual          Second      0.0   \n",
       "1460              69078    Petrol       Manual           First      0.0   \n",
       "1764              69000    Diesel    Automatic           First      0.0   \n",
       "1857              96000    Petrol       Manual          Second      0.0   \n",
       "2053              26000    Diesel       Manual           First      0.0   \n",
       "2096              52146    Petrol       Manual           First      0.0   \n",
       "...                 ...       ...          ...             ...      ...   \n",
       "3033             120000    Petrol       Manual           First      0.0   \n",
       "3044              60170    Petrol       Manual           First      0.0   \n",
       "3061              58000    Petrol       Manual          Second      0.0   \n",
       "3093              24720    Diesel    Automatic          Second      0.0   \n",
       "3189              67000    Petrol       Manual           Third      0.0   \n",
       "3210              22769    Diesel    Automatic           First      0.0   \n",
       "3271              35268    Petrol       Manual          Second      0.0   \n",
       "3516              65400    Petrol       Manual           First      0.0   \n",
       "3522              66400    Petrol       Manual           First      0.0   \n",
       "3645             167000    Petrol       Manual           First      0.0   \n",
       "4152              75000    Diesel    Automatic          Second      0.0   \n",
       "4234              63000    Diesel    Automatic           First      0.0   \n",
       "4302              61449    Petrol       Manual           First      0.0   \n",
       "4412              27833    Diesel    Automatic           First      0.0   \n",
       "4629              70000    Petrol       Manual           Third      0.0   \n",
       "4687             119203    Diesel    Automatic           First      0.0   \n",
       "4704              20000    Diesel    Automatic           First      0.0   \n",
       "5016              72000    Diesel    Automatic           First      0.0   \n",
       "5022              46000    Diesel    Automatic          Second      0.0   \n",
       "5119              45500    Petrol       Manual          Second      0.0   \n",
       "5270              53000    Petrol       Manual          Second      0.0   \n",
       "5311             139000    Diesel    Automatic           First      0.0   \n",
       "5374              66000    Diesel    Automatic           First      0.0   \n",
       "5426              85000    Petrol       Manual           Third      0.0   \n",
       "5529             105000    Petrol       Manual           First      0.0   \n",
       "5647             227000    Diesel       Manual  Fourth & Above      0.0   \n",
       "5875               4000    Diesel    Automatic           First      0.0   \n",
       "5943              75000    Diesel       Manual           First      0.0   \n",
       "5972              65000    Petrol       Manual          Second      0.0   \n",
       "6011              53000    Petrol    Automatic           First      0.0   \n",
       "\n",
       "      Engine   Power Seats   New_Price  Price  No_Years  \n",
       "14    2179.0  115.00   5.0         NaN  17.50         8  \n",
       "67    1950.0  194.00   5.0  49.14 Lakh  35.67         1  \n",
       "79    1086.0     NaN   5.0         NaN   1.30        15  \n",
       "194      NaN     NaN   0.0         NaN   2.95        13  \n",
       "229   1498.0   99.00   0.0         NaN   3.60         5  \n",
       "262   1086.0     NaN   5.0         NaN   1.75        14  \n",
       "307   1086.0     NaN   5.0         NaN   1.50        14  \n",
       "424   1968.0     NaN   5.0         NaN   5.45        10  \n",
       "443   1086.0     NaN   5.0         NaN   3.35         8  \n",
       "544   1950.0  181.43   5.0  49.49 Lakh  38.99         1  \n",
       "631   1086.0     NaN   5.0         NaN   0.65        18  \n",
       "647   1086.0     NaN   5.0         NaN   0.80        16  \n",
       "707   2987.0  165.00   5.0         NaN  30.00         6  \n",
       "749      NaN     NaN   0.0         NaN  26.50        12  \n",
       "915    799.0     NaN   2.0         NaN   3.00        12  \n",
       "962   1950.0  194.00   5.0  52.26 Lakh  39.50         2  \n",
       "996   1086.0   62.00   5.0         NaN   1.45        12  \n",
       "1059  1086.0   62.00   5.0         NaN   2.45        10  \n",
       "1259  2179.0  115.00   5.0         NaN  11.00        10  \n",
       "1271   999.0     NaN   5.0         NaN   1.60        11  \n",
       "1308  2987.0  165.00   5.0         NaN  43.00         6  \n",
       "1345  1590.0     NaN   5.0         NaN   1.30        15  \n",
       "1354  1086.0   62.00   5.0         NaN   2.78         9  \n",
       "1385     NaN     NaN   0.0         NaN   1.50        16  \n",
       "1419  1086.0     NaN   5.0         NaN   1.35        13  \n",
       "1460     NaN     NaN   0.0         NaN  40.88        12  \n",
       "1764  2987.0  165.00   5.0         NaN  38.00         5  \n",
       "1857   999.0     NaN   5.0         NaN   2.20        13  \n",
       "2053  2498.0     NaN   6.0         NaN   6.99        11  \n",
       "2096     NaN     NaN   0.0         NaN   1.93        16  \n",
       "...      ...     ...   ...         ...    ...       ...  \n",
       "3033  1086.0     NaN   5.0         NaN   1.15        15  \n",
       "3044  1086.0   62.00   5.0         NaN   1.15        11  \n",
       "3061   999.0     NaN   5.0         NaN   1.51        15  \n",
       "3093  2967.0  241.40   5.0         NaN  28.00         8  \n",
       "3189   999.0     NaN   5.0         NaN   1.20        18  \n",
       "3210  2987.0  165.00   5.0         NaN  49.22         4  \n",
       "3271  1086.0   62.00   5.0         NaN   1.88        12  \n",
       "3516  1086.0     NaN   5.0         NaN   2.10         9  \n",
       "3522     NaN     NaN   0.0         NaN   2.66         8  \n",
       "3645  1086.0     NaN   5.0         NaN   1.35        16  \n",
       "4152     NaN     NaN   0.0         NaN  16.11        17  \n",
       "4234  2987.0  165.00   5.0         NaN  26.00         8  \n",
       "4302  1086.0   62.00   5.0         NaN   2.15         8  \n",
       "4412  2987.0  165.00   5.0         NaN  49.24         4  \n",
       "4629  1242.0     NaN   5.0         NaN   0.55        19  \n",
       "4687  2179.0  115.00   5.0         NaN  16.50         8  \n",
       "4704  2987.0  165.00   5.0         NaN  47.35         5  \n",
       "5016  2179.0  115.00   5.0         NaN  15.50         7  \n",
       "5022  2179.0  115.00   5.0         NaN  26.00         7  \n",
       "5119  1086.0     NaN   5.0         NaN   1.17        12  \n",
       "5270     NaN     NaN   0.0         NaN   1.85        18  \n",
       "5311  2179.0  115.00   5.0         NaN  16.75         8  \n",
       "5374  2987.0  165.00   5.0         NaN  23.00         8  \n",
       "5426  1086.0     NaN   5.0         NaN   1.30        14  \n",
       "5529   999.0     NaN   5.0         NaN   1.75        15  \n",
       "5647  2446.0     NaN   8.0         NaN   2.20        19  \n",
       "5875  1950.0  194.00   5.0  49.14 Lakh  35.00         1  \n",
       "5943  2112.0     NaN   6.0         NaN   1.70        18  \n",
       "5972  1086.0   62.00   5.0         NaN   1.39        12  \n",
       "6011  3597.0  262.60   5.0         NaN   4.75        11  \n",
       "\n",
       "[68 rows x 14 columns]"
      ]
     },
     "execution_count": 133,
     "metadata": {},
     "output_type": "execute_result"
    }
   ],
   "source": [
    "train_data_processed[train_data_processed.Mileage == 0]"
   ]
  },
  {
   "cell_type": "code",
   "execution_count": 168,
   "metadata": {},
   "outputs": [
    {
     "data": {
      "text/html": [
       "<div>\n",
       "<style scoped>\n",
       "    .dataframe tbody tr th:only-of-type {\n",
       "        vertical-align: middle;\n",
       "    }\n",
       "\n",
       "    .dataframe tbody tr th {\n",
       "        vertical-align: top;\n",
       "    }\n",
       "\n",
       "    .dataframe thead th {\n",
       "        text-align: right;\n",
       "    }\n",
       "</style>\n",
       "<table border=\"1\" class=\"dataframe\">\n",
       "  <thead>\n",
       "    <tr style=\"text-align: right;\">\n",
       "      <th></th>\n",
       "      <th>Name</th>\n",
       "      <th>Location</th>\n",
       "      <th>Year</th>\n",
       "      <th>Kilometers_Driven</th>\n",
       "      <th>Fuel_Type</th>\n",
       "      <th>Transmission</th>\n",
       "      <th>Owner_Type</th>\n",
       "      <th>Mileage</th>\n",
       "      <th>Engine</th>\n",
       "      <th>Power</th>\n",
       "      <th>Seats</th>\n",
       "      <th>New_Price</th>\n",
       "      <th>Price</th>\n",
       "      <th>No_Years</th>\n",
       "    </tr>\n",
       "  </thead>\n",
       "  <tbody>\n",
       "    <tr>\n",
       "      <th>4904</th>\n",
       "      <td>Toyota Prius 2009-2016 Z4</td>\n",
       "      <td>Mumbai</td>\n",
       "      <td>2011</td>\n",
       "      <td>44000</td>\n",
       "      <td>Electric</td>\n",
       "      <td>Automatic</td>\n",
       "      <td>First</td>\n",
       "      <td>NaN</td>\n",
       "      <td>1798.0</td>\n",
       "      <td>73.0</td>\n",
       "      <td>5.0</td>\n",
       "      <td>NaN</td>\n",
       "      <td>12.75</td>\n",
       "      <td>9</td>\n",
       "    </tr>\n",
       "  </tbody>\n",
       "</table>\n",
       "</div>"
      ],
      "text/plain": [
       "                           Name Location  Year  Kilometers_Driven Fuel_Type  \\\n",
       "4904  Toyota Prius 2009-2016 Z4   Mumbai  2011              44000  Electric   \n",
       "\n",
       "     Transmission Owner_Type  Mileage  Engine  Power Seats New_Price  Price  \\\n",
       "4904    Automatic      First      NaN  1798.0   73.0   5.0       NaN  12.75   \n",
       "\n",
       "      No_Years  \n",
       "4904         9  "
      ]
     },
     "execution_count": 168,
     "metadata": {},
     "output_type": "execute_result"
    }
   ],
   "source": [
    "train_data_processed[pd.isnull(train_data_processed.Mileage)]"
   ]
  },
  {
   "cell_type": "code",
   "execution_count": 136,
   "metadata": {},
   "outputs": [
    {
     "data": {
      "text/plain": [
       "89.93333333333334"
      ]
     },
     "execution_count": 136,
     "metadata": {},
     "output_type": "execute_result"
    }
   ],
   "source": [
    "(426.0/90)*19"
   ]
  },
  {
   "cell_type": "raw",
   "metadata": {},
   "source": [
    "Imputing Mahindra e-verito - https://factordaily.com/electric-vehicle-petrol-cars/ (426/90 * 19)"
   ]
  },
  {
   "cell_type": "code",
   "execution_count": 158,
   "metadata": {},
   "outputs": [],
   "source": [
    "train_data_processed['Mileage'].iloc[4446] = 90.0"
   ]
  },
  {
   "cell_type": "code",
   "execution_count": 170,
   "metadata": {},
   "outputs": [],
   "source": [
    "train_data_processed['Mileage'].iloc[4904] = 50.0"
   ]
  },
  {
   "cell_type": "code",
   "execution_count": 159,
   "metadata": {},
   "outputs": [
    {
     "data": {
      "text/plain": [
       "Name                 Mahindra E Verito D4\n",
       "Location                          Chennai\n",
       "Year                                 2016\n",
       "Kilometers_Driven                   50000\n",
       "Fuel_Type                        Electric\n",
       "Transmission                    Automatic\n",
       "Owner_Type                          First\n",
       "Mileage                                90\n",
       "Engine                                 72\n",
       "Power                              41 bhp\n",
       "Seats                                   5\n",
       "New_Price                      13.58 Lakh\n",
       "Price                                  13\n",
       "No_Years                                4\n",
       "Name: 4446, dtype: object"
      ]
     },
     "execution_count": 159,
     "metadata": {},
     "output_type": "execute_result"
    }
   ],
   "source": [
    "train_data_processed.iloc[4446]"
   ]
  },
  {
   "cell_type": "markdown",
   "metadata": {},
   "source": [
    "# Power  "
   ]
  },
  {
   "cell_type": "code",
   "execution_count": 145,
   "metadata": {},
   "outputs": [
    {
     "data": {
      "text/html": [
       "<div>\n",
       "<style scoped>\n",
       "    .dataframe tbody tr th:only-of-type {\n",
       "        vertical-align: middle;\n",
       "    }\n",
       "\n",
       "    .dataframe tbody tr th {\n",
       "        vertical-align: top;\n",
       "    }\n",
       "\n",
       "    .dataframe thead th {\n",
       "        text-align: right;\n",
       "    }\n",
       "</style>\n",
       "<table border=\"1\" class=\"dataframe\">\n",
       "  <thead>\n",
       "    <tr style=\"text-align: right;\">\n",
       "      <th></th>\n",
       "      <th>Name</th>\n",
       "      <th>Location</th>\n",
       "      <th>Year</th>\n",
       "      <th>Kilometers_Driven</th>\n",
       "      <th>Fuel_Type</th>\n",
       "      <th>Transmission</th>\n",
       "      <th>Owner_Type</th>\n",
       "      <th>Mileage</th>\n",
       "      <th>Engine</th>\n",
       "      <th>Power</th>\n",
       "      <th>Seats</th>\n",
       "      <th>New_Price</th>\n",
       "      <th>Price</th>\n",
       "      <th>No_Years</th>\n",
       "    </tr>\n",
       "  </thead>\n",
       "  <tbody>\n",
       "    <tr>\n",
       "      <th>76</th>\n",
       "      <td>Ford Fiesta 1.4 SXi TDCi</td>\n",
       "      <td>Jaipur</td>\n",
       "      <td>2008</td>\n",
       "      <td>111111</td>\n",
       "      <td>Diesel</td>\n",
       "      <td>Manual</td>\n",
       "      <td>First</td>\n",
       "      <td>17.80</td>\n",
       "      <td>1399.0</td>\n",
       "      <td>NaN</td>\n",
       "      <td>5.0</td>\n",
       "      <td>NaN</td>\n",
       "      <td>2.00</td>\n",
       "      <td>12</td>\n",
       "    </tr>\n",
       "    <tr>\n",
       "      <th>79</th>\n",
       "      <td>Hyundai Santro Xing XL</td>\n",
       "      <td>Hyderabad</td>\n",
       "      <td>2005</td>\n",
       "      <td>87591</td>\n",
       "      <td>Petrol</td>\n",
       "      <td>Manual</td>\n",
       "      <td>First</td>\n",
       "      <td>0.00</td>\n",
       "      <td>1086.0</td>\n",
       "      <td>NaN</td>\n",
       "      <td>5.0</td>\n",
       "      <td>NaN</td>\n",
       "      <td>1.30</td>\n",
       "      <td>15</td>\n",
       "    </tr>\n",
       "    <tr>\n",
       "      <th>89</th>\n",
       "      <td>Hyundai Santro Xing XO</td>\n",
       "      <td>Hyderabad</td>\n",
       "      <td>2007</td>\n",
       "      <td>73745</td>\n",
       "      <td>Petrol</td>\n",
       "      <td>Manual</td>\n",
       "      <td>First</td>\n",
       "      <td>17.00</td>\n",
       "      <td>1086.0</td>\n",
       "      <td>NaN</td>\n",
       "      <td>5.0</td>\n",
       "      <td>NaN</td>\n",
       "      <td>2.10</td>\n",
       "      <td>13</td>\n",
       "    </tr>\n",
       "    <tr>\n",
       "      <th>120</th>\n",
       "      <td>Hyundai Santro Xing XL eRLX Euro III</td>\n",
       "      <td>Mumbai</td>\n",
       "      <td>2005</td>\n",
       "      <td>102000</td>\n",
       "      <td>Petrol</td>\n",
       "      <td>Manual</td>\n",
       "      <td>Second</td>\n",
       "      <td>17.00</td>\n",
       "      <td>1086.0</td>\n",
       "      <td>NaN</td>\n",
       "      <td>5.0</td>\n",
       "      <td>NaN</td>\n",
       "      <td>0.85</td>\n",
       "      <td>15</td>\n",
       "    </tr>\n",
       "    <tr>\n",
       "      <th>143</th>\n",
       "      <td>Hyundai Santro Xing XO eRLX Euro II</td>\n",
       "      <td>Kochi</td>\n",
       "      <td>2008</td>\n",
       "      <td>80759</td>\n",
       "      <td>Petrol</td>\n",
       "      <td>Manual</td>\n",
       "      <td>Third</td>\n",
       "      <td>17.00</td>\n",
       "      <td>1086.0</td>\n",
       "      <td>NaN</td>\n",
       "      <td>5.0</td>\n",
       "      <td>NaN</td>\n",
       "      <td>1.67</td>\n",
       "      <td>12</td>\n",
       "    </tr>\n",
       "    <tr>\n",
       "      <th>194</th>\n",
       "      <td>Honda City 1.5 GXI</td>\n",
       "      <td>Ahmedabad</td>\n",
       "      <td>2007</td>\n",
       "      <td>60006</td>\n",
       "      <td>Petrol</td>\n",
       "      <td>Manual</td>\n",
       "      <td>First</td>\n",
       "      <td>0.00</td>\n",
       "      <td>NaN</td>\n",
       "      <td>NaN</td>\n",
       "      <td>0.0</td>\n",
       "      <td>NaN</td>\n",
       "      <td>2.95</td>\n",
       "      <td>13</td>\n",
       "    </tr>\n",
       "    <tr>\n",
       "      <th>208</th>\n",
       "      <td>Maruti Swift 1.3 VXi</td>\n",
       "      <td>Kolkata</td>\n",
       "      <td>2010</td>\n",
       "      <td>42001</td>\n",
       "      <td>Petrol</td>\n",
       "      <td>Manual</td>\n",
       "      <td>First</td>\n",
       "      <td>16.10</td>\n",
       "      <td>NaN</td>\n",
       "      <td>NaN</td>\n",
       "      <td>0.0</td>\n",
       "      <td>NaN</td>\n",
       "      <td>2.11</td>\n",
       "      <td>10</td>\n",
       "    </tr>\n",
       "    <tr>\n",
       "      <th>227</th>\n",
       "      <td>Maruti Swift VDI BSIV</td>\n",
       "      <td>Delhi</td>\n",
       "      <td>2013</td>\n",
       "      <td>47000</td>\n",
       "      <td>Diesel</td>\n",
       "      <td>Manual</td>\n",
       "      <td>First</td>\n",
       "      <td>17.80</td>\n",
       "      <td>1248.0</td>\n",
       "      <td>NaN</td>\n",
       "      <td>5.0</td>\n",
       "      <td>NaN</td>\n",
       "      <td>4.10</td>\n",
       "      <td>7</td>\n",
       "    </tr>\n",
       "    <tr>\n",
       "      <th>245</th>\n",
       "      <td>Hyundai Santro Xing XO eRLX Euro II</td>\n",
       "      <td>Mumbai</td>\n",
       "      <td>2007</td>\n",
       "      <td>72000</td>\n",
       "      <td>Petrol</td>\n",
       "      <td>Manual</td>\n",
       "      <td>Third</td>\n",
       "      <td>17.00</td>\n",
       "      <td>1086.0</td>\n",
       "      <td>NaN</td>\n",
       "      <td>5.0</td>\n",
       "      <td>NaN</td>\n",
       "      <td>0.95</td>\n",
       "      <td>13</td>\n",
       "    </tr>\n",
       "    <tr>\n",
       "      <th>262</th>\n",
       "      <td>Hyundai Santro Xing XL</td>\n",
       "      <td>Hyderabad</td>\n",
       "      <td>2006</td>\n",
       "      <td>99000</td>\n",
       "      <td>Petrol</td>\n",
       "      <td>Manual</td>\n",
       "      <td>First</td>\n",
       "      <td>0.00</td>\n",
       "      <td>1086.0</td>\n",
       "      <td>NaN</td>\n",
       "      <td>5.0</td>\n",
       "      <td>NaN</td>\n",
       "      <td>1.75</td>\n",
       "      <td>14</td>\n",
       "    </tr>\n",
       "    <tr>\n",
       "      <th>307</th>\n",
       "      <td>Hyundai Santro Xing XL</td>\n",
       "      <td>Chennai</td>\n",
       "      <td>2006</td>\n",
       "      <td>58000</td>\n",
       "      <td>Petrol</td>\n",
       "      <td>Manual</td>\n",
       "      <td>Second</td>\n",
       "      <td>0.00</td>\n",
       "      <td>1086.0</td>\n",
       "      <td>NaN</td>\n",
       "      <td>5.0</td>\n",
       "      <td>NaN</td>\n",
       "      <td>1.50</td>\n",
       "      <td>14</td>\n",
       "    </tr>\n",
       "    <tr>\n",
       "      <th>308</th>\n",
       "      <td>Maruti Swift VDI BSIV</td>\n",
       "      <td>Kolkata</td>\n",
       "      <td>2011</td>\n",
       "      <td>60020</td>\n",
       "      <td>Diesel</td>\n",
       "      <td>Manual</td>\n",
       "      <td>First</td>\n",
       "      <td>17.80</td>\n",
       "      <td>1248.0</td>\n",
       "      <td>NaN</td>\n",
       "      <td>5.0</td>\n",
       "      <td>NaN</td>\n",
       "      <td>2.50</td>\n",
       "      <td>9</td>\n",
       "    </tr>\n",
       "    <tr>\n",
       "      <th>386</th>\n",
       "      <td>Hyundai Santro Xing XL eRLX Euro III</td>\n",
       "      <td>Hyderabad</td>\n",
       "      <td>2007</td>\n",
       "      <td>50958</td>\n",
       "      <td>Petrol</td>\n",
       "      <td>Manual</td>\n",
       "      <td>First</td>\n",
       "      <td>17.00</td>\n",
       "      <td>1086.0</td>\n",
       "      <td>NaN</td>\n",
       "      <td>5.0</td>\n",
       "      <td>NaN</td>\n",
       "      <td>1.95</td>\n",
       "      <td>13</td>\n",
       "    </tr>\n",
       "    <tr>\n",
       "      <th>424</th>\n",
       "      <td>Volkswagen Jetta 2007-2011 1.9 L TDI</td>\n",
       "      <td>Hyderabad</td>\n",
       "      <td>2010</td>\n",
       "      <td>42021</td>\n",
       "      <td>Diesel</td>\n",
       "      <td>Manual</td>\n",
       "      <td>First</td>\n",
       "      <td>0.00</td>\n",
       "      <td>1968.0</td>\n",
       "      <td>NaN</td>\n",
       "      <td>5.0</td>\n",
       "      <td>NaN</td>\n",
       "      <td>5.45</td>\n",
       "      <td>10</td>\n",
       "    </tr>\n",
       "    <tr>\n",
       "      <th>428</th>\n",
       "      <td>Hyundai Santro Xing XO eRLX Euro II</td>\n",
       "      <td>Pune</td>\n",
       "      <td>2006</td>\n",
       "      <td>108000</td>\n",
       "      <td>Petrol</td>\n",
       "      <td>Manual</td>\n",
       "      <td>Second</td>\n",
       "      <td>17.00</td>\n",
       "      <td>1086.0</td>\n",
       "      <td>NaN</td>\n",
       "      <td>5.0</td>\n",
       "      <td>NaN</td>\n",
       "      <td>1.20</td>\n",
       "      <td>14</td>\n",
       "    </tr>\n",
       "    <tr>\n",
       "      <th>443</th>\n",
       "      <td>Hyundai Santro GLS I - Euro I</td>\n",
       "      <td>Coimbatore</td>\n",
       "      <td>2012</td>\n",
       "      <td>50243</td>\n",
       "      <td>Petrol</td>\n",
       "      <td>Manual</td>\n",
       "      <td>First</td>\n",
       "      <td>0.00</td>\n",
       "      <td>1086.0</td>\n",
       "      <td>NaN</td>\n",
       "      <td>5.0</td>\n",
       "      <td>NaN</td>\n",
       "      <td>3.35</td>\n",
       "      <td>8</td>\n",
       "    </tr>\n",
       "    <tr>\n",
       "      <th>472</th>\n",
       "      <td>Ford Fiesta 1.6 SXI ABS Duratec</td>\n",
       "      <td>Chennai</td>\n",
       "      <td>2009</td>\n",
       "      <td>80524</td>\n",
       "      <td>Petrol</td>\n",
       "      <td>Manual</td>\n",
       "      <td>Second</td>\n",
       "      <td>15.30</td>\n",
       "      <td>1596.0</td>\n",
       "      <td>NaN</td>\n",
       "      <td>5.0</td>\n",
       "      <td>NaN</td>\n",
       "      <td>2.50</td>\n",
       "      <td>11</td>\n",
       "    </tr>\n",
       "    <tr>\n",
       "      <th>575</th>\n",
       "      <td>Hyundai Santro Xing XO</td>\n",
       "      <td>Chennai</td>\n",
       "      <td>2006</td>\n",
       "      <td>83072</td>\n",
       "      <td>Petrol</td>\n",
       "      <td>Manual</td>\n",
       "      <td>First</td>\n",
       "      <td>17.00</td>\n",
       "      <td>1086.0</td>\n",
       "      <td>NaN</td>\n",
       "      <td>5.0</td>\n",
       "      <td>NaN</td>\n",
       "      <td>1.40</td>\n",
       "      <td>14</td>\n",
       "    </tr>\n",
       "    <tr>\n",
       "      <th>631</th>\n",
       "      <td>Hyundai Santro LS zipPlus</td>\n",
       "      <td>Chennai</td>\n",
       "      <td>2002</td>\n",
       "      <td>70000</td>\n",
       "      <td>Petrol</td>\n",
       "      <td>Manual</td>\n",
       "      <td>Third</td>\n",
       "      <td>0.00</td>\n",
       "      <td>1086.0</td>\n",
       "      <td>NaN</td>\n",
       "      <td>5.0</td>\n",
       "      <td>NaN</td>\n",
       "      <td>0.65</td>\n",
       "      <td>18</td>\n",
       "    </tr>\n",
       "    <tr>\n",
       "      <th>647</th>\n",
       "      <td>Hyundai Santro Xing XP</td>\n",
       "      <td>Jaipur</td>\n",
       "      <td>2004</td>\n",
       "      <td>200000</td>\n",
       "      <td>Petrol</td>\n",
       "      <td>Manual</td>\n",
       "      <td>First</td>\n",
       "      <td>0.00</td>\n",
       "      <td>1086.0</td>\n",
       "      <td>NaN</td>\n",
       "      <td>5.0</td>\n",
       "      <td>NaN</td>\n",
       "      <td>0.80</td>\n",
       "      <td>16</td>\n",
       "    </tr>\n",
       "    <tr>\n",
       "      <th>648</th>\n",
       "      <td>Tata Indica DLS</td>\n",
       "      <td>Jaipur</td>\n",
       "      <td>2009</td>\n",
       "      <td>82000</td>\n",
       "      <td>Diesel</td>\n",
       "      <td>Manual</td>\n",
       "      <td>Second</td>\n",
       "      <td>13.50</td>\n",
       "      <td>1405.0</td>\n",
       "      <td>NaN</td>\n",
       "      <td>5.0</td>\n",
       "      <td>NaN</td>\n",
       "      <td>0.75</td>\n",
       "      <td>11</td>\n",
       "    </tr>\n",
       "    <tr>\n",
       "      <th>733</th>\n",
       "      <td>Maruti Swift 1.3 VXi</td>\n",
       "      <td>Chennai</td>\n",
       "      <td>2006</td>\n",
       "      <td>97800</td>\n",
       "      <td>Petrol</td>\n",
       "      <td>Manual</td>\n",
       "      <td>Third</td>\n",
       "      <td>16.10</td>\n",
       "      <td>NaN</td>\n",
       "      <td>NaN</td>\n",
       "      <td>0.0</td>\n",
       "      <td>NaN</td>\n",
       "      <td>1.75</td>\n",
       "      <td>14</td>\n",
       "    </tr>\n",
       "    <tr>\n",
       "      <th>739</th>\n",
       "      <td>Maruti Swift VDI BSIV</td>\n",
       "      <td>Bangalore</td>\n",
       "      <td>2007</td>\n",
       "      <td>60000</td>\n",
       "      <td>Diesel</td>\n",
       "      <td>Manual</td>\n",
       "      <td>Second</td>\n",
       "      <td>17.80</td>\n",
       "      <td>1248.0</td>\n",
       "      <td>NaN</td>\n",
       "      <td>5.0</td>\n",
       "      <td>NaN</td>\n",
       "      <td>3.40</td>\n",
       "      <td>13</td>\n",
       "    </tr>\n",
       "    <tr>\n",
       "      <th>748</th>\n",
       "      <td>Hyundai Santro Xing XO</td>\n",
       "      <td>Hyderabad</td>\n",
       "      <td>2007</td>\n",
       "      <td>71297</td>\n",
       "      <td>Petrol</td>\n",
       "      <td>Manual</td>\n",
       "      <td>First</td>\n",
       "      <td>17.00</td>\n",
       "      <td>1086.0</td>\n",
       "      <td>NaN</td>\n",
       "      <td>5.0</td>\n",
       "      <td>NaN</td>\n",
       "      <td>2.20</td>\n",
       "      <td>13</td>\n",
       "    </tr>\n",
       "    <tr>\n",
       "      <th>749</th>\n",
       "      <td>Land Rover Range Rover 3.0 D</td>\n",
       "      <td>Mumbai</td>\n",
       "      <td>2008</td>\n",
       "      <td>55001</td>\n",
       "      <td>Diesel</td>\n",
       "      <td>Automatic</td>\n",
       "      <td>Second</td>\n",
       "      <td>0.00</td>\n",
       "      <td>NaN</td>\n",
       "      <td>NaN</td>\n",
       "      <td>0.0</td>\n",
       "      <td>NaN</td>\n",
       "      <td>26.50</td>\n",
       "      <td>12</td>\n",
       "    </tr>\n",
       "    <tr>\n",
       "      <th>829</th>\n",
       "      <td>Toyota Etios Liva G</td>\n",
       "      <td>Mumbai</td>\n",
       "      <td>2012</td>\n",
       "      <td>29605</td>\n",
       "      <td>Petrol</td>\n",
       "      <td>Manual</td>\n",
       "      <td>First</td>\n",
       "      <td>18.30</td>\n",
       "      <td>1197.0</td>\n",
       "      <td>NaN</td>\n",
       "      <td>5.0</td>\n",
       "      <td>NaN</td>\n",
       "      <td>2.44</td>\n",
       "      <td>8</td>\n",
       "    </tr>\n",
       "    <tr>\n",
       "      <th>915</th>\n",
       "      <td>Smart Fortwo CDI AT</td>\n",
       "      <td>Pune</td>\n",
       "      <td>2008</td>\n",
       "      <td>103000</td>\n",
       "      <td>Diesel</td>\n",
       "      <td>Automatic</td>\n",
       "      <td>Second</td>\n",
       "      <td>0.00</td>\n",
       "      <td>799.0</td>\n",
       "      <td>NaN</td>\n",
       "      <td>2.0</td>\n",
       "      <td>NaN</td>\n",
       "      <td>3.00</td>\n",
       "      <td>12</td>\n",
       "    </tr>\n",
       "    <tr>\n",
       "      <th>926</th>\n",
       "      <td>Porsche Cayman 2009-2012 S</td>\n",
       "      <td>Hyderabad</td>\n",
       "      <td>2010</td>\n",
       "      <td>10000</td>\n",
       "      <td>Petrol</td>\n",
       "      <td>Manual</td>\n",
       "      <td>First</td>\n",
       "      <td>9.00</td>\n",
       "      <td>3436.0</td>\n",
       "      <td>NaN</td>\n",
       "      <td>2.0</td>\n",
       "      <td>NaN</td>\n",
       "      <td>40.00</td>\n",
       "      <td>10</td>\n",
       "    </tr>\n",
       "    <tr>\n",
       "      <th>934</th>\n",
       "      <td>Toyota Etios GD</td>\n",
       "      <td>Kolkata</td>\n",
       "      <td>2012</td>\n",
       "      <td>60000</td>\n",
       "      <td>Diesel</td>\n",
       "      <td>Manual</td>\n",
       "      <td>First</td>\n",
       "      <td>23.59</td>\n",
       "      <td>1364.0</td>\n",
       "      <td>NaN</td>\n",
       "      <td>5.0</td>\n",
       "      <td>NaN</td>\n",
       "      <td>2.95</td>\n",
       "      <td>8</td>\n",
       "    </tr>\n",
       "    <tr>\n",
       "      <th>1068</th>\n",
       "      <td>Toyota Etios Liva GD</td>\n",
       "      <td>Pune</td>\n",
       "      <td>2012</td>\n",
       "      <td>225000</td>\n",
       "      <td>Diesel</td>\n",
       "      <td>Manual</td>\n",
       "      <td>Second</td>\n",
       "      <td>23.59</td>\n",
       "      <td>1364.0</td>\n",
       "      <td>NaN</td>\n",
       "      <td>5.0</td>\n",
       "      <td>NaN</td>\n",
       "      <td>2.60</td>\n",
       "      <td>8</td>\n",
       "    </tr>\n",
       "    <tr>\n",
       "      <th>...</th>\n",
       "      <td>...</td>\n",
       "      <td>...</td>\n",
       "      <td>...</td>\n",
       "      <td>...</td>\n",
       "      <td>...</td>\n",
       "      <td>...</td>\n",
       "      <td>...</td>\n",
       "      <td>...</td>\n",
       "      <td>...</td>\n",
       "      <td>...</td>\n",
       "      <td>...</td>\n",
       "      <td>...</td>\n",
       "      <td>...</td>\n",
       "      <td>...</td>\n",
       "    </tr>\n",
       "    <tr>\n",
       "      <th>4697</th>\n",
       "      <td>Fiat Punto 1.2 Dynamic</td>\n",
       "      <td>Kochi</td>\n",
       "      <td>2017</td>\n",
       "      <td>17941</td>\n",
       "      <td>Petrol</td>\n",
       "      <td>Manual</td>\n",
       "      <td>First</td>\n",
       "      <td>15.70</td>\n",
       "      <td>NaN</td>\n",
       "      <td>NaN</td>\n",
       "      <td>0.0</td>\n",
       "      <td>NaN</td>\n",
       "      <td>3.93</td>\n",
       "      <td>3</td>\n",
       "    </tr>\n",
       "    <tr>\n",
       "      <th>4709</th>\n",
       "      <td>Maruti 1000 AC</td>\n",
       "      <td>Hyderabad</td>\n",
       "      <td>1998</td>\n",
       "      <td>104000</td>\n",
       "      <td>Petrol</td>\n",
       "      <td>Manual</td>\n",
       "      <td>Second</td>\n",
       "      <td>15.00</td>\n",
       "      <td>970.0</td>\n",
       "      <td>NaN</td>\n",
       "      <td>5.0</td>\n",
       "      <td>NaN</td>\n",
       "      <td>0.85</td>\n",
       "      <td>22</td>\n",
       "    </tr>\n",
       "    <tr>\n",
       "      <th>4712</th>\n",
       "      <td>Hyundai Santro Xing XG</td>\n",
       "      <td>Pune</td>\n",
       "      <td>2003</td>\n",
       "      <td>80000</td>\n",
       "      <td>Petrol</td>\n",
       "      <td>Manual</td>\n",
       "      <td>Second</td>\n",
       "      <td>17.00</td>\n",
       "      <td>NaN</td>\n",
       "      <td>NaN</td>\n",
       "      <td>0.0</td>\n",
       "      <td>NaN</td>\n",
       "      <td>0.90</td>\n",
       "      <td>17</td>\n",
       "    </tr>\n",
       "    <tr>\n",
       "      <th>4714</th>\n",
       "      <td>Mercedes-Benz E-Class 220 CDI</td>\n",
       "      <td>Ahmedabad</td>\n",
       "      <td>2011</td>\n",
       "      <td>78000</td>\n",
       "      <td>Diesel</td>\n",
       "      <td>Manual</td>\n",
       "      <td>Second</td>\n",
       "      <td>15.00</td>\n",
       "      <td>2148.0</td>\n",
       "      <td>NaN</td>\n",
       "      <td>5.0</td>\n",
       "      <td>NaN</td>\n",
       "      <td>14.50</td>\n",
       "      <td>9</td>\n",
       "    </tr>\n",
       "    <tr>\n",
       "      <th>4744</th>\n",
       "      <td>Hyundai Santro Xing XL eRLX Euro III</td>\n",
       "      <td>Kolkata</td>\n",
       "      <td>2005</td>\n",
       "      <td>45000</td>\n",
       "      <td>Petrol</td>\n",
       "      <td>Manual</td>\n",
       "      <td>First</td>\n",
       "      <td>17.00</td>\n",
       "      <td>1086.0</td>\n",
       "      <td>NaN</td>\n",
       "      <td>5.0</td>\n",
       "      <td>NaN</td>\n",
       "      <td>0.95</td>\n",
       "      <td>15</td>\n",
       "    </tr>\n",
       "    <tr>\n",
       "      <th>4830</th>\n",
       "      <td>Maruti Esteem Vxi</td>\n",
       "      <td>Chennai</td>\n",
       "      <td>2004</td>\n",
       "      <td>95000</td>\n",
       "      <td>Petrol</td>\n",
       "      <td>Manual</td>\n",
       "      <td>First</td>\n",
       "      <td>15.90</td>\n",
       "      <td>1298.0</td>\n",
       "      <td>NaN</td>\n",
       "      <td>5.0</td>\n",
       "      <td>NaN</td>\n",
       "      <td>0.80</td>\n",
       "      <td>16</td>\n",
       "    </tr>\n",
       "    <tr>\n",
       "      <th>4886</th>\n",
       "      <td>Hyundai Santro Xing XL AT eRLX Euro II</td>\n",
       "      <td>Hyderabad</td>\n",
       "      <td>2007</td>\n",
       "      <td>76000</td>\n",
       "      <td>Petrol</td>\n",
       "      <td>Automatic</td>\n",
       "      <td>First</td>\n",
       "      <td>17.00</td>\n",
       "      <td>1086.0</td>\n",
       "      <td>NaN</td>\n",
       "      <td>5.0</td>\n",
       "      <td>NaN</td>\n",
       "      <td>2.40</td>\n",
       "      <td>13</td>\n",
       "    </tr>\n",
       "    <tr>\n",
       "      <th>4900</th>\n",
       "      <td>Hyundai Santro Xing XL AT eRLX Euro III</td>\n",
       "      <td>Hyderabad</td>\n",
       "      <td>2007</td>\n",
       "      <td>71000</td>\n",
       "      <td>Petrol</td>\n",
       "      <td>Automatic</td>\n",
       "      <td>First</td>\n",
       "      <td>17.00</td>\n",
       "      <td>1086.0</td>\n",
       "      <td>NaN</td>\n",
       "      <td>5.0</td>\n",
       "      <td>NaN</td>\n",
       "      <td>2.40</td>\n",
       "      <td>13</td>\n",
       "    </tr>\n",
       "    <tr>\n",
       "      <th>4952</th>\n",
       "      <td>Fiat Punto 1.4 Emotion</td>\n",
       "      <td>Kolkata</td>\n",
       "      <td>2010</td>\n",
       "      <td>47000</td>\n",
       "      <td>Petrol</td>\n",
       "      <td>Manual</td>\n",
       "      <td>First</td>\n",
       "      <td>14.60</td>\n",
       "      <td>NaN</td>\n",
       "      <td>NaN</td>\n",
       "      <td>0.0</td>\n",
       "      <td>NaN</td>\n",
       "      <td>1.49</td>\n",
       "      <td>10</td>\n",
       "    </tr>\n",
       "    <tr>\n",
       "      <th>4954</th>\n",
       "      <td>Toyota Etios Liva GD</td>\n",
       "      <td>Coimbatore</td>\n",
       "      <td>2013</td>\n",
       "      <td>62601</td>\n",
       "      <td>Diesel</td>\n",
       "      <td>Manual</td>\n",
       "      <td>First</td>\n",
       "      <td>23.59</td>\n",
       "      <td>1364.0</td>\n",
       "      <td>NaN</td>\n",
       "      <td>5.0</td>\n",
       "      <td>NaN</td>\n",
       "      <td>4.67</td>\n",
       "      <td>7</td>\n",
       "    </tr>\n",
       "    <tr>\n",
       "      <th>5015</th>\n",
       "      <td>Maruti Swift 1.3 VXi</td>\n",
       "      <td>Delhi</td>\n",
       "      <td>2006</td>\n",
       "      <td>63000</td>\n",
       "      <td>Petrol</td>\n",
       "      <td>Manual</td>\n",
       "      <td>First</td>\n",
       "      <td>16.10</td>\n",
       "      <td>NaN</td>\n",
       "      <td>NaN</td>\n",
       "      <td>0.0</td>\n",
       "      <td>NaN</td>\n",
       "      <td>1.60</td>\n",
       "      <td>14</td>\n",
       "    </tr>\n",
       "    <tr>\n",
       "      <th>5065</th>\n",
       "      <td>Maruti Swift VDI BSIV W ABS</td>\n",
       "      <td>Hyderabad</td>\n",
       "      <td>2016</td>\n",
       "      <td>64000</td>\n",
       "      <td>Diesel</td>\n",
       "      <td>Manual</td>\n",
       "      <td>First</td>\n",
       "      <td>17.80</td>\n",
       "      <td>1248.0</td>\n",
       "      <td>NaN</td>\n",
       "      <td>5.0</td>\n",
       "      <td>NaN</td>\n",
       "      <td>5.99</td>\n",
       "      <td>4</td>\n",
       "    </tr>\n",
       "    <tr>\n",
       "      <th>5119</th>\n",
       "      <td>Hyundai Santro Xing XP</td>\n",
       "      <td>Kolkata</td>\n",
       "      <td>2008</td>\n",
       "      <td>45500</td>\n",
       "      <td>Petrol</td>\n",
       "      <td>Manual</td>\n",
       "      <td>Second</td>\n",
       "      <td>0.00</td>\n",
       "      <td>1086.0</td>\n",
       "      <td>NaN</td>\n",
       "      <td>5.0</td>\n",
       "      <td>NaN</td>\n",
       "      <td>1.17</td>\n",
       "      <td>12</td>\n",
       "    </tr>\n",
       "    <tr>\n",
       "      <th>5185</th>\n",
       "      <td>Maruti Swift 1.3 LXI</td>\n",
       "      <td>Delhi</td>\n",
       "      <td>2012</td>\n",
       "      <td>52000</td>\n",
       "      <td>Petrol</td>\n",
       "      <td>Manual</td>\n",
       "      <td>First</td>\n",
       "      <td>16.10</td>\n",
       "      <td>NaN</td>\n",
       "      <td>NaN</td>\n",
       "      <td>0.0</td>\n",
       "      <td>NaN</td>\n",
       "      <td>3.65</td>\n",
       "      <td>8</td>\n",
       "    </tr>\n",
       "    <tr>\n",
       "      <th>5228</th>\n",
       "      <td>Hyundai Santro Xing XL eRLX Euro III</td>\n",
       "      <td>Pune</td>\n",
       "      <td>2005</td>\n",
       "      <td>126000</td>\n",
       "      <td>Petrol</td>\n",
       "      <td>Manual</td>\n",
       "      <td>Second</td>\n",
       "      <td>17.00</td>\n",
       "      <td>1086.0</td>\n",
       "      <td>NaN</td>\n",
       "      <td>5.0</td>\n",
       "      <td>NaN</td>\n",
       "      <td>1.20</td>\n",
       "      <td>15</td>\n",
       "    </tr>\n",
       "    <tr>\n",
       "      <th>5270</th>\n",
       "      <td>Honda City 1.5 GXI</td>\n",
       "      <td>Bangalore</td>\n",
       "      <td>2002</td>\n",
       "      <td>53000</td>\n",
       "      <td>Petrol</td>\n",
       "      <td>Manual</td>\n",
       "      <td>Second</td>\n",
       "      <td>0.00</td>\n",
       "      <td>NaN</td>\n",
       "      <td>NaN</td>\n",
       "      <td>0.0</td>\n",
       "      <td>NaN</td>\n",
       "      <td>1.85</td>\n",
       "      <td>18</td>\n",
       "    </tr>\n",
       "    <tr>\n",
       "      <th>5426</th>\n",
       "      <td>Hyundai Santro Xing XL</td>\n",
       "      <td>Chennai</td>\n",
       "      <td>2006</td>\n",
       "      <td>85000</td>\n",
       "      <td>Petrol</td>\n",
       "      <td>Manual</td>\n",
       "      <td>Third</td>\n",
       "      <td>0.00</td>\n",
       "      <td>1086.0</td>\n",
       "      <td>NaN</td>\n",
       "      <td>5.0</td>\n",
       "      <td>NaN</td>\n",
       "      <td>1.30</td>\n",
       "      <td>14</td>\n",
       "    </tr>\n",
       "    <tr>\n",
       "      <th>5438</th>\n",
       "      <td>Ford Endeavour XLT TDCi 4X4</td>\n",
       "      <td>Mumbai</td>\n",
       "      <td>2007</td>\n",
       "      <td>116000</td>\n",
       "      <td>Diesel</td>\n",
       "      <td>Manual</td>\n",
       "      <td>Third</td>\n",
       "      <td>10.90</td>\n",
       "      <td>2499.0</td>\n",
       "      <td>NaN</td>\n",
       "      <td>7.0</td>\n",
       "      <td>NaN</td>\n",
       "      <td>3.75</td>\n",
       "      <td>13</td>\n",
       "    </tr>\n",
       "    <tr>\n",
       "      <th>5458</th>\n",
       "      <td>Maruti Swift VDI BSIV</td>\n",
       "      <td>Hyderabad</td>\n",
       "      <td>2014</td>\n",
       "      <td>81609</td>\n",
       "      <td>Diesel</td>\n",
       "      <td>Manual</td>\n",
       "      <td>First</td>\n",
       "      <td>17.80</td>\n",
       "      <td>1248.0</td>\n",
       "      <td>NaN</td>\n",
       "      <td>5.0</td>\n",
       "      <td>NaN</td>\n",
       "      <td>5.55</td>\n",
       "      <td>6</td>\n",
       "    </tr>\n",
       "    <tr>\n",
       "      <th>5529</th>\n",
       "      <td>Hyundai Santro LP - Euro II</td>\n",
       "      <td>Chennai</td>\n",
       "      <td>2005</td>\n",
       "      <td>105000</td>\n",
       "      <td>Petrol</td>\n",
       "      <td>Manual</td>\n",
       "      <td>First</td>\n",
       "      <td>0.00</td>\n",
       "      <td>999.0</td>\n",
       "      <td>NaN</td>\n",
       "      <td>5.0</td>\n",
       "      <td>NaN</td>\n",
       "      <td>1.75</td>\n",
       "      <td>15</td>\n",
       "    </tr>\n",
       "    <tr>\n",
       "      <th>5533</th>\n",
       "      <td>Hyundai Santro Xing XO eRLX Euro II</td>\n",
       "      <td>Pune</td>\n",
       "      <td>2007</td>\n",
       "      <td>72000</td>\n",
       "      <td>Petrol</td>\n",
       "      <td>Manual</td>\n",
       "      <td>Second</td>\n",
       "      <td>17.00</td>\n",
       "      <td>1086.0</td>\n",
       "      <td>NaN</td>\n",
       "      <td>5.0</td>\n",
       "      <td>NaN</td>\n",
       "      <td>1.11</td>\n",
       "      <td>13</td>\n",
       "    </tr>\n",
       "    <tr>\n",
       "      <th>5647</th>\n",
       "      <td>Toyota Qualis Fleet A3</td>\n",
       "      <td>Mumbai</td>\n",
       "      <td>2001</td>\n",
       "      <td>227000</td>\n",
       "      <td>Diesel</td>\n",
       "      <td>Manual</td>\n",
       "      <td>Fourth &amp; Above</td>\n",
       "      <td>0.00</td>\n",
       "      <td>2446.0</td>\n",
       "      <td>NaN</td>\n",
       "      <td>8.0</td>\n",
       "      <td>NaN</td>\n",
       "      <td>2.20</td>\n",
       "      <td>19</td>\n",
       "    </tr>\n",
       "    <tr>\n",
       "      <th>5755</th>\n",
       "      <td>Hyundai Santro Xing XL eRLX Euro III</td>\n",
       "      <td>Ahmedabad</td>\n",
       "      <td>2008</td>\n",
       "      <td>51000</td>\n",
       "      <td>Petrol</td>\n",
       "      <td>Manual</td>\n",
       "      <td>First</td>\n",
       "      <td>17.00</td>\n",
       "      <td>1086.0</td>\n",
       "      <td>NaN</td>\n",
       "      <td>5.0</td>\n",
       "      <td>NaN</td>\n",
       "      <td>1.75</td>\n",
       "      <td>12</td>\n",
       "    </tr>\n",
       "    <tr>\n",
       "      <th>5759</th>\n",
       "      <td>Hyundai Santro Xing XL eRLX Euro III</td>\n",
       "      <td>Kolkata</td>\n",
       "      <td>2007</td>\n",
       "      <td>46707</td>\n",
       "      <td>Petrol</td>\n",
       "      <td>Manual</td>\n",
       "      <td>First</td>\n",
       "      <td>17.00</td>\n",
       "      <td>1086.0</td>\n",
       "      <td>NaN</td>\n",
       "      <td>5.0</td>\n",
       "      <td>NaN</td>\n",
       "      <td>0.99</td>\n",
       "      <td>13</td>\n",
       "    </tr>\n",
       "    <tr>\n",
       "      <th>5861</th>\n",
       "      <td>Hyundai Santro Xing XO</td>\n",
       "      <td>Chennai</td>\n",
       "      <td>2007</td>\n",
       "      <td>79000</td>\n",
       "      <td>Petrol</td>\n",
       "      <td>Manual</td>\n",
       "      <td>First</td>\n",
       "      <td>17.00</td>\n",
       "      <td>1086.0</td>\n",
       "      <td>NaN</td>\n",
       "      <td>5.0</td>\n",
       "      <td>NaN</td>\n",
       "      <td>1.85</td>\n",
       "      <td>13</td>\n",
       "    </tr>\n",
       "    <tr>\n",
       "      <th>5873</th>\n",
       "      <td>Hyundai Santro Xing XO eRLX Euro II</td>\n",
       "      <td>Pune</td>\n",
       "      <td>2006</td>\n",
       "      <td>47200</td>\n",
       "      <td>Petrol</td>\n",
       "      <td>Manual</td>\n",
       "      <td>Second</td>\n",
       "      <td>17.00</td>\n",
       "      <td>1086.0</td>\n",
       "      <td>NaN</td>\n",
       "      <td>5.0</td>\n",
       "      <td>NaN</td>\n",
       "      <td>1.20</td>\n",
       "      <td>14</td>\n",
       "    </tr>\n",
       "    <tr>\n",
       "      <th>5893</th>\n",
       "      <td>Maruti Estilo LXI</td>\n",
       "      <td>Chennai</td>\n",
       "      <td>2008</td>\n",
       "      <td>51000</td>\n",
       "      <td>Petrol</td>\n",
       "      <td>Manual</td>\n",
       "      <td>Second</td>\n",
       "      <td>19.50</td>\n",
       "      <td>1061.0</td>\n",
       "      <td>NaN</td>\n",
       "      <td>0.0</td>\n",
       "      <td>NaN</td>\n",
       "      <td>1.75</td>\n",
       "      <td>12</td>\n",
       "    </tr>\n",
       "    <tr>\n",
       "      <th>5925</th>\n",
       "      <td>Skoda Laura Classic 1.8 TSI</td>\n",
       "      <td>Pune</td>\n",
       "      <td>2010</td>\n",
       "      <td>85000</td>\n",
       "      <td>Petrol</td>\n",
       "      <td>Manual</td>\n",
       "      <td>First</td>\n",
       "      <td>17.50</td>\n",
       "      <td>1798.0</td>\n",
       "      <td>NaN</td>\n",
       "      <td>5.0</td>\n",
       "      <td>NaN</td>\n",
       "      <td>2.85</td>\n",
       "      <td>10</td>\n",
       "    </tr>\n",
       "    <tr>\n",
       "      <th>5943</th>\n",
       "      <td>Mahindra Jeep MM 540 DP</td>\n",
       "      <td>Chennai</td>\n",
       "      <td>2002</td>\n",
       "      <td>75000</td>\n",
       "      <td>Diesel</td>\n",
       "      <td>Manual</td>\n",
       "      <td>First</td>\n",
       "      <td>0.00</td>\n",
       "      <td>2112.0</td>\n",
       "      <td>NaN</td>\n",
       "      <td>6.0</td>\n",
       "      <td>NaN</td>\n",
       "      <td>1.70</td>\n",
       "      <td>18</td>\n",
       "    </tr>\n",
       "    <tr>\n",
       "      <th>5985</th>\n",
       "      <td>Toyota Etios GD</td>\n",
       "      <td>Delhi</td>\n",
       "      <td>2013</td>\n",
       "      <td>70000</td>\n",
       "      <td>Diesel</td>\n",
       "      <td>Manual</td>\n",
       "      <td>First</td>\n",
       "      <td>23.59</td>\n",
       "      <td>1364.0</td>\n",
       "      <td>NaN</td>\n",
       "      <td>5.0</td>\n",
       "      <td>NaN</td>\n",
       "      <td>3.88</td>\n",
       "      <td>7</td>\n",
       "    </tr>\n",
       "  </tbody>\n",
       "</table>\n",
       "<p>143 rows × 14 columns</p>\n",
       "</div>"
      ],
      "text/plain": [
       "                                         Name    Location  Year  \\\n",
       "76                   Ford Fiesta 1.4 SXi TDCi      Jaipur  2008   \n",
       "79                     Hyundai Santro Xing XL   Hyderabad  2005   \n",
       "89                     Hyundai Santro Xing XO   Hyderabad  2007   \n",
       "120      Hyundai Santro Xing XL eRLX Euro III      Mumbai  2005   \n",
       "143       Hyundai Santro Xing XO eRLX Euro II       Kochi  2008   \n",
       "194                        Honda City 1.5 GXI   Ahmedabad  2007   \n",
       "208                      Maruti Swift 1.3 VXi     Kolkata  2010   \n",
       "227                     Maruti Swift VDI BSIV       Delhi  2013   \n",
       "245       Hyundai Santro Xing XO eRLX Euro II      Mumbai  2007   \n",
       "262                    Hyundai Santro Xing XL   Hyderabad  2006   \n",
       "307                    Hyundai Santro Xing XL     Chennai  2006   \n",
       "308                     Maruti Swift VDI BSIV     Kolkata  2011   \n",
       "386      Hyundai Santro Xing XL eRLX Euro III   Hyderabad  2007   \n",
       "424      Volkswagen Jetta 2007-2011 1.9 L TDI   Hyderabad  2010   \n",
       "428       Hyundai Santro Xing XO eRLX Euro II        Pune  2006   \n",
       "443             Hyundai Santro GLS I - Euro I  Coimbatore  2012   \n",
       "472           Ford Fiesta 1.6 SXI ABS Duratec     Chennai  2009   \n",
       "575                    Hyundai Santro Xing XO     Chennai  2006   \n",
       "631                 Hyundai Santro LS zipPlus     Chennai  2002   \n",
       "647                    Hyundai Santro Xing XP      Jaipur  2004   \n",
       "648                           Tata Indica DLS      Jaipur  2009   \n",
       "733                      Maruti Swift 1.3 VXi     Chennai  2006   \n",
       "739                     Maruti Swift VDI BSIV   Bangalore  2007   \n",
       "748                    Hyundai Santro Xing XO   Hyderabad  2007   \n",
       "749              Land Rover Range Rover 3.0 D      Mumbai  2008   \n",
       "829                       Toyota Etios Liva G      Mumbai  2012   \n",
       "915                       Smart Fortwo CDI AT        Pune  2008   \n",
       "926                Porsche Cayman 2009-2012 S   Hyderabad  2010   \n",
       "934                           Toyota Etios GD     Kolkata  2012   \n",
       "1068                     Toyota Etios Liva GD        Pune  2012   \n",
       "...                                       ...         ...   ...   \n",
       "4697                   Fiat Punto 1.2 Dynamic       Kochi  2017   \n",
       "4709                           Maruti 1000 AC   Hyderabad  1998   \n",
       "4712                   Hyundai Santro Xing XG        Pune  2003   \n",
       "4714            Mercedes-Benz E-Class 220 CDI   Ahmedabad  2011   \n",
       "4744     Hyundai Santro Xing XL eRLX Euro III     Kolkata  2005   \n",
       "4830                        Maruti Esteem Vxi     Chennai  2004   \n",
       "4886   Hyundai Santro Xing XL AT eRLX Euro II   Hyderabad  2007   \n",
       "4900  Hyundai Santro Xing XL AT eRLX Euro III   Hyderabad  2007   \n",
       "4952                   Fiat Punto 1.4 Emotion     Kolkata  2010   \n",
       "4954                     Toyota Etios Liva GD  Coimbatore  2013   \n",
       "5015                     Maruti Swift 1.3 VXi       Delhi  2006   \n",
       "5065              Maruti Swift VDI BSIV W ABS   Hyderabad  2016   \n",
       "5119                   Hyundai Santro Xing XP     Kolkata  2008   \n",
       "5185                     Maruti Swift 1.3 LXI       Delhi  2012   \n",
       "5228     Hyundai Santro Xing XL eRLX Euro III        Pune  2005   \n",
       "5270                       Honda City 1.5 GXI   Bangalore  2002   \n",
       "5426                   Hyundai Santro Xing XL     Chennai  2006   \n",
       "5438              Ford Endeavour XLT TDCi 4X4      Mumbai  2007   \n",
       "5458                    Maruti Swift VDI BSIV   Hyderabad  2014   \n",
       "5529              Hyundai Santro LP - Euro II     Chennai  2005   \n",
       "5533      Hyundai Santro Xing XO eRLX Euro II        Pune  2007   \n",
       "5647                   Toyota Qualis Fleet A3      Mumbai  2001   \n",
       "5755     Hyundai Santro Xing XL eRLX Euro III   Ahmedabad  2008   \n",
       "5759     Hyundai Santro Xing XL eRLX Euro III     Kolkata  2007   \n",
       "5861                   Hyundai Santro Xing XO     Chennai  2007   \n",
       "5873      Hyundai Santro Xing XO eRLX Euro II        Pune  2006   \n",
       "5893                        Maruti Estilo LXI     Chennai  2008   \n",
       "5925              Skoda Laura Classic 1.8 TSI        Pune  2010   \n",
       "5943                  Mahindra Jeep MM 540 DP     Chennai  2002   \n",
       "5985                          Toyota Etios GD       Delhi  2013   \n",
       "\n",
       "      Kilometers_Driven Fuel_Type Transmission      Owner_Type  Mileage  \\\n",
       "76               111111    Diesel       Manual           First    17.80   \n",
       "79                87591    Petrol       Manual           First     0.00   \n",
       "89                73745    Petrol       Manual           First    17.00   \n",
       "120              102000    Petrol       Manual          Second    17.00   \n",
       "143               80759    Petrol       Manual           Third    17.00   \n",
       "194               60006    Petrol       Manual           First     0.00   \n",
       "208               42001    Petrol       Manual           First    16.10   \n",
       "227               47000    Diesel       Manual           First    17.80   \n",
       "245               72000    Petrol       Manual           Third    17.00   \n",
       "262               99000    Petrol       Manual           First     0.00   \n",
       "307               58000    Petrol       Manual          Second     0.00   \n",
       "308               60020    Diesel       Manual           First    17.80   \n",
       "386               50958    Petrol       Manual           First    17.00   \n",
       "424               42021    Diesel       Manual           First     0.00   \n",
       "428              108000    Petrol       Manual          Second    17.00   \n",
       "443               50243    Petrol       Manual           First     0.00   \n",
       "472               80524    Petrol       Manual          Second    15.30   \n",
       "575               83072    Petrol       Manual           First    17.00   \n",
       "631               70000    Petrol       Manual           Third     0.00   \n",
       "647              200000    Petrol       Manual           First     0.00   \n",
       "648               82000    Diesel       Manual          Second    13.50   \n",
       "733               97800    Petrol       Manual           Third    16.10   \n",
       "739               60000    Diesel       Manual          Second    17.80   \n",
       "748               71297    Petrol       Manual           First    17.00   \n",
       "749               55001    Diesel    Automatic          Second     0.00   \n",
       "829               29605    Petrol       Manual           First    18.30   \n",
       "915              103000    Diesel    Automatic          Second     0.00   \n",
       "926               10000    Petrol       Manual           First     9.00   \n",
       "934               60000    Diesel       Manual           First    23.59   \n",
       "1068             225000    Diesel       Manual          Second    23.59   \n",
       "...                 ...       ...          ...             ...      ...   \n",
       "4697              17941    Petrol       Manual           First    15.70   \n",
       "4709             104000    Petrol       Manual          Second    15.00   \n",
       "4712              80000    Petrol       Manual          Second    17.00   \n",
       "4714              78000    Diesel       Manual          Second    15.00   \n",
       "4744              45000    Petrol       Manual           First    17.00   \n",
       "4830              95000    Petrol       Manual           First    15.90   \n",
       "4886              76000    Petrol    Automatic           First    17.00   \n",
       "4900              71000    Petrol    Automatic           First    17.00   \n",
       "4952              47000    Petrol       Manual           First    14.60   \n",
       "4954              62601    Diesel       Manual           First    23.59   \n",
       "5015              63000    Petrol       Manual           First    16.10   \n",
       "5065              64000    Diesel       Manual           First    17.80   \n",
       "5119              45500    Petrol       Manual          Second     0.00   \n",
       "5185              52000    Petrol       Manual           First    16.10   \n",
       "5228             126000    Petrol       Manual          Second    17.00   \n",
       "5270              53000    Petrol       Manual          Second     0.00   \n",
       "5426              85000    Petrol       Manual           Third     0.00   \n",
       "5438             116000    Diesel       Manual           Third    10.90   \n",
       "5458              81609    Diesel       Manual           First    17.80   \n",
       "5529             105000    Petrol       Manual           First     0.00   \n",
       "5533              72000    Petrol       Manual          Second    17.00   \n",
       "5647             227000    Diesel       Manual  Fourth & Above     0.00   \n",
       "5755              51000    Petrol       Manual           First    17.00   \n",
       "5759              46707    Petrol       Manual           First    17.00   \n",
       "5861              79000    Petrol       Manual           First    17.00   \n",
       "5873              47200    Petrol       Manual          Second    17.00   \n",
       "5893              51000    Petrol       Manual          Second    19.50   \n",
       "5925              85000    Petrol       Manual           First    17.50   \n",
       "5943              75000    Diesel       Manual           First     0.00   \n",
       "5985              70000    Diesel       Manual           First    23.59   \n",
       "\n",
       "      Engine  Power Seats New_Price  Price  No_Years  \n",
       "76    1399.0    NaN   5.0       NaN   2.00        12  \n",
       "79    1086.0    NaN   5.0       NaN   1.30        15  \n",
       "89    1086.0    NaN   5.0       NaN   2.10        13  \n",
       "120   1086.0    NaN   5.0       NaN   0.85        15  \n",
       "143   1086.0    NaN   5.0       NaN   1.67        12  \n",
       "194      NaN    NaN   0.0       NaN   2.95        13  \n",
       "208      NaN    NaN   0.0       NaN   2.11        10  \n",
       "227   1248.0    NaN   5.0       NaN   4.10         7  \n",
       "245   1086.0    NaN   5.0       NaN   0.95        13  \n",
       "262   1086.0    NaN   5.0       NaN   1.75        14  \n",
       "307   1086.0    NaN   5.0       NaN   1.50        14  \n",
       "308   1248.0    NaN   5.0       NaN   2.50         9  \n",
       "386   1086.0    NaN   5.0       NaN   1.95        13  \n",
       "424   1968.0    NaN   5.0       NaN   5.45        10  \n",
       "428   1086.0    NaN   5.0       NaN   1.20        14  \n",
       "443   1086.0    NaN   5.0       NaN   3.35         8  \n",
       "472   1596.0    NaN   5.0       NaN   2.50        11  \n",
       "575   1086.0    NaN   5.0       NaN   1.40        14  \n",
       "631   1086.0    NaN   5.0       NaN   0.65        18  \n",
       "647   1086.0    NaN   5.0       NaN   0.80        16  \n",
       "648   1405.0    NaN   5.0       NaN   0.75        11  \n",
       "733      NaN    NaN   0.0       NaN   1.75        14  \n",
       "739   1248.0    NaN   5.0       NaN   3.40        13  \n",
       "748   1086.0    NaN   5.0       NaN   2.20        13  \n",
       "749      NaN    NaN   0.0       NaN  26.50        12  \n",
       "829   1197.0    NaN   5.0       NaN   2.44         8  \n",
       "915    799.0    NaN   2.0       NaN   3.00        12  \n",
       "926   3436.0    NaN   2.0       NaN  40.00        10  \n",
       "934   1364.0    NaN   5.0       NaN   2.95         8  \n",
       "1068  1364.0    NaN   5.0       NaN   2.60         8  \n",
       "...      ...    ...   ...       ...    ...       ...  \n",
       "4697     NaN    NaN   0.0       NaN   3.93         3  \n",
       "4709   970.0    NaN   5.0       NaN   0.85        22  \n",
       "4712     NaN    NaN   0.0       NaN   0.90        17  \n",
       "4714  2148.0    NaN   5.0       NaN  14.50         9  \n",
       "4744  1086.0    NaN   5.0       NaN   0.95        15  \n",
       "4830  1298.0    NaN   5.0       NaN   0.80        16  \n",
       "4886  1086.0    NaN   5.0       NaN   2.40        13  \n",
       "4900  1086.0    NaN   5.0       NaN   2.40        13  \n",
       "4952     NaN    NaN   0.0       NaN   1.49        10  \n",
       "4954  1364.0    NaN   5.0       NaN   4.67         7  \n",
       "5015     NaN    NaN   0.0       NaN   1.60        14  \n",
       "5065  1248.0    NaN   5.0       NaN   5.99         4  \n",
       "5119  1086.0    NaN   5.0       NaN   1.17        12  \n",
       "5185     NaN    NaN   0.0       NaN   3.65         8  \n",
       "5228  1086.0    NaN   5.0       NaN   1.20        15  \n",
       "5270     NaN    NaN   0.0       NaN   1.85        18  \n",
       "5426  1086.0    NaN   5.0       NaN   1.30        14  \n",
       "5438  2499.0    NaN   7.0       NaN   3.75        13  \n",
       "5458  1248.0    NaN   5.0       NaN   5.55         6  \n",
       "5529   999.0    NaN   5.0       NaN   1.75        15  \n",
       "5533  1086.0    NaN   5.0       NaN   1.11        13  \n",
       "5647  2446.0    NaN   8.0       NaN   2.20        19  \n",
       "5755  1086.0    NaN   5.0       NaN   1.75        12  \n",
       "5759  1086.0    NaN   5.0       NaN   0.99        13  \n",
       "5861  1086.0    NaN   5.0       NaN   1.85        13  \n",
       "5873  1086.0    NaN   5.0       NaN   1.20        14  \n",
       "5893  1061.0    NaN   0.0       NaN   1.75        12  \n",
       "5925  1798.0    NaN   5.0       NaN   2.85        10  \n",
       "5943  2112.0    NaN   6.0       NaN   1.70        18  \n",
       "5985  1364.0    NaN   5.0       NaN   3.88         7  \n",
       "\n",
       "[143 rows x 14 columns]"
      ]
     },
     "execution_count": 145,
     "metadata": {},
     "output_type": "execute_result"
    }
   ],
   "source": [
    "train_data_processed[pd.isnull(train_data_processed.Power)]"
   ]
  },
  {
   "cell_type": "code",
   "execution_count": 169,
   "metadata": {},
   "outputs": [
    {
     "data": {
      "text/plain": [
       "count    6019.000000\n",
       "mean     1620.551088\n",
       "std       599.626796\n",
       "min        72.000000\n",
       "25%      1198.000000\n",
       "50%      1493.000000\n",
       "75%      1969.000000\n",
       "max      5998.000000\n",
       "Name: Engine, dtype: float64"
      ]
     },
     "execution_count": 169,
     "metadata": {},
     "output_type": "execute_result"
    }
   ],
   "source": [
    "train_data_processed.Engine.describe()"
   ]
  },
  {
   "cell_type": "markdown",
   "metadata": {},
   "source": [
    "#  Engine Imputation  - 1500"
   ]
  },
  {
   "cell_type": "code",
   "execution_count": 160,
   "metadata": {},
   "outputs": [],
   "source": [
    "train_data_processed.Engine = train_data_processed.Engine.fillna(1500.0)"
   ]
  },
  {
   "cell_type": "code",
   "execution_count": 171,
   "metadata": {},
   "outputs": [
    {
     "data": {
      "text/html": [
       "<div>\n",
       "<style scoped>\n",
       "    .dataframe tbody tr th:only-of-type {\n",
       "        vertical-align: middle;\n",
       "    }\n",
       "\n",
       "    .dataframe tbody tr th {\n",
       "        vertical-align: top;\n",
       "    }\n",
       "\n",
       "    .dataframe thead th {\n",
       "        text-align: right;\n",
       "    }\n",
       "</style>\n",
       "<table border=\"1\" class=\"dataframe\">\n",
       "  <thead>\n",
       "    <tr style=\"text-align: right;\">\n",
       "      <th></th>\n",
       "      <th>Year</th>\n",
       "      <th>Kilometers_Driven</th>\n",
       "      <th>Mileage</th>\n",
       "      <th>Engine</th>\n",
       "      <th>Power</th>\n",
       "      <th>Price</th>\n",
       "      <th>No_Years</th>\n",
       "    </tr>\n",
       "  </thead>\n",
       "  <tbody>\n",
       "    <tr>\n",
       "      <th>count</th>\n",
       "      <td>6019.000000</td>\n",
       "      <td>6.019000e+03</td>\n",
       "      <td>6019.000000</td>\n",
       "      <td>6019.000000</td>\n",
       "      <td>6019.000000</td>\n",
       "      <td>6019.000000</td>\n",
       "      <td>6019.000000</td>\n",
       "    </tr>\n",
       "    <tr>\n",
       "      <th>mean</th>\n",
       "      <td>2013.358199</td>\n",
       "      <td>5.873838e+04</td>\n",
       "      <td>18.152195</td>\n",
       "      <td>1620.551088</td>\n",
       "      <td>112.938182</td>\n",
       "      <td>9.479468</td>\n",
       "      <td>6.641801</td>\n",
       "    </tr>\n",
       "    <tr>\n",
       "      <th>std</th>\n",
       "      <td>3.269742</td>\n",
       "      <td>9.126884e+04</td>\n",
       "      <td>4.692229</td>\n",
       "      <td>599.626796</td>\n",
       "      <td>53.269277</td>\n",
       "      <td>11.187917</td>\n",
       "      <td>3.269742</td>\n",
       "    </tr>\n",
       "    <tr>\n",
       "      <th>min</th>\n",
       "      <td>1998.000000</td>\n",
       "      <td>1.710000e+02</td>\n",
       "      <td>0.000000</td>\n",
       "      <td>72.000000</td>\n",
       "      <td>34.200000</td>\n",
       "      <td>0.440000</td>\n",
       "      <td>1.000000</td>\n",
       "    </tr>\n",
       "    <tr>\n",
       "      <th>25%</th>\n",
       "      <td>2011.000000</td>\n",
       "      <td>3.400000e+04</td>\n",
       "      <td>15.170000</td>\n",
       "      <td>1198.000000</td>\n",
       "      <td>78.000000</td>\n",
       "      <td>3.500000</td>\n",
       "      <td>4.000000</td>\n",
       "    </tr>\n",
       "    <tr>\n",
       "      <th>50%</th>\n",
       "      <td>2014.000000</td>\n",
       "      <td>5.300000e+04</td>\n",
       "      <td>18.160000</td>\n",
       "      <td>1493.000000</td>\n",
       "      <td>98.600000</td>\n",
       "      <td>5.640000</td>\n",
       "      <td>6.000000</td>\n",
       "    </tr>\n",
       "    <tr>\n",
       "      <th>75%</th>\n",
       "      <td>2016.000000</td>\n",
       "      <td>7.300000e+04</td>\n",
       "      <td>21.100000</td>\n",
       "      <td>1969.000000</td>\n",
       "      <td>138.030000</td>\n",
       "      <td>9.950000</td>\n",
       "      <td>9.000000</td>\n",
       "    </tr>\n",
       "    <tr>\n",
       "      <th>max</th>\n",
       "      <td>2019.000000</td>\n",
       "      <td>6.500000e+06</td>\n",
       "      <td>90.000000</td>\n",
       "      <td>5998.000000</td>\n",
       "      <td>560.000000</td>\n",
       "      <td>160.000000</td>\n",
       "      <td>22.000000</td>\n",
       "    </tr>\n",
       "  </tbody>\n",
       "</table>\n",
       "</div>"
      ],
      "text/plain": [
       "              Year  Kilometers_Driven      Mileage       Engine        Power  \\\n",
       "count  6019.000000       6.019000e+03  6019.000000  6019.000000  6019.000000   \n",
       "mean   2013.358199       5.873838e+04    18.152195  1620.551088   112.938182   \n",
       "std       3.269742       9.126884e+04     4.692229   599.626796    53.269277   \n",
       "min    1998.000000       1.710000e+02     0.000000    72.000000    34.200000   \n",
       "25%    2011.000000       3.400000e+04    15.170000  1198.000000    78.000000   \n",
       "50%    2014.000000       5.300000e+04    18.160000  1493.000000    98.600000   \n",
       "75%    2016.000000       7.300000e+04    21.100000  1969.000000   138.030000   \n",
       "max    2019.000000       6.500000e+06    90.000000  5998.000000   560.000000   \n",
       "\n",
       "             Price     No_Years  \n",
       "count  6019.000000  6019.000000  \n",
       "mean      9.479468     6.641801  \n",
       "std      11.187917     3.269742  \n",
       "min       0.440000     1.000000  \n",
       "25%       3.500000     4.000000  \n",
       "50%       5.640000     6.000000  \n",
       "75%       9.950000     9.000000  \n",
       "max     160.000000    22.000000  "
      ]
     },
     "execution_count": 171,
     "metadata": {},
     "output_type": "execute_result"
    }
   ],
   "source": [
    "train_data_processed.describe()"
   ]
  },
  {
   "cell_type": "code",
   "execution_count": 172,
   "metadata": {},
   "outputs": [
    {
     "data": {
      "text/plain": [
       "Index(['Name', 'Location', 'Year', 'Kilometers_Driven', 'Fuel_Type',\n",
       "       'Transmission', 'Owner_Type', 'Mileage', 'Engine', 'Power', 'Seats',\n",
       "       'New_Price', 'Price', 'No_Years'],\n",
       "      dtype='object')"
      ]
     },
     "execution_count": 172,
     "metadata": {},
     "output_type": "execute_result"
    }
   ],
   "source": [
    "train_data_processed.columns"
   ]
  },
  {
   "cell_type": "code",
   "execution_count": 173,
   "metadata": {},
   "outputs": [],
   "source": [
    "target = train_data_processed.Price"
   ]
  },
  {
   "cell_type": "code",
   "execution_count": 176,
   "metadata": {},
   "outputs": [
    {
     "name": "stdout",
     "output_type": "stream",
     "text": [
      "<class 'pandas.core.frame.DataFrame'>\n",
      "RangeIndex: 6019 entries, 0 to 6018\n",
      "Data columns (total 14 columns):\n",
      "Name                 6019 non-null object\n",
      "Location             6019 non-null object\n",
      "Year                 6019 non-null category\n",
      "Kilometers_Driven    6019 non-null int64\n",
      "Fuel_Type            6019 non-null object\n",
      "Transmission         6019 non-null object\n",
      "Owner_Type           6019 non-null object\n",
      "Mileage              6019 non-null float64\n",
      "Engine               6019 non-null float64\n",
      "Power                6019 non-null float64\n",
      "Seats                6019 non-null category\n",
      "New_Price            824 non-null object\n",
      "Price                6019 non-null float64\n",
      "No_Years             6019 non-null int64\n",
      "dtypes: category(2), float64(4), int64(2), object(6)\n",
      "memory usage: 577.3+ KB\n"
     ]
    }
   ],
   "source": [
    "train_data_processed.info()"
   ]
  },
  {
   "cell_type": "code",
   "execution_count": 175,
   "metadata": {},
   "outputs": [],
   "source": [
    "train_data_processed.Year = train_data_processed.Year.astype('category')"
   ]
  },
  {
   "cell_type": "code",
   "execution_count": 177,
   "metadata": {},
   "outputs": [],
   "source": [
    "input_columns = ['Location', 'Year', 'Kilometers_Driven', 'Fuel_Type','Transmission', 'Owner_Type', 'Mileage', 'Engine', 'Power', 'Seats', 'No_Years']"
   ]
  },
  {
   "cell_type": "code",
   "execution_count": 178,
   "metadata": {},
   "outputs": [
    {
     "data": {
      "text/plain": [
       "11"
      ]
     },
     "execution_count": 178,
     "metadata": {},
     "output_type": "execute_result"
    }
   ],
   "source": [
    "len(input_columns)"
   ]
  },
  {
   "cell_type": "code",
   "execution_count": 179,
   "metadata": {},
   "outputs": [],
   "source": [
    "train_data_input = train_data_processed[input_columns]"
   ]
  },
  {
   "cell_type": "code",
   "execution_count": 180,
   "metadata": {},
   "outputs": [
    {
     "name": "stdout",
     "output_type": "stream",
     "text": [
      "<class 'pandas.core.frame.DataFrame'>\n",
      "RangeIndex: 6019 entries, 0 to 6018\n",
      "Data columns (total 11 columns):\n",
      "Location             6019 non-null object\n",
      "Year                 6019 non-null category\n",
      "Kilometers_Driven    6019 non-null int64\n",
      "Fuel_Type            6019 non-null object\n",
      "Transmission         6019 non-null object\n",
      "Owner_Type           6019 non-null object\n",
      "Mileage              6019 non-null float64\n",
      "Engine               6019 non-null float64\n",
      "Power                6019 non-null float64\n",
      "Seats                6019 non-null category\n",
      "No_Years             6019 non-null int64\n",
      "dtypes: category(2), float64(3), int64(2), object(4)\n",
      "memory usage: 436.2+ KB\n"
     ]
    }
   ],
   "source": [
    "train_data_input.info()"
   ]
  },
  {
   "cell_type": "code",
   "execution_count": 181,
   "metadata": {},
   "outputs": [],
   "source": [
    "train_data_input_encoded = pd.get_dummies(train_data_input)"
   ]
  },
  {
   "cell_type": "code",
   "execution_count": 182,
   "metadata": {},
   "outputs": [
    {
     "name": "stdout",
     "output_type": "stream",
     "text": [
      "<class 'pandas.core.frame.DataFrame'>\n",
      "RangeIndex: 6019 entries, 0 to 6018\n",
      "Data columns (total 58 columns):\n",
      "Kilometers_Driven            6019 non-null int64\n",
      "Mileage                      6019 non-null float64\n",
      "Engine                       6019 non-null float64\n",
      "Power                        6019 non-null float64\n",
      "No_Years                     6019 non-null int64\n",
      "Location_Ahmedabad           6019 non-null uint8\n",
      "Location_Bangalore           6019 non-null uint8\n",
      "Location_Chennai             6019 non-null uint8\n",
      "Location_Coimbatore          6019 non-null uint8\n",
      "Location_Delhi               6019 non-null uint8\n",
      "Location_Hyderabad           6019 non-null uint8\n",
      "Location_Jaipur              6019 non-null uint8\n",
      "Location_Kochi               6019 non-null uint8\n",
      "Location_Kolkata             6019 non-null uint8\n",
      "Location_Mumbai              6019 non-null uint8\n",
      "Location_Pune                6019 non-null uint8\n",
      "Year_1998                    6019 non-null uint8\n",
      "Year_1999                    6019 non-null uint8\n",
      "Year_2000                    6019 non-null uint8\n",
      "Year_2001                    6019 non-null uint8\n",
      "Year_2002                    6019 non-null uint8\n",
      "Year_2003                    6019 non-null uint8\n",
      "Year_2004                    6019 non-null uint8\n",
      "Year_2005                    6019 non-null uint8\n",
      "Year_2006                    6019 non-null uint8\n",
      "Year_2007                    6019 non-null uint8\n",
      "Year_2008                    6019 non-null uint8\n",
      "Year_2009                    6019 non-null uint8\n",
      "Year_2010                    6019 non-null uint8\n",
      "Year_2011                    6019 non-null uint8\n",
      "Year_2012                    6019 non-null uint8\n",
      "Year_2013                    6019 non-null uint8\n",
      "Year_2014                    6019 non-null uint8\n",
      "Year_2015                    6019 non-null uint8\n",
      "Year_2016                    6019 non-null uint8\n",
      "Year_2017                    6019 non-null uint8\n",
      "Year_2018                    6019 non-null uint8\n",
      "Year_2019                    6019 non-null uint8\n",
      "Fuel_Type_CNG                6019 non-null uint8\n",
      "Fuel_Type_Diesel             6019 non-null uint8\n",
      "Fuel_Type_Electric           6019 non-null uint8\n",
      "Fuel_Type_LPG                6019 non-null uint8\n",
      "Fuel_Type_Petrol             6019 non-null uint8\n",
      "Transmission_Automatic       6019 non-null uint8\n",
      "Transmission_Manual          6019 non-null uint8\n",
      "Owner_Type_First             6019 non-null uint8\n",
      "Owner_Type_Fourth & Above    6019 non-null uint8\n",
      "Owner_Type_Second            6019 non-null uint8\n",
      "Owner_Type_Third             6019 non-null uint8\n",
      "Seats_0.0                    6019 non-null uint8\n",
      "Seats_2.0                    6019 non-null uint8\n",
      "Seats_4.0                    6019 non-null uint8\n",
      "Seats_5.0                    6019 non-null uint8\n",
      "Seats_6.0                    6019 non-null uint8\n",
      "Seats_7.0                    6019 non-null uint8\n",
      "Seats_8.0                    6019 non-null uint8\n",
      "Seats_9.0                    6019 non-null uint8\n",
      "Seats_10.0                   6019 non-null uint8\n",
      "dtypes: float64(3), int64(2), uint8(53)\n",
      "memory usage: 546.7 KB\n"
     ]
    }
   ],
   "source": [
    "train_data_input_encoded.info()"
   ]
  },
  {
   "cell_type": "markdown",
   "metadata": {},
   "source": [
    "#     Modelling and Cross Validation"
   ]
  },
  {
   "cell_type": "code",
   "execution_count": 183,
   "metadata": {},
   "outputs": [],
   "source": [
    "from sklearn.model_selection import cross_val_score"
   ]
  },
  {
   "cell_type": "code",
   "execution_count": 184,
   "metadata": {},
   "outputs": [],
   "source": [
    "from sklearn.linear_model import LinearRegression"
   ]
  },
  {
   "cell_type": "code",
   "execution_count": 188,
   "metadata": {},
   "outputs": [],
   "source": [
    "linear_reg = LinearRegression()"
   ]
  },
  {
   "cell_type": "code",
   "execution_count": 189,
   "metadata": {},
   "outputs": [],
   "source": [
    "scores = cross_val_score(linear_reg, train_data_input_encoded.values, target.values, cv=5)"
   ]
  },
  {
   "cell_type": "code",
   "execution_count": 190,
   "metadata": {},
   "outputs": [
    {
     "data": {
      "text/plain": [
       "array([0.72646339, 0.53274613, 0.72352835, 0.65983148, 0.76815087])"
      ]
     },
     "execution_count": 190,
     "metadata": {},
     "output_type": "execute_result"
    }
   ],
   "source": [
    "scores"
   ]
  },
  {
   "cell_type": "code",
   "execution_count": 191,
   "metadata": {},
   "outputs": [
    {
     "data": {
      "text/plain": [
       "0.6821440431724892"
      ]
     },
     "execution_count": 191,
     "metadata": {},
     "output_type": "execute_result"
    }
   ],
   "source": [
    "np.mean(scores)"
   ]
  },
  {
   "cell_type": "code",
   "execution_count": 192,
   "metadata": {},
   "outputs": [
    {
     "data": {
      "text/plain": [
       "numpy.ndarray"
      ]
     },
     "execution_count": 192,
     "metadata": {},
     "output_type": "execute_result"
    }
   ],
   "source": [
    "type(scores)"
   ]
  },
  {
   "cell_type": "markdown",
   "metadata": {},
   "source": [
    "# Model without Pre-processing "
   ]
  },
  {
   "cell_type": "code",
   "execution_count": 193,
   "metadata": {},
   "outputs": [],
   "source": [
    "model_reg_1 = linear_reg.fit(train_data_input_encoded.values, target.values)"
   ]
  },
  {
   "cell_type": "code",
   "execution_count": 194,
   "metadata": {},
   "outputs": [],
   "source": [
    "# Predicting on Test data "
   ]
  },
  {
   "cell_type": "code",
   "execution_count": 195,
   "metadata": {},
   "outputs": [],
   "source": [
    "test_data = pd.read_excel(\"Data_Test.xlsx\")"
   ]
  },
  {
   "cell_type": "code",
   "execution_count": 248,
   "metadata": {},
   "outputs": [
    {
     "name": "stdout",
     "output_type": "stream",
     "text": [
      "<class 'pandas.core.frame.DataFrame'>\n",
      "RangeIndex: 1234 entries, 0 to 1233\n",
      "Data columns (total 13 columns):\n",
      "Name                 1234 non-null object\n",
      "Location             1234 non-null object\n",
      "Year                 1234 non-null category\n",
      "Kilometers_Driven    1234 non-null int64\n",
      "Fuel_Type            1234 non-null object\n",
      "Transmission         1234 non-null object\n",
      "Owner_Type           1234 non-null object\n",
      "Mileage              1234 non-null float64\n",
      "Engine               1234 non-null float64\n",
      "Power                1234 non-null float64\n",
      "Seats                1234 non-null category\n",
      "New_Price            182 non-null object\n",
      "No_Years             1234 non-null int64\n",
      "dtypes: category(2), float64(3), int64(2), object(6)\n",
      "memory usage: 109.7+ KB\n"
     ]
    }
   ],
   "source": [
    "test_data.info()"
   ]
  },
  {
   "cell_type": "markdown",
   "metadata": {},
   "source": [
    "#      Missing Values"
   ]
  },
  {
   "cell_type": "code",
   "execution_count": 197,
   "metadata": {},
   "outputs": [],
   "source": [
    "test_data.Engine = test_data.Engine.fillna(1500.0)"
   ]
  },
  {
   "cell_type": "code",
   "execution_count": 247,
   "metadata": {},
   "outputs": [],
   "source": [
    "test_data.Power = test_data.Power.fillna(100.0)"
   ]
  },
  {
   "cell_type": "code",
   "execution_count": 209,
   "metadata": {},
   "outputs": [],
   "source": [
    "test_data.Seats = test_data.Seats.astype('category')"
   ]
  },
  {
   "cell_type": "code",
   "execution_count": 208,
   "metadata": {},
   "outputs": [
    {
     "data": {
      "text/plain": [
       "5.0     1033\n",
       "7.0      122\n",
       "8.0       36\n",
       "4.0       20\n",
       "0.0       11\n",
       "6.0        7\n",
       "10.0       3\n",
       "2.0        2\n",
       "Name: Seats, dtype: int64"
      ]
     },
     "execution_count": 208,
     "metadata": {},
     "output_type": "execute_result"
    }
   ],
   "source": [
    "test_data.Seats.value_counts()"
   ]
  },
  {
   "cell_type": "code",
   "execution_count": 207,
   "metadata": {},
   "outputs": [],
   "source": [
    "test_data.Seats = test_data.Seats.fillna('0.0')"
   ]
  },
  {
   "cell_type": "code",
   "execution_count": 211,
   "metadata": {},
   "outputs": [],
   "source": [
    "test_data['No_Years'] = 2020 - test_data.Year"
   ]
  },
  {
   "cell_type": "code",
   "execution_count": 212,
   "metadata": {},
   "outputs": [],
   "source": [
    "test_data['Year'] = test_data['Year'].astype('category')"
   ]
  },
  {
   "cell_type": "code",
   "execution_count": 249,
   "metadata": {},
   "outputs": [],
   "source": [
    "test_data_input = test_data[input_columns]"
   ]
  },
  {
   "cell_type": "code",
   "execution_count": 250,
   "metadata": {},
   "outputs": [
    {
     "name": "stdout",
     "output_type": "stream",
     "text": [
      "<class 'pandas.core.frame.DataFrame'>\n",
      "RangeIndex: 1234 entries, 0 to 1233\n",
      "Data columns (total 11 columns):\n",
      "Location             1234 non-null object\n",
      "Year                 1234 non-null category\n",
      "Kilometers_Driven    1234 non-null int64\n",
      "Fuel_Type            1234 non-null object\n",
      "Transmission         1234 non-null object\n",
      "Owner_Type           1234 non-null object\n",
      "Mileage              1234 non-null float64\n",
      "Engine               1234 non-null float64\n",
      "Power                1234 non-null float64\n",
      "Seats                1234 non-null category\n",
      "No_Years             1234 non-null int64\n",
      "dtypes: category(2), float64(3), int64(2), object(4)\n",
      "memory usage: 90.4+ KB\n"
     ]
    }
   ],
   "source": [
    "test_data_input.info()"
   ]
  },
  {
   "cell_type": "code",
   "execution_count": 253,
   "metadata": {},
   "outputs": [
    {
     "name": "stderr",
     "output_type": "stream",
     "text": [
      "/home/subramanyat/anaconda3/lib/python3.7/site-packages/ipykernel_launcher.py:1: SettingWithCopyWarning: \n",
      "A value is trying to be set on a copy of a slice from a DataFrame.\n",
      "Try using .loc[row_indexer,col_indexer] = value instead\n",
      "\n",
      "See the caveats in the documentation: http://pandas.pydata.org/pandas-docs/stable/indexing.html#indexing-view-versus-copy\n",
      "  \"\"\"Entry point for launching an IPython kernel.\n"
     ]
    }
   ],
   "source": [
    "test_data_input['Test'] = True"
   ]
  },
  {
   "cell_type": "code",
   "execution_count": 251,
   "metadata": {},
   "outputs": [
    {
     "name": "stdout",
     "output_type": "stream",
     "text": [
      "<class 'pandas.core.frame.DataFrame'>\n",
      "RangeIndex: 1234 entries, 0 to 1233\n",
      "Data columns (total 11 columns):\n",
      "Location             1234 non-null object\n",
      "Year                 1234 non-null category\n",
      "Kilometers_Driven    1234 non-null int64\n",
      "Fuel_Type            1234 non-null object\n",
      "Transmission         1234 non-null object\n",
      "Owner_Type           1234 non-null object\n",
      "Mileage              1234 non-null float64\n",
      "Engine               1234 non-null float64\n",
      "Power                1234 non-null float64\n",
      "Seats                1234 non-null category\n",
      "No_Years             1234 non-null int64\n",
      "dtypes: category(2), float64(3), int64(2), object(4)\n",
      "memory usage: 90.4+ KB\n"
     ]
    }
   ],
   "source": [
    "test_data_input.info()"
   ]
  },
  {
   "cell_type": "code",
   "execution_count": 252,
   "metadata": {},
   "outputs": [
    {
     "name": "stderr",
     "output_type": "stream",
     "text": [
      "/home/subramanyat/anaconda3/lib/python3.7/site-packages/ipykernel_launcher.py:1: SettingWithCopyWarning: \n",
      "A value is trying to be set on a copy of a slice from a DataFrame.\n",
      "Try using .loc[row_indexer,col_indexer] = value instead\n",
      "\n",
      "See the caveats in the documentation: http://pandas.pydata.org/pandas-docs/stable/indexing.html#indexing-view-versus-copy\n",
      "  \"\"\"Entry point for launching an IPython kernel.\n"
     ]
    }
   ],
   "source": [
    "train_data_input['Test'] = False"
   ]
  },
  {
   "cell_type": "code",
   "execution_count": 254,
   "metadata": {},
   "outputs": [
    {
     "data": {
      "text/plain": [
       "(6019, 12)"
      ]
     },
     "execution_count": 254,
     "metadata": {},
     "output_type": "execute_result"
    }
   ],
   "source": [
    "train_data_input.shape"
   ]
  },
  {
   "cell_type": "code",
   "execution_count": 255,
   "metadata": {},
   "outputs": [
    {
     "data": {
      "text/plain": [
       "array([ True,  True,  True,  True,  True,  True,  True,  True,  True,\n",
       "        True,  True,  True])"
      ]
     },
     "execution_count": 255,
     "metadata": {},
     "output_type": "execute_result"
    }
   ],
   "source": [
    "train_data_input.columns == test_data_input.columns"
   ]
  },
  {
   "cell_type": "code",
   "execution_count": 256,
   "metadata": {},
   "outputs": [],
   "source": [
    "total_data_input = pd.concat([train_data_input,test_data_input])"
   ]
  },
  {
   "cell_type": "code",
   "execution_count": 257,
   "metadata": {},
   "outputs": [
    {
     "data": {
      "text/plain": [
       "(7253, 12)"
      ]
     },
     "execution_count": 257,
     "metadata": {},
     "output_type": "execute_result"
    }
   ],
   "source": [
    "total_data_input.shape"
   ]
  },
  {
   "cell_type": "code",
   "execution_count": 258,
   "metadata": {},
   "outputs": [
    {
     "name": "stdout",
     "output_type": "stream",
     "text": [
      "<class 'pandas.core.frame.DataFrame'>\n",
      "Int64Index: 7253 entries, 0 to 1233\n",
      "Data columns (total 12 columns):\n",
      "Location             7253 non-null object\n",
      "Year                 7253 non-null int64\n",
      "Kilometers_Driven    7253 non-null int64\n",
      "Fuel_Type            7253 non-null object\n",
      "Transmission         7253 non-null object\n",
      "Owner_Type           7253 non-null object\n",
      "Mileage              7253 non-null float64\n",
      "Engine               7253 non-null float64\n",
      "Power                7253 non-null float64\n",
      "Seats                7253 non-null object\n",
      "No_Years             7253 non-null int64\n",
      "Test                 7253 non-null bool\n",
      "dtypes: bool(1), float64(3), int64(3), object(5)\n",
      "memory usage: 687.1+ KB\n"
     ]
    }
   ],
   "source": [
    "total_data_input.info()"
   ]
  },
  {
   "cell_type": "code",
   "execution_count": 367,
   "metadata": {},
   "outputs": [
    {
     "data": {
      "text/plain": [
       "Index(['Location', 'Year', 'Kilometers_Driven', 'Fuel_Type', 'Transmission',\n",
       "       'Owner_Type', 'Mileage', 'Engine', 'Power', 'Seats', 'No_Years',\n",
       "       'Test'],\n",
       "      dtype='object')"
      ]
     },
     "execution_count": 367,
     "metadata": {},
     "output_type": "execute_result"
    }
   ],
   "source": [
    "total_data_input.columns"
   ]
  },
  {
   "cell_type": "code",
   "execution_count": 259,
   "metadata": {},
   "outputs": [],
   "source": [
    "total_data_input.Year = total_data_input.Year.astype('category')"
   ]
  },
  {
   "cell_type": "code",
   "execution_count": 260,
   "metadata": {},
   "outputs": [],
   "source": [
    "total_data_input_encoded = pd.get_dummies(total_data_input)"
   ]
  },
  {
   "cell_type": "code",
   "execution_count": 261,
   "metadata": {},
   "outputs": [
    {
     "name": "stdout",
     "output_type": "stream",
     "text": [
      "<class 'pandas.core.frame.DataFrame'>\n",
      "Int64Index: 7253 entries, 0 to 1233\n",
      "Data columns (total 61 columns):\n",
      "Kilometers_Driven            7253 non-null int64\n",
      "Mileage                      7253 non-null float64\n",
      "Engine                       7253 non-null float64\n",
      "Power                        7253 non-null float64\n",
      "No_Years                     7253 non-null int64\n",
      "Test                         7253 non-null bool\n",
      "Location_Ahmedabad           7253 non-null uint8\n",
      "Location_Bangalore           7253 non-null uint8\n",
      "Location_Chennai             7253 non-null uint8\n",
      "Location_Coimbatore          7253 non-null uint8\n",
      "Location_Delhi               7253 non-null uint8\n",
      "Location_Hyderabad           7253 non-null uint8\n",
      "Location_Jaipur              7253 non-null uint8\n",
      "Location_Kochi               7253 non-null uint8\n",
      "Location_Kolkata             7253 non-null uint8\n",
      "Location_Mumbai              7253 non-null uint8\n",
      "Location_Pune                7253 non-null uint8\n",
      "Year_1996                    7253 non-null uint8\n",
      "Year_1998                    7253 non-null uint8\n",
      "Year_1999                    7253 non-null uint8\n",
      "Year_2000                    7253 non-null uint8\n",
      "Year_2001                    7253 non-null uint8\n",
      "Year_2002                    7253 non-null uint8\n",
      "Year_2003                    7253 non-null uint8\n",
      "Year_2004                    7253 non-null uint8\n",
      "Year_2005                    7253 non-null uint8\n",
      "Year_2006                    7253 non-null uint8\n",
      "Year_2007                    7253 non-null uint8\n",
      "Year_2008                    7253 non-null uint8\n",
      "Year_2009                    7253 non-null uint8\n",
      "Year_2010                    7253 non-null uint8\n",
      "Year_2011                    7253 non-null uint8\n",
      "Year_2012                    7253 non-null uint8\n",
      "Year_2013                    7253 non-null uint8\n",
      "Year_2014                    7253 non-null uint8\n",
      "Year_2015                    7253 non-null uint8\n",
      "Year_2016                    7253 non-null uint8\n",
      "Year_2017                    7253 non-null uint8\n",
      "Year_2018                    7253 non-null uint8\n",
      "Year_2019                    7253 non-null uint8\n",
      "Fuel_Type_CNG                7253 non-null uint8\n",
      "Fuel_Type_Diesel             7253 non-null uint8\n",
      "Fuel_Type_Electric           7253 non-null uint8\n",
      "Fuel_Type_LPG                7253 non-null uint8\n",
      "Fuel_Type_Petrol             7253 non-null uint8\n",
      "Transmission_Automatic       7253 non-null uint8\n",
      "Transmission_Manual          7253 non-null uint8\n",
      "Owner_Type_First             7253 non-null uint8\n",
      "Owner_Type_Fourth & Above    7253 non-null uint8\n",
      "Owner_Type_Second            7253 non-null uint8\n",
      "Owner_Type_Third             7253 non-null uint8\n",
      "Seats_0.0                    7253 non-null uint8\n",
      "Seats_2.0                    7253 non-null uint8\n",
      "Seats_4.0                    7253 non-null uint8\n",
      "Seats_5.0                    7253 non-null uint8\n",
      "Seats_6.0                    7253 non-null uint8\n",
      "Seats_7.0                    7253 non-null uint8\n",
      "Seats_8.0                    7253 non-null uint8\n",
      "Seats_9.0                    7253 non-null uint8\n",
      "Seats_10.0                   7253 non-null uint8\n",
      "Seats_0.0                    7253 non-null uint8\n",
      "dtypes: bool(1), float64(3), int64(2), uint8(55)\n",
      "memory usage: 736.6 KB\n"
     ]
    }
   ],
   "source": [
    "total_data_input_encoded.info()"
   ]
  },
  {
   "cell_type": "code",
   "execution_count": 266,
   "metadata": {},
   "outputs": [],
   "source": [
    "train_input_final = total_data_input_encoded[total_data_input_encoded.Test==False].drop('Test',axis=1)"
   ]
  },
  {
   "cell_type": "code",
   "execution_count": 273,
   "metadata": {},
   "outputs": [],
   "source": [
    "test_input_final = total_data_input_encoded[total_data_input_encoded.Test==True].drop('Test',axis=1)"
   ]
  },
  {
   "cell_type": "code",
   "execution_count": 267,
   "metadata": {},
   "outputs": [
    {
     "name": "stdout",
     "output_type": "stream",
     "text": [
      "<class 'pandas.core.frame.DataFrame'>\n",
      "Int64Index: 6019 entries, 0 to 6018\n",
      "Data columns (total 60 columns):\n",
      "Kilometers_Driven            6019 non-null int64\n",
      "Mileage                      6019 non-null float64\n",
      "Engine                       6019 non-null float64\n",
      "Power                        6019 non-null float64\n",
      "No_Years                     6019 non-null int64\n",
      "Location_Ahmedabad           6019 non-null uint8\n",
      "Location_Bangalore           6019 non-null uint8\n",
      "Location_Chennai             6019 non-null uint8\n",
      "Location_Coimbatore          6019 non-null uint8\n",
      "Location_Delhi               6019 non-null uint8\n",
      "Location_Hyderabad           6019 non-null uint8\n",
      "Location_Jaipur              6019 non-null uint8\n",
      "Location_Kochi               6019 non-null uint8\n",
      "Location_Kolkata             6019 non-null uint8\n",
      "Location_Mumbai              6019 non-null uint8\n",
      "Location_Pune                6019 non-null uint8\n",
      "Year_1996                    6019 non-null uint8\n",
      "Year_1998                    6019 non-null uint8\n",
      "Year_1999                    6019 non-null uint8\n",
      "Year_2000                    6019 non-null uint8\n",
      "Year_2001                    6019 non-null uint8\n",
      "Year_2002                    6019 non-null uint8\n",
      "Year_2003                    6019 non-null uint8\n",
      "Year_2004                    6019 non-null uint8\n",
      "Year_2005                    6019 non-null uint8\n",
      "Year_2006                    6019 non-null uint8\n",
      "Year_2007                    6019 non-null uint8\n",
      "Year_2008                    6019 non-null uint8\n",
      "Year_2009                    6019 non-null uint8\n",
      "Year_2010                    6019 non-null uint8\n",
      "Year_2011                    6019 non-null uint8\n",
      "Year_2012                    6019 non-null uint8\n",
      "Year_2013                    6019 non-null uint8\n",
      "Year_2014                    6019 non-null uint8\n",
      "Year_2015                    6019 non-null uint8\n",
      "Year_2016                    6019 non-null uint8\n",
      "Year_2017                    6019 non-null uint8\n",
      "Year_2018                    6019 non-null uint8\n",
      "Year_2019                    6019 non-null uint8\n",
      "Fuel_Type_CNG                6019 non-null uint8\n",
      "Fuel_Type_Diesel             6019 non-null uint8\n",
      "Fuel_Type_Electric           6019 non-null uint8\n",
      "Fuel_Type_LPG                6019 non-null uint8\n",
      "Fuel_Type_Petrol             6019 non-null uint8\n",
      "Transmission_Automatic       6019 non-null uint8\n",
      "Transmission_Manual          6019 non-null uint8\n",
      "Owner_Type_First             6019 non-null uint8\n",
      "Owner_Type_Fourth & Above    6019 non-null uint8\n",
      "Owner_Type_Second            6019 non-null uint8\n",
      "Owner_Type_Third             6019 non-null uint8\n",
      "Seats_0.0                    6019 non-null uint8\n",
      "Seats_2.0                    6019 non-null uint8\n",
      "Seats_4.0                    6019 non-null uint8\n",
      "Seats_5.0                    6019 non-null uint8\n",
      "Seats_6.0                    6019 non-null uint8\n",
      "Seats_7.0                    6019 non-null uint8\n",
      "Seats_8.0                    6019 non-null uint8\n",
      "Seats_9.0                    6019 non-null uint8\n",
      "Seats_10.0                   6019 non-null uint8\n",
      "Seats_0.0                    6019 non-null uint8\n",
      "dtypes: float64(3), int64(2), uint8(55)\n",
      "memory usage: 605.4 KB\n"
     ]
    }
   ],
   "source": [
    "train_input_final.info()"
   ]
  },
  {
   "cell_type": "code",
   "execution_count": 298,
   "metadata": {},
   "outputs": [
    {
     "data": {
      "text/plain": [
       "Index(['Kilometers_Driven', 'Mileage', 'Engine', 'Power', 'No_Years',\n",
       "       'Location_Ahmedabad', 'Location_Bangalore', 'Location_Chennai',\n",
       "       'Location_Coimbatore', 'Location_Delhi', 'Location_Hyderabad',\n",
       "       'Location_Jaipur', 'Location_Kochi', 'Location_Kolkata',\n",
       "       'Location_Mumbai', 'Location_Pune', 'Year_1996', 'Year_1998',\n",
       "       'Year_1999', 'Year_2000', 'Year_2001', 'Year_2002', 'Year_2003',\n",
       "       'Year_2004', 'Year_2005', 'Year_2006', 'Year_2007', 'Year_2008',\n",
       "       'Year_2009', 'Year_2010', 'Year_2011', 'Year_2012', 'Year_2013',\n",
       "       'Year_2014', 'Year_2015', 'Year_2016', 'Year_2017', 'Year_2018',\n",
       "       'Year_2019', 'Fuel_Type_CNG', 'Fuel_Type_Diesel', 'Fuel_Type_Electric',\n",
       "       'Fuel_Type_LPG', 'Fuel_Type_Petrol', 'Transmission_Automatic',\n",
       "       'Transmission_Manual', 'Owner_Type_First', 'Owner_Type_Fourth & Above',\n",
       "       'Owner_Type_Second', 'Owner_Type_Third', 'Seats_0.0', 'Seats_2.0',\n",
       "       'Seats_4.0', 'Seats_5.0', 'Seats_6.0', 'Seats_7.0', 'Seats_8.0',\n",
       "       'Seats_9.0', 'Seats_10.0', 'Seats_0.0'],\n",
       "      dtype='object')"
      ]
     },
     "execution_count": 298,
     "metadata": {},
     "output_type": "execute_result"
    }
   ],
   "source": [
    "train_input_final.columns"
   ]
  },
  {
   "cell_type": "code",
   "execution_count": 299,
   "metadata": {},
   "outputs": [],
   "source": [
    "year_columns = ['Year_1996', 'Year_1998',\n",
    "       'Year_1999', 'Year_2000', 'Year_2001', 'Year_2002', 'Year_2003',\n",
    "       'Year_2004', 'Year_2005', 'Year_2006', 'Year_2007', 'Year_2008',\n",
    "       'Year_2009', 'Year_2010', 'Year_2011', 'Year_2012', 'Year_2013',\n",
    "       'Year_2014', 'Year_2015', 'Year_2016', 'Year_2017', 'Year_2018',\n",
    "       'Year_2019']"
   ]
  },
  {
   "cell_type": "code",
   "execution_count": 300,
   "metadata": {},
   "outputs": [
    {
     "data": {
      "text/plain": [
       "23"
      ]
     },
     "execution_count": 300,
     "metadata": {},
     "output_type": "execute_result"
    }
   ],
   "source": [
    "len(year_columns)"
   ]
  },
  {
   "cell_type": "markdown",
   "metadata": {},
   "source": [
    "# Linear  Regression Model Proper "
   ]
  },
  {
   "cell_type": "code",
   "execution_count": 270,
   "metadata": {},
   "outputs": [],
   "source": [
    "scores = cross_val_score(linear_reg, train_input_final.values, target.values, cv=3)"
   ]
  },
  {
   "cell_type": "code",
   "execution_count": 271,
   "metadata": {},
   "outputs": [
    {
     "data": {
      "text/plain": [
       "array([0.70244454, 0.59091667, 0.71920656])"
      ]
     },
     "execution_count": 271,
     "metadata": {},
     "output_type": "execute_result"
    }
   ],
   "source": [
    "scores"
   ]
  },
  {
   "cell_type": "code",
   "execution_count": 272,
   "metadata": {},
   "outputs": [],
   "source": [
    "reg_model = linear_reg.fit(train_input_final.values, target.values)"
   ]
  },
  {
   "cell_type": "code",
   "execution_count": 277,
   "metadata": {},
   "outputs": [],
   "source": [
    "Price_predictions = pd.Series(reg_model.predict(test_input_final.values))"
   ]
  },
  {
   "cell_type": "code",
   "execution_count": 280,
   "metadata": {},
   "outputs": [],
   "source": [
    "Predictions_final = pd.DataFrame()"
   ]
  },
  {
   "cell_type": "code",
   "execution_count": 466,
   "metadata": {},
   "outputs": [],
   "source": [
    "Predictions_final['Price'] = Price_predictions"
   ]
  },
  {
   "cell_type": "code",
   "execution_count": 283,
   "metadata": {},
   "outputs": [],
   "source": [
    "Predictions_final['Price'] = Predictions_final['Price'].apply(lambda x: x if x > 0 else 0)"
   ]
  },
  {
   "cell_type": "code",
   "execution_count": 285,
   "metadata": {},
   "outputs": [
    {
     "data": {
      "text/html": [
       "<div>\n",
       "<style scoped>\n",
       "    .dataframe tbody tr th:only-of-type {\n",
       "        vertical-align: middle;\n",
       "    }\n",
       "\n",
       "    .dataframe tbody tr th {\n",
       "        vertical-align: top;\n",
       "    }\n",
       "\n",
       "    .dataframe thead th {\n",
       "        text-align: right;\n",
       "    }\n",
       "</style>\n",
       "<table border=\"1\" class=\"dataframe\">\n",
       "  <thead>\n",
       "    <tr style=\"text-align: right;\">\n",
       "      <th></th>\n",
       "      <th>Price</th>\n",
       "    </tr>\n",
       "  </thead>\n",
       "  <tbody>\n",
       "    <tr>\n",
       "      <th>count</th>\n",
       "      <td>1234.000000</td>\n",
       "    </tr>\n",
       "    <tr>\n",
       "      <th>mean</th>\n",
       "      <td>9.316807</td>\n",
       "    </tr>\n",
       "    <tr>\n",
       "      <th>std</th>\n",
       "      <td>8.745963</td>\n",
       "    </tr>\n",
       "    <tr>\n",
       "      <th>min</th>\n",
       "      <td>0.000000</td>\n",
       "    </tr>\n",
       "    <tr>\n",
       "      <th>25%</th>\n",
       "      <td>3.034553</td>\n",
       "    </tr>\n",
       "    <tr>\n",
       "      <th>50%</th>\n",
       "      <td>7.009940</td>\n",
       "    </tr>\n",
       "    <tr>\n",
       "      <th>75%</th>\n",
       "      <td>13.146416</td>\n",
       "    </tr>\n",
       "    <tr>\n",
       "      <th>max</th>\n",
       "      <td>71.925571</td>\n",
       "    </tr>\n",
       "  </tbody>\n",
       "</table>\n",
       "</div>"
      ],
      "text/plain": [
       "             Price\n",
       "count  1234.000000\n",
       "mean      9.316807\n",
       "std       8.745963\n",
       "min       0.000000\n",
       "25%       3.034553\n",
       "50%       7.009940\n",
       "75%      13.146416\n",
       "max      71.925571"
      ]
     },
     "execution_count": 285,
     "metadata": {},
     "output_type": "execute_result"
    }
   ],
   "source": [
    "Predictions_final.describe()"
   ]
  },
  {
   "cell_type": "code",
   "execution_count": 286,
   "metadata": {},
   "outputs": [],
   "source": [
    "Predictions_final.to_excel(\"Submissions_Regression.xlsx\")"
   ]
  },
  {
   "cell_type": "markdown",
   "metadata": {},
   "source": [
    "#    Linear Regression with Target Log Transformed"
   ]
  },
  {
   "cell_type": "code",
   "execution_count": 287,
   "metadata": {},
   "outputs": [],
   "source": [
    "price_logs = np.log(target.values)"
   ]
  },
  {
   "cell_type": "code",
   "execution_count": 289,
   "metadata": {},
   "outputs": [],
   "source": [
    "scores = cross_val_score(linear_reg, train_input_final.values, price_logs, cv=5)"
   ]
  },
  {
   "cell_type": "code",
   "execution_count": 290,
   "metadata": {},
   "outputs": [
    {
     "data": {
      "text/plain": [
       "array([0.88073218, 0.81446774, 0.86361923, 0.88447246, 0.88102505])"
      ]
     },
     "execution_count": 290,
     "metadata": {},
     "output_type": "execute_result"
    }
   ],
   "source": [
    "scores"
   ]
  },
  {
   "cell_type": "code",
   "execution_count": 291,
   "metadata": {},
   "outputs": [],
   "source": [
    "reg_model = linear_reg.fit(train_input_final.values, price_logs)"
   ]
  },
  {
   "cell_type": "code",
   "execution_count": 293,
   "metadata": {},
   "outputs": [],
   "source": [
    "Price_predictions = pd.Series(np.exp(reg_model.predict(test_input_final.values)))"
   ]
  },
  {
   "cell_type": "code",
   "execution_count": 294,
   "metadata": {},
   "outputs": [
    {
     "data": {
      "text/plain": [
       "count    1234.000000\n",
       "mean        8.676774\n",
       "std        13.055447\n",
       "min         0.567755\n",
       "25%         3.674490\n",
       "50%         5.489788\n",
       "75%         9.369013\n",
       "max       348.425515\n",
       "dtype: float64"
      ]
     },
     "execution_count": 294,
     "metadata": {},
     "output_type": "execute_result"
    }
   ],
   "source": [
    "Price_predictions.describe()"
   ]
  },
  {
   "cell_type": "code",
   "execution_count": 467,
   "metadata": {},
   "outputs": [],
   "source": [
    "Predictions_final = pd.DataFrame()"
   ]
  },
  {
   "cell_type": "code",
   "execution_count": 468,
   "metadata": {},
   "outputs": [],
   "source": [
    "Predictions_final['Price'] = Price_predictions"
   ]
  },
  {
   "cell_type": "code",
   "execution_count": 469,
   "metadata": {},
   "outputs": [],
   "source": [
    "Predictions_final.to_excel(\"Submissions_Regression_le.xlsx\",index=False)"
   ]
  },
  {
   "cell_type": "markdown",
   "metadata": {},
   "source": [
    "#  Linear Regression with Target Log Transformed and Year Removed "
   ]
  },
  {
   "cell_type": "code",
   "execution_count": 304,
   "metadata": {},
   "outputs": [],
   "source": [
    "columns_model3 = [col for col in list(train_input_final.columns) if col not in year_columns]"
   ]
  },
  {
   "cell_type": "code",
   "execution_count": 306,
   "metadata": {},
   "outputs": [],
   "source": [
    "train_input_model3 = train_input_final[columns_model3]"
   ]
  },
  {
   "cell_type": "code",
   "execution_count": 311,
   "metadata": {},
   "outputs": [],
   "source": [
    "test_input_model3 = test_input_final[columns_model3]"
   ]
  },
  {
   "cell_type": "code",
   "execution_count": 308,
   "metadata": {},
   "outputs": [],
   "source": [
    "scores = cross_val_score(linear_reg, train_input_model3.values, price_logs, cv=5)"
   ]
  },
  {
   "cell_type": "code",
   "execution_count": 309,
   "metadata": {},
   "outputs": [
    {
     "data": {
      "text/plain": [
       "array([0.87844525, 0.82134549, 0.8623644 , 0.88253422, 0.88005802])"
      ]
     },
     "execution_count": 309,
     "metadata": {},
     "output_type": "execute_result"
    }
   ],
   "source": [
    "scores"
   ]
  },
  {
   "cell_type": "code",
   "execution_count": 310,
   "metadata": {},
   "outputs": [],
   "source": [
    "reg_model = linear_reg.fit(train_input_model3.values, price_logs)"
   ]
  },
  {
   "cell_type": "code",
   "execution_count": 312,
   "metadata": {},
   "outputs": [],
   "source": [
    "Price_predictions = pd.Series(np.exp(reg_model.predict(test_input_model3.values)))"
   ]
  },
  {
   "cell_type": "code",
   "execution_count": 313,
   "metadata": {},
   "outputs": [],
   "source": [
    "Predictions_final = pd.DataFrame()"
   ]
  },
  {
   "cell_type": "code",
   "execution_count": 314,
   "metadata": {},
   "outputs": [],
   "source": [
    "Predictions_final['Price'] = Price_predictions"
   ]
  },
  {
   "cell_type": "code",
   "execution_count": 315,
   "metadata": {},
   "outputs": [],
   "source": [
    "Predictions_final.to_excel(\"Submissions_Regression_targetLog_Year_removed.xlsx\",index=False)"
   ]
  },
  {
   "cell_type": "markdown",
   "metadata": {},
   "source": [
    "#  Model 4 - Same as model 4 with Input Features Log Transformed "
   ]
  },
  {
   "cell_type": "code",
   "execution_count": 332,
   "metadata": {},
   "outputs": [],
   "source": [
    "train_input_model4 = train_input_model3.copy()"
   ]
  },
  {
   "cell_type": "code",
   "execution_count": 331,
   "metadata": {},
   "outputs": [
    {
     "data": {
      "text/plain": [
       "count    6019.000000\n",
       "mean       18.355551\n",
       "std         4.272321\n",
       "min         6.400000\n",
       "25%        15.400000\n",
       "50%        18.160000\n",
       "75%        21.100000\n",
       "max        90.000000\n",
       "Name: Mileage, dtype: float64"
      ]
     },
     "execution_count": 331,
     "metadata": {},
     "output_type": "execute_result"
    }
   ],
   "source": [
    "train_input_model3[ 'Mileage'].describe()"
   ]
  },
  {
   "cell_type": "code",
   "execution_count": 330,
   "metadata": {},
   "outputs": [
    {
     "name": "stderr",
     "output_type": "stream",
     "text": [
      "/home/subramanyat/anaconda3/lib/python3.7/site-packages/ipykernel_launcher.py:1: SettingWithCopyWarning: \n",
      "A value is trying to be set on a copy of a slice from a DataFrame.\n",
      "Try using .loc[row_indexer,col_indexer] = value instead\n",
      "\n",
      "See the caveats in the documentation: http://pandas.pydata.org/pandas-docs/stable/indexing.html#indexing-view-versus-copy\n",
      "  \"\"\"Entry point for launching an IPython kernel.\n"
     ]
    }
   ],
   "source": [
    "train_input_model3[ 'Mileage'] = train_input_model3[ 'Mileage'].replace(0.0,18.0)"
   ]
  },
  {
   "cell_type": "code",
   "execution_count": 333,
   "metadata": {},
   "outputs": [],
   "source": [
    "train_input_model4[['Kilometers_Driven', 'Mileage', 'Engine', 'Power']] = train_input_model3[['Kilometers_Driven', 'Mileage', 'Engine', 'Power']].apply(np.log)"
   ]
  },
  {
   "cell_type": "code",
   "execution_count": 334,
   "metadata": {},
   "outputs": [
    {
     "data": {
      "text/html": [
       "<div>\n",
       "<style scoped>\n",
       "    .dataframe tbody tr th:only-of-type {\n",
       "        vertical-align: middle;\n",
       "    }\n",
       "\n",
       "    .dataframe tbody tr th {\n",
       "        vertical-align: top;\n",
       "    }\n",
       "\n",
       "    .dataframe thead th {\n",
       "        text-align: right;\n",
       "    }\n",
       "</style>\n",
       "<table border=\"1\" class=\"dataframe\">\n",
       "  <thead>\n",
       "    <tr style=\"text-align: right;\">\n",
       "      <th></th>\n",
       "      <th>Kilometers_Driven</th>\n",
       "      <th>Mileage</th>\n",
       "      <th>Engine</th>\n",
       "      <th>Power</th>\n",
       "    </tr>\n",
       "  </thead>\n",
       "  <tbody>\n",
       "    <tr>\n",
       "      <th>count</th>\n",
       "      <td>6019.000000</td>\n",
       "      <td>6019.000000</td>\n",
       "      <td>6019.000000</td>\n",
       "      <td>6019.000000</td>\n",
       "    </tr>\n",
       "    <tr>\n",
       "      <th>mean</th>\n",
       "      <td>10.758780</td>\n",
       "      <td>2.882821</td>\n",
       "      <td>7.330754</td>\n",
       "      <td>4.636770</td>\n",
       "    </tr>\n",
       "    <tr>\n",
       "      <th>std</th>\n",
       "      <td>0.715788</td>\n",
       "      <td>0.235456</td>\n",
       "      <td>0.339274</td>\n",
       "      <td>0.411507</td>\n",
       "    </tr>\n",
       "    <tr>\n",
       "      <th>min</th>\n",
       "      <td>5.141664</td>\n",
       "      <td>1.856298</td>\n",
       "      <td>4.276666</td>\n",
       "      <td>3.532226</td>\n",
       "    </tr>\n",
       "    <tr>\n",
       "      <th>25%</th>\n",
       "      <td>10.434116</td>\n",
       "      <td>2.734368</td>\n",
       "      <td>7.088409</td>\n",
       "      <td>4.356709</td>\n",
       "    </tr>\n",
       "    <tr>\n",
       "      <th>50%</th>\n",
       "      <td>10.878047</td>\n",
       "      <td>2.899221</td>\n",
       "      <td>7.308543</td>\n",
       "      <td>4.591071</td>\n",
       "    </tr>\n",
       "    <tr>\n",
       "      <th>75%</th>\n",
       "      <td>11.198215</td>\n",
       "      <td>3.049273</td>\n",
       "      <td>7.585281</td>\n",
       "      <td>4.927471</td>\n",
       "    </tr>\n",
       "    <tr>\n",
       "      <th>max</th>\n",
       "      <td>15.687313</td>\n",
       "      <td>4.499810</td>\n",
       "      <td>8.699181</td>\n",
       "      <td>6.327937</td>\n",
       "    </tr>\n",
       "  </tbody>\n",
       "</table>\n",
       "</div>"
      ],
      "text/plain": [
       "       Kilometers_Driven      Mileage       Engine        Power\n",
       "count        6019.000000  6019.000000  6019.000000  6019.000000\n",
       "mean           10.758780     2.882821     7.330754     4.636770\n",
       "std             0.715788     0.235456     0.339274     0.411507\n",
       "min             5.141664     1.856298     4.276666     3.532226\n",
       "25%            10.434116     2.734368     7.088409     4.356709\n",
       "50%            10.878047     2.899221     7.308543     4.591071\n",
       "75%            11.198215     3.049273     7.585281     4.927471\n",
       "max            15.687313     4.499810     8.699181     6.327937"
      ]
     },
     "execution_count": 334,
     "metadata": {},
     "output_type": "execute_result"
    }
   ],
   "source": [
    "train_input_model4[['Kilometers_Driven', 'Mileage', 'Engine', 'Power']].describe() "
   ]
  },
  {
   "cell_type": "code",
   "execution_count": 335,
   "metadata": {},
   "outputs": [
    {
     "name": "stderr",
     "output_type": "stream",
     "text": [
      "/home/subramanyat/anaconda3/lib/python3.7/site-packages/ipykernel_launcher.py:1: SettingWithCopyWarning: \n",
      "A value is trying to be set on a copy of a slice from a DataFrame.\n",
      "Try using .loc[row_indexer,col_indexer] = value instead\n",
      "\n",
      "See the caveats in the documentation: http://pandas.pydata.org/pandas-docs/stable/indexing.html#indexing-view-versus-copy\n",
      "  \"\"\"Entry point for launching an IPython kernel.\n"
     ]
    }
   ],
   "source": [
    "test_input_model3[ 'Mileage'] = test_input_model3[ 'Mileage'].replace(0.0,18.0)"
   ]
  },
  {
   "cell_type": "code",
   "execution_count": 336,
   "metadata": {},
   "outputs": [],
   "source": [
    "test_input_model4 = test_input_model3.copy()"
   ]
  },
  {
   "cell_type": "code",
   "execution_count": 337,
   "metadata": {},
   "outputs": [],
   "source": [
    "test_input_model4[['Kilometers_Driven', 'Mileage', 'Engine', 'Power']] = test_input_model3[['Kilometers_Driven', 'Mileage', 'Engine', 'Power']].apply(np.log)"
   ]
  },
  {
   "cell_type": "code",
   "execution_count": 338,
   "metadata": {},
   "outputs": [],
   "source": [
    "scores = cross_val_score(linear_reg, train_input_model4.values, price_logs, cv=5)"
   ]
  },
  {
   "cell_type": "code",
   "execution_count": 339,
   "metadata": {},
   "outputs": [
    {
     "data": {
      "text/plain": [
       "array([0.89169547, 0.88230292, 0.87601332, 0.88585391, 0.88733507])"
      ]
     },
     "execution_count": 339,
     "metadata": {},
     "output_type": "execute_result"
    }
   ],
   "source": [
    "scores"
   ]
  },
  {
   "cell_type": "code",
   "execution_count": 340,
   "metadata": {},
   "outputs": [],
   "source": [
    "reg_model = linear_reg.fit(train_input_model4.values, price_logs)"
   ]
  },
  {
   "cell_type": "code",
   "execution_count": 341,
   "metadata": {},
   "outputs": [],
   "source": [
    "Price_predictions = pd.Series(np.exp(reg_model.predict(test_input_model4.values)))"
   ]
  },
  {
   "cell_type": "code",
   "execution_count": 475,
   "metadata": {},
   "outputs": [],
   "source": [
    "Predictions_final = pd.DataFrame()"
   ]
  },
  {
   "cell_type": "code",
   "execution_count": 476,
   "metadata": {},
   "outputs": [],
   "source": [
    "Predictions_final['Price'] = Price_predictions"
   ]
  },
  {
   "cell_type": "code",
   "execution_count": 477,
   "metadata": {},
   "outputs": [],
   "source": [
    "Predictions_final.to_excel(\"Submissions_Regression_le_latest.xlsx\",index=False)"
   ]
  },
  {
   "cell_type": "markdown",
   "metadata": {},
   "source": [
    "#    XGBoost Model "
   ]
  },
  {
   "cell_type": "code",
   "execution_count": 347,
   "metadata": {},
   "outputs": [],
   "source": [
    "model_xgb = xgboost.XGBRegressor(colsample_bytree=0.4,\n",
    "                 gamma=0,                 \n",
    "                 learning_rate=0.07,\n",
    "                 max_depth=3,\n",
    "                 min_child_weight=1.5,\n",
    "                 n_estimators=500,                                                                    \n",
    "                 reg_alpha=0.75,\n",
    "                 reg_lambda=0.45,\n",
    "                 subsample=0.6,\n",
    "                 seed=42) "
   ]
  },
  {
   "cell_type": "code",
   "execution_count": 348,
   "metadata": {},
   "outputs": [
    {
     "name": "stdout",
     "output_type": "stream",
     "text": [
      "[15:28:42] WARNING: /workspace/src/objective/regression_obj.cu:152: reg:linear is now deprecated in favor of reg:squarederror.\n",
      "[15:28:44] WARNING: /workspace/src/objective/regression_obj.cu:152: reg:linear is now deprecated in favor of reg:squarederror.\n",
      "[15:28:45] WARNING: /workspace/src/objective/regression_obj.cu:152: reg:linear is now deprecated in favor of reg:squarederror.\n",
      "[15:28:47] WARNING: /workspace/src/objective/regression_obj.cu:152: reg:linear is now deprecated in favor of reg:squarederror.\n",
      "[15:28:49] WARNING: /workspace/src/objective/regression_obj.cu:152: reg:linear is now deprecated in favor of reg:squarederror.\n"
     ]
    }
   ],
   "source": [
    "scores = cross_val_score(model_xgb, train_input_model4.values, price_logs, cv=5)"
   ]
  },
  {
   "cell_type": "code",
   "execution_count": 349,
   "metadata": {},
   "outputs": [
    {
     "data": {
      "text/plain": [
       "array([0.93906404, 0.92947674, 0.92653311, 0.93520749, 0.93336767])"
      ]
     },
     "execution_count": 349,
     "metadata": {},
     "output_type": "execute_result"
    }
   ],
   "source": [
    "scores"
   ]
  },
  {
   "cell_type": "code",
   "execution_count": 350,
   "metadata": {},
   "outputs": [
    {
     "name": "stdout",
     "output_type": "stream",
     "text": [
      "[15:30:24] WARNING: /workspace/src/objective/regression_obj.cu:152: reg:linear is now deprecated in favor of reg:squarederror.\n"
     ]
    }
   ],
   "source": [
    "xgb_model = model_xgb.fit(train_input_model4.values, price_logs)"
   ]
  },
  {
   "cell_type": "code",
   "execution_count": 351,
   "metadata": {},
   "outputs": [],
   "source": [
    "Price_predictions = pd.Series(np.exp(xgb_model.predict(test_input_model4.values)))"
   ]
  },
  {
   "cell_type": "code",
   "execution_count": 546,
   "metadata": {},
   "outputs": [],
   "source": [
    "Predictions_final = pd.DataFrame()"
   ]
  },
  {
   "cell_type": "code",
   "execution_count": 547,
   "metadata": {},
   "outputs": [],
   "source": [
    "Predictions_final['Price'] = Price_predictions"
   ]
  },
  {
   "cell_type": "code",
   "execution_count": 548,
   "metadata": {},
   "outputs": [],
   "source": [
    "Predictions_final.to_excel(\"Submissions_Regression_Model_le_7_42_noInf.xlsx\",index=False)"
   ]
  },
  {
   "cell_type": "markdown",
   "metadata": {},
   "source": [
    "#             XGB Model 2 "
   ]
  },
  {
   "cell_type": "code",
   "execution_count": 355,
   "metadata": {},
   "outputs": [],
   "source": [
    "model_xgb_2 = xgboost.XGBRegressor()"
   ]
  },
  {
   "cell_type": "code",
   "execution_count": 356,
   "metadata": {},
   "outputs": [
    {
     "name": "stdout",
     "output_type": "stream",
     "text": [
      "[15:34:35] WARNING: /workspace/src/objective/regression_obj.cu:152: reg:linear is now deprecated in favor of reg:squarederror.\n",
      "[15:34:35] WARNING: /workspace/src/objective/regression_obj.cu:152: reg:linear is now deprecated in favor of reg:squarederror.\n",
      "[15:34:36] WARNING: /workspace/src/objective/regression_obj.cu:152: reg:linear is now deprecated in favor of reg:squarederror.\n",
      "[15:34:36] WARNING: /workspace/src/objective/regression_obj.cu:152: reg:linear is now deprecated in favor of reg:squarederror.\n",
      "[15:34:37] WARNING: /workspace/src/objective/regression_obj.cu:152: reg:linear is now deprecated in favor of reg:squarederror.\n"
     ]
    }
   ],
   "source": [
    "scores = cross_val_score(model_xgb_2, train_input_model4.values, price_logs, cv=5)"
   ]
  },
  {
   "cell_type": "code",
   "execution_count": 357,
   "metadata": {},
   "outputs": [
    {
     "data": {
      "text/plain": [
       "array([0.92172576, 0.91077902, 0.90752039, 0.91763096, 0.91498621])"
      ]
     },
     "execution_count": 357,
     "metadata": {},
     "output_type": "execute_result"
    }
   ],
   "source": [
    "scores"
   ]
  },
  {
   "cell_type": "code",
   "execution_count": 358,
   "metadata": {},
   "outputs": [
    {
     "name": "stdout",
     "output_type": "stream",
     "text": [
      "[15:35:15] WARNING: /workspace/src/objective/regression_obj.cu:152: reg:linear is now deprecated in favor of reg:squarederror.\n"
     ]
    }
   ],
   "source": [
    "xgb_model = model_xgb_2.fit(train_input_model4.values, price_logs)"
   ]
  },
  {
   "cell_type": "code",
   "execution_count": 359,
   "metadata": {},
   "outputs": [],
   "source": [
    "Price_predictions = pd.Series(np.exp(xgb_model.predict(test_input_model4.values)))"
   ]
  },
  {
   "cell_type": "markdown",
   "metadata": {},
   "source": [
    "# XGB Model 3  - with the data of Model 1 "
   ]
  },
  {
   "cell_type": "code",
   "execution_count": 364,
   "metadata": {},
   "outputs": [],
   "source": [
    "model_xgb_3 = xgboost.XGBRegressor(colsample_bytree=0.4,\n",
    "                 gamma=0,                 \n",
    "                 learning_rate=0.07,\n",
    "                 max_depth=3,\n",
    "                 min_child_weight=1.5,\n",
    "                 n_estimators=500,                                                                    \n",
    "                 reg_alpha=0.75,\n",
    "                 reg_lambda=0.45,\n",
    "                 subsample=0.6,\n",
    "                 seed=42) "
   ]
  },
  {
   "cell_type": "code",
   "execution_count": 365,
   "metadata": {},
   "outputs": [
    {
     "name": "stdout",
     "output_type": "stream",
     "text": [
      "[16:33:24] WARNING: /workspace/src/objective/regression_obj.cu:152: reg:linear is now deprecated in favor of reg:squarederror.\n",
      "[16:33:26] WARNING: /workspace/src/objective/regression_obj.cu:152: reg:linear is now deprecated in favor of reg:squarederror.\n",
      "[16:33:28] WARNING: /workspace/src/objective/regression_obj.cu:152: reg:linear is now deprecated in favor of reg:squarederror.\n",
      "[16:33:30] WARNING: /workspace/src/objective/regression_obj.cu:152: reg:linear is now deprecated in favor of reg:squarederror.\n",
      "[16:33:32] WARNING: /workspace/src/objective/regression_obj.cu:152: reg:linear is now deprecated in favor of reg:squarederror.\n"
     ]
    }
   ],
   "source": [
    "scores = cross_val_score(model_xgb_3, train_input_final.values, target.values, cv=5)"
   ]
  },
  {
   "cell_type": "code",
   "execution_count": 366,
   "metadata": {},
   "outputs": [
    {
     "data": {
      "text/plain": [
       "array([0.90977836, 0.8907887 , 0.87961911, 0.8661071 , 0.86535765])"
      ]
     },
     "execution_count": 366,
     "metadata": {},
     "output_type": "execute_result"
    }
   ],
   "source": [
    "scores "
   ]
  },
  {
   "cell_type": "markdown",
   "metadata": {},
   "source": [
    "# XGB Model 4 - Label encoding"
   ]
  },
  {
   "cell_type": "code",
   "execution_count": 426,
   "metadata": {},
   "outputs": [],
   "source": [
    "categorical_columns = ['Location', 'Fuel_Type', 'Transmission','Owner_Type', 'Seats']"
   ]
  },
  {
   "cell_type": "code",
   "execution_count": 427,
   "metadata": {},
   "outputs": [],
   "source": [
    "numerical_columns = [col for col in list(total_data_input.columns) if col not in categorical_columns]"
   ]
  },
  {
   "cell_type": "code",
   "execution_count": 428,
   "metadata": {},
   "outputs": [],
   "source": [
    " numerical_columns.remove('Test')"
   ]
  },
  {
   "cell_type": "code",
   "execution_count": 430,
   "metadata": {},
   "outputs": [],
   "source": [
    " numerical_columns.remove('Year')"
   ]
  },
  {
   "cell_type": "code",
   "execution_count": 431,
   "metadata": {},
   "outputs": [
    {
     "data": {
      "text/plain": [
       "['Kilometers_Driven', 'Mileage', 'Engine', 'Power', 'No_Years']"
      ]
     },
     "execution_count": 431,
     "metadata": {},
     "output_type": "execute_result"
    }
   ],
   "source": [
    "numerical_columns"
   ]
  },
  {
   "cell_type": "code",
   "execution_count": 432,
   "metadata": {},
   "outputs": [
    {
     "data": {
      "text/plain": [
       "5"
      ]
     },
     "execution_count": 432,
     "metadata": {},
     "output_type": "execute_result"
    }
   ],
   "source": [
    "len(categorical_columns)"
   ]
  },
  {
   "cell_type": "code",
   "execution_count": 433,
   "metadata": {},
   "outputs": [
    {
     "name": "stderr",
     "output_type": "stream",
     "text": [
      "/home/subramanyat/anaconda3/lib/python3.7/site-packages/ipykernel_launcher.py:1: SettingWithCopyWarning: \n",
      "A value is trying to be set on a copy of a slice from a DataFrame.\n",
      "Try using .loc[row_indexer,col_indexer] = value instead\n",
      "\n",
      "See the caveats in the documentation: http://pandas.pydata.org/pandas-docs/stable/indexing.html#indexing-view-versus-copy\n",
      "  \"\"\"Entry point for launching an IPython kernel.\n"
     ]
    }
   ],
   "source": [
    "train_data_input['Seats'] = train_data_input['Seats'].replace('0.0',0.0)"
   ]
  },
  {
   "cell_type": "code",
   "execution_count": 434,
   "metadata": {},
   "outputs": [
    {
     "name": "stderr",
     "output_type": "stream",
     "text": [
      "/home/subramanyat/anaconda3/lib/python3.7/site-packages/ipykernel_launcher.py:1: SettingWithCopyWarning: \n",
      "A value is trying to be set on a copy of a slice from a DataFrame.\n",
      "Try using .loc[row_indexer,col_indexer] = value instead\n",
      "\n",
      "See the caveats in the documentation: http://pandas.pydata.org/pandas-docs/stable/indexing.html#indexing-view-versus-copy\n",
      "  \"\"\"Entry point for launching an IPython kernel.\n"
     ]
    }
   ],
   "source": [
    "test_data_input['Seats'] = test_data_input['Seats'].replace('0.0',0.0)"
   ]
  },
  {
   "cell_type": "code",
   "execution_count": 435,
   "metadata": {},
   "outputs": [
    {
     "name": "stdout",
     "output_type": "stream",
     "text": [
      "Index(['Mumbai', 'Hyderabad', 'Kochi', 'Coimbatore', 'Pune', 'Delhi',\n",
      "       'Kolkata', 'Chennai', 'Jaipur', 'Bangalore', 'Ahmedabad'],\n",
      "      dtype='object')\n",
      "Index(['Diesel', 'Petrol', 'CNG', 'LPG', 'Electric'], dtype='object')\n",
      "Index(['Manual', 'Automatic'], dtype='object')\n",
      "Index(['First', 'Second', 'Third', 'Fourth & Above'], dtype='object')\n",
      "Float64Index([5.0, 7.0, 8.0, 4.0, 0.0, 6.0, 2.0, 10.0, 9.0], dtype='float64')\n"
     ]
    }
   ],
   "source": [
    "for i in range(len(categorical_columns)):\n",
    "    print((train_data_input[categorical_columns[i]].value_counts().index))"
   ]
  },
  {
   "cell_type": "code",
   "execution_count": 436,
   "metadata": {},
   "outputs": [
    {
     "name": "stdout",
     "output_type": "stream",
     "text": [
      "Index(['Mumbai', 'Pune', 'Coimbatore', 'Hyderabad', 'Kochi', 'Kolkata',\n",
      "       'Delhi', 'Chennai', 'Jaipur', 'Bangalore', 'Ahmedabad'],\n",
      "      dtype='object')\n",
      "Index(['Diesel', 'Petrol', 'CNG', 'LPG'], dtype='object')\n",
      "Index(['Manual', 'Automatic'], dtype='object')\n",
      "Index(['First', 'Second', 'Third', 'Fourth & Above'], dtype='object')\n",
      "Float64Index([5.0, 7.0, 8.0, 4.0, 0.0, 6.0, 10.0, 2.0], dtype='float64')\n"
     ]
    }
   ],
   "source": [
    "for i in range(len(categorical_columns)):\n",
    "    print((test_data_input[categorical_columns[i]].value_counts().index))"
   ]
  },
  {
   "cell_type": "markdown",
   "metadata": {},
   "source": [
    "#       Label Encoding of Categorical Variables"
   ]
  },
  {
   "cell_type": "code",
   "execution_count": 437,
   "metadata": {},
   "outputs": [],
   "source": [
    "from sklearn.preprocessing import LabelEncoder"
   ]
  },
  {
   "cell_type": "code",
   "execution_count": 438,
   "metadata": {},
   "outputs": [],
   "source": [
    "label_encoded_columns = {}\n",
    "label_encoders = {}\n",
    "for i in range(len(categorical_columns)):\n",
    "    label_encoders[categorical_columns[i]] = LabelEncoder()\n",
    "    label_encoders[categorical_columns[i]] = label_encoders[categorical_columns[i]].fit(train_data_input[categorical_columns[i]])\n",
    "    label_encoded_columns[categorical_columns[i]]  = label_encoders[categorical_columns[i]].transform(train_data_input[categorical_columns[i]])"
   ]
  },
  {
   "cell_type": "code",
   "execution_count": 439,
   "metadata": {},
   "outputs": [
    {
     "data": {
      "text/plain": [
       "{'Location': LabelEncoder(),\n",
       " 'Fuel_Type': LabelEncoder(),\n",
       " 'Transmission': LabelEncoder(),\n",
       " 'Owner_Type': LabelEncoder(),\n",
       " 'Seats': LabelEncoder()}"
      ]
     },
     "execution_count": 439,
     "metadata": {},
     "output_type": "execute_result"
    }
   ],
   "source": [
    "label_encoders"
   ]
  },
  {
   "cell_type": "code",
   "execution_count": 440,
   "metadata": {},
   "outputs": [
    {
     "name": "stdout",
     "output_type": "stream",
     "text": [
      "['Ahmedabad' 'Bangalore' 'Chennai' 'Coimbatore' 'Delhi' 'Hyderabad'\n",
      " 'Jaipur' 'Kochi' 'Kolkata' 'Mumbai' 'Pune']\n",
      "['CNG' 'Diesel' 'Electric' 'LPG' 'Petrol']\n",
      "['Automatic' 'Manual']\n",
      "['First' 'Fourth & Above' 'Second' 'Third']\n",
      "[ 0.  2.  4.  5.  6.  7.  8.  9. 10.]\n"
     ]
    }
   ],
   "source": [
    "for k in label_encoders.keys():\n",
    "    print(label_encoders[k].classes_)"
   ]
  },
  {
   "cell_type": "code",
   "execution_count": 441,
   "metadata": {},
   "outputs": [
    {
     "data": {
      "text/plain": [
       "{'Location': array([ 9, 10,  2, ...,  6,  8,  5]),\n",
       " 'Fuel_Type': array([0, 1, 4, ..., 1, 4, 1]),\n",
       " 'Transmission': array([1, 1, 1, ..., 1, 1, 1]),\n",
       " 'Owner_Type': array([0, 0, 0, ..., 2, 0, 0]),\n",
       " 'Seats': array([3, 3, 3, ..., 6, 3, 3])}"
      ]
     },
     "execution_count": 441,
     "metadata": {},
     "output_type": "execute_result"
    }
   ],
   "source": [
    "label_encoded_columns"
   ]
  },
  {
   "cell_type": "code",
   "execution_count": 442,
   "metadata": {},
   "outputs": [],
   "source": [
    "train_data_categorical = pd.DataFrame(label_encoded_columns)"
   ]
  },
  {
   "cell_type": "code",
   "execution_count": 443,
   "metadata": {},
   "outputs": [
    {
     "name": "stdout",
     "output_type": "stream",
     "text": [
      "<class 'pandas.core.frame.DataFrame'>\n",
      "RangeIndex: 6019 entries, 0 to 6018\n",
      "Data columns (total 5 columns):\n",
      "Location        6019 non-null int64\n",
      "Fuel_Type       6019 non-null int64\n",
      "Transmission    6019 non-null int64\n",
      "Owner_Type      6019 non-null int64\n",
      "Seats           6019 non-null int64\n",
      "dtypes: int64(5)\n",
      "memory usage: 235.2 KB\n"
     ]
    }
   ],
   "source": [
    "train_data_categorical.info()"
   ]
  },
  {
   "cell_type": "code",
   "execution_count": 500,
   "metadata": {},
   "outputs": [],
   "source": [
    "train_data_label_encoded = pd.concat([train_data_categorical,train_data_input[numerical_columns]],axis=1)"
   ]
  },
  {
   "cell_type": "code",
   "execution_count": 501,
   "metadata": {},
   "outputs": [
    {
     "name": "stdout",
     "output_type": "stream",
     "text": [
      "<class 'pandas.core.frame.DataFrame'>\n",
      "RangeIndex: 6019 entries, 0 to 6018\n",
      "Data columns (total 10 columns):\n",
      "Location             6019 non-null int64\n",
      "Fuel_Type            6019 non-null int64\n",
      "Transmission         6019 non-null int64\n",
      "Owner_Type           6019 non-null int64\n",
      "Seats                6019 non-null int64\n",
      "Kilometers_Driven    6019 non-null int64\n",
      "Mileage              6019 non-null float64\n",
      "Engine               6019 non-null float64\n",
      "Power                6019 non-null float64\n",
      "No_Years             6019 non-null int64\n",
      "dtypes: float64(3), int64(7)\n",
      "memory usage: 470.3 KB\n"
     ]
    }
   ],
   "source": [
    "train_data_label_encoded.info()"
   ]
  },
  {
   "cell_type": "markdown",
   "metadata": {},
   "source": [
    "# Label Encoding Columns "
   ]
  },
  {
   "cell_type": "code",
   "execution_count": 446,
   "metadata": {},
   "outputs": [],
   "source": [
    "label_encoded_columns_test = {}\n",
    "label_encoders_test = {}\n",
    "for i in range(len(categorical_columns)):\n",
    "    label_encoded_columns_test[categorical_columns[i]]  = label_encoders[categorical_columns[i]].transform(test_data_input[categorical_columns[i]])"
   ]
  },
  {
   "cell_type": "code",
   "execution_count": 447,
   "metadata": {},
   "outputs": [],
   "source": [
    "test_data_categorical = pd.DataFrame(label_encoded_columns_test)"
   ]
  },
  {
   "cell_type": "code",
   "execution_count": 502,
   "metadata": {},
   "outputs": [
    {
     "name": "stdout",
     "output_type": "stream",
     "text": [
      "<class 'pandas.core.frame.DataFrame'>\n",
      "RangeIndex: 1234 entries, 0 to 1233\n",
      "Data columns (total 5 columns):\n",
      "Location        1234 non-null int64\n",
      "Fuel_Type       1234 non-null int64\n",
      "Transmission    1234 non-null int64\n",
      "Owner_Type      1234 non-null int64\n",
      "Seats           1234 non-null int64\n",
      "dtypes: int64(5)\n",
      "memory usage: 48.3 KB\n"
     ]
    }
   ],
   "source": [
    "test_data_categorical.info()"
   ]
  },
  {
   "cell_type": "code",
   "execution_count": 518,
   "metadata": {},
   "outputs": [],
   "source": [
    "test_data_label_encoded = pd.concat([test_data_categorical,test_data_input[numerical_columns]],axis=1)"
   ]
  },
  {
   "cell_type": "code",
   "execution_count": 519,
   "metadata": {},
   "outputs": [
    {
     "name": "stdout",
     "output_type": "stream",
     "text": [
      "<class 'pandas.core.frame.DataFrame'>\n",
      "RangeIndex: 1234 entries, 0 to 1233\n",
      "Data columns (total 10 columns):\n",
      "Location             1234 non-null int64\n",
      "Fuel_Type            1234 non-null int64\n",
      "Transmission         1234 non-null int64\n",
      "Owner_Type           1234 non-null int64\n",
      "Seats                1234 non-null int64\n",
      "Kilometers_Driven    1234 non-null int64\n",
      "Mileage              1234 non-null float64\n",
      "Engine               1234 non-null float64\n",
      "Power                1234 non-null float64\n",
      "No_Years             1234 non-null int64\n",
      "dtypes: float64(3), int64(7)\n",
      "memory usage: 96.5 KB\n"
     ]
    }
   ],
   "source": [
    "test_data_label_encoded.info()"
   ]
  },
  {
   "cell_type": "code",
   "execution_count": 521,
   "metadata": {},
   "outputs": [],
   "source": [
    "model_xgb_le = xgboost.XGBRegressor(colsample_bytree=0.4,\n",
    "                 gamma=0,                 \n",
    "                 learning_rate=0.07,\n",
    "                 max_depth=3,\n",
    "                 min_child_weight=1.5,\n",
    "                 n_estimators=500,                                                                    \n",
    "                 reg_alpha=0.75,\n",
    "                 reg_lambda=0.45,\n",
    "                 subsample=0.6,\n",
    "                 seed=42) "
   ]
  },
  {
   "cell_type": "code",
   "execution_count": 535,
   "metadata": {},
   "outputs": [],
   "source": [
    "train_data_label_encoded[ 'Mileage'] = train_data_label_encoded[ 'Mileage'].replace(0.0,18.0)"
   ]
  },
  {
   "cell_type": "code",
   "execution_count": 536,
   "metadata": {},
   "outputs": [],
   "source": [
    "train_data_label_encoded[['Kilometers_Driven', 'Mileage', 'Engine', 'Power']] = train_data_label_encoded[['Kilometers_Driven', 'Mileage', 'Engine', 'Power']].apply(np.log)"
   ]
  },
  {
   "cell_type": "code",
   "execution_count": 538,
   "metadata": {},
   "outputs": [
    {
     "name": "stdout",
     "output_type": "stream",
     "text": [
      "[19:40:18] WARNING: /workspace/src/objective/regression_obj.cu:152: reg:linear is now deprecated in favor of reg:squarederror.\n",
      "[19:40:19] WARNING: /workspace/src/objective/regression_obj.cu:152: reg:linear is now deprecated in favor of reg:squarederror.\n",
      "[19:40:20] WARNING: /workspace/src/objective/regression_obj.cu:152: reg:linear is now deprecated in favor of reg:squarederror.\n",
      "[19:40:21] WARNING: /workspace/src/objective/regression_obj.cu:152: reg:linear is now deprecated in favor of reg:squarederror.\n",
      "[19:40:22] WARNING: /workspace/src/objective/regression_obj.cu:152: reg:linear is now deprecated in favor of reg:squarederror.\n"
     ]
    }
   ],
   "source": [
    "scores = cross_val_score(model_xgb_le, train_data_label_encoded.values, price_logs, cv=5)"
   ]
  },
  {
   "cell_type": "code",
   "execution_count": 542,
   "metadata": {},
   "outputs": [
    {
     "data": {
      "text/plain": [
       "array([0.93928616, 0.92834294, 0.92176892, 0.9392839 , 0.93556708])"
      ]
     },
     "execution_count": 542,
     "metadata": {},
     "output_type": "execute_result"
    }
   ],
   "source": [
    "scores"
   ]
  },
  {
   "cell_type": "code",
   "execution_count": 540,
   "metadata": {},
   "outputs": [],
   "source": [
    "test_data_label_encoded[ 'Mileage'] = test_data_label_encoded[ 'Mileage'].replace(0.0,18.0)"
   ]
  },
  {
   "cell_type": "code",
   "execution_count": 541,
   "metadata": {},
   "outputs": [],
   "source": [
    "test_data_label_encoded[['Kilometers_Driven', 'Mileage', 'Engine', 'Power']] = test_data_label_encoded[['Kilometers_Driven', 'Mileage', 'Engine', 'Power']].apply(np.log)"
   ]
  },
  {
   "cell_type": "code",
   "execution_count": 543,
   "metadata": {},
   "outputs": [
    {
     "name": "stdout",
     "output_type": "stream",
     "text": [
      "[19:41:36] WARNING: /workspace/src/objective/regression_obj.cu:152: reg:linear is now deprecated in favor of reg:squarederror.\n"
     ]
    }
   ],
   "source": [
    "xgb_model_label_encoded = model_xgb_le.fit(train_data_label_encoded.values, price_logs)"
   ]
  },
  {
   "cell_type": "code",
   "execution_count": 544,
   "metadata": {},
   "outputs": [],
   "source": [
    "Price_predictions = pd.Series(np.exp(xgb_model_label_encoded.predict(test_data_label_encoded.values)))"
   ]
  },
  {
   "cell_type": "code",
   "execution_count": 545,
   "metadata": {},
   "outputs": [
    {
     "data": {
      "text/plain": [
       "(1234,)"
      ]
     },
     "execution_count": 545,
     "metadata": {},
     "output_type": "execute_result"
    }
   ],
   "source": [
    "Price_predictions.shape"
   ]
  },
  {
   "cell_type": "markdown",
   "metadata": {},
   "source": [
    "#                  Random Forest Model 1 "
   ]
  },
  {
   "cell_type": "code",
   "execution_count": 553,
   "metadata": {},
   "outputs": [
    {
     "data": {
      "text/html": [
       "<div>\n",
       "<style scoped>\n",
       "    .dataframe tbody tr th:only-of-type {\n",
       "        vertical-align: middle;\n",
       "    }\n",
       "\n",
       "    .dataframe tbody tr th {\n",
       "        vertical-align: top;\n",
       "    }\n",
       "\n",
       "    .dataframe thead th {\n",
       "        text-align: right;\n",
       "    }\n",
       "</style>\n",
       "<table border=\"1\" class=\"dataframe\">\n",
       "  <thead>\n",
       "    <tr style=\"text-align: right;\">\n",
       "      <th></th>\n",
       "      <th>Location</th>\n",
       "      <th>Fuel_Type</th>\n",
       "      <th>Transmission</th>\n",
       "      <th>Owner_Type</th>\n",
       "      <th>Seats</th>\n",
       "      <th>Kilometers_Driven</th>\n",
       "      <th>Mileage</th>\n",
       "      <th>Engine</th>\n",
       "      <th>Power</th>\n",
       "      <th>No_Years</th>\n",
       "    </tr>\n",
       "  </thead>\n",
       "  <tbody>\n",
       "    <tr>\n",
       "      <th>count</th>\n",
       "      <td>6019.000000</td>\n",
       "      <td>6019.000000</td>\n",
       "      <td>6019.000000</td>\n",
       "      <td>6019.000000</td>\n",
       "      <td>6019.000000</td>\n",
       "      <td>6019.000000</td>\n",
       "      <td>5951.000000</td>\n",
       "      <td>6019.000000</td>\n",
       "      <td>6019.000000</td>\n",
       "      <td>6019.000000</td>\n",
       "    </tr>\n",
       "    <tr>\n",
       "      <th>mean</th>\n",
       "      <td>5.619704</td>\n",
       "      <td>2.363017</td>\n",
       "      <td>0.714238</td>\n",
       "      <td>0.379465</td>\n",
       "      <td>3.258847</td>\n",
       "      <td>2.373335</td>\n",
       "      <td>1.055273</td>\n",
       "      <td>1.991012</td>\n",
       "      <td>1.530140</td>\n",
       "      <td>6.641801</td>\n",
       "    </tr>\n",
       "    <tr>\n",
       "      <th>std</th>\n",
       "      <td>2.955933</td>\n",
       "      <td>1.504939</td>\n",
       "      <td>0.451814</td>\n",
       "      <td>0.818458</td>\n",
       "      <td>0.840634</td>\n",
       "      <td>0.070592</td>\n",
       "      <td>0.083916</td>\n",
       "      <td>0.046157</td>\n",
       "      <td>0.087826</td>\n",
       "      <td>3.269742</td>\n",
       "    </tr>\n",
       "    <tr>\n",
       "      <th>min</th>\n",
       "      <td>0.000000</td>\n",
       "      <td>0.000000</td>\n",
       "      <td>0.000000</td>\n",
       "      <td>0.000000</td>\n",
       "      <td>0.000000</td>\n",
       "      <td>1.637377</td>\n",
       "      <td>0.618584</td>\n",
       "      <td>1.453174</td>\n",
       "      <td>1.261928</td>\n",
       "      <td>1.000000</td>\n",
       "    </tr>\n",
       "    <tr>\n",
       "      <th>25%</th>\n",
       "      <td>3.000000</td>\n",
       "      <td>1.000000</td>\n",
       "      <td>0.000000</td>\n",
       "      <td>0.000000</td>\n",
       "      <td>3.000000</td>\n",
       "      <td>2.345081</td>\n",
       "      <td>1.003515</td>\n",
       "      <td>1.958461</td>\n",
       "      <td>1.471717</td>\n",
       "      <td>4.000000</td>\n",
       "    </tr>\n",
       "    <tr>\n",
       "      <th>50%</th>\n",
       "      <td>6.000000</td>\n",
       "      <td>1.000000</td>\n",
       "      <td>1.000000</td>\n",
       "      <td>0.000000</td>\n",
       "      <td>3.000000</td>\n",
       "      <td>2.386747</td>\n",
       "      <td>1.065201</td>\n",
       "      <td>1.989044</td>\n",
       "      <td>1.524113</td>\n",
       "      <td>6.000000</td>\n",
       "    </tr>\n",
       "    <tr>\n",
       "      <th>75%</th>\n",
       "      <td>8.000000</td>\n",
       "      <td>4.000000</td>\n",
       "      <td>1.000000</td>\n",
       "      <td>0.000000</td>\n",
       "      <td>3.000000</td>\n",
       "      <td>2.415754</td>\n",
       "      <td>1.114903</td>\n",
       "      <td>2.026210</td>\n",
       "      <td>1.594826</td>\n",
       "      <td>9.000000</td>\n",
       "    </tr>\n",
       "    <tr>\n",
       "      <th>max</th>\n",
       "      <td>10.000000</td>\n",
       "      <td>4.000000</td>\n",
       "      <td>1.000000</td>\n",
       "      <td>3.000000</td>\n",
       "      <td>8.000000</td>\n",
       "      <td>2.752852</td>\n",
       "      <td>1.504035</td>\n",
       "      <td>2.163229</td>\n",
       "      <td>1.844974</td>\n",
       "      <td>22.000000</td>\n",
       "    </tr>\n",
       "  </tbody>\n",
       "</table>\n",
       "</div>"
      ],
      "text/plain": [
       "          Location    Fuel_Type  Transmission   Owner_Type        Seats  \\\n",
       "count  6019.000000  6019.000000   6019.000000  6019.000000  6019.000000   \n",
       "mean      5.619704     2.363017      0.714238     0.379465     3.258847   \n",
       "std       2.955933     1.504939      0.451814     0.818458     0.840634   \n",
       "min       0.000000     0.000000      0.000000     0.000000     0.000000   \n",
       "25%       3.000000     1.000000      0.000000     0.000000     3.000000   \n",
       "50%       6.000000     1.000000      1.000000     0.000000     3.000000   \n",
       "75%       8.000000     4.000000      1.000000     0.000000     3.000000   \n",
       "max      10.000000     4.000000      1.000000     3.000000     8.000000   \n",
       "\n",
       "       Kilometers_Driven      Mileage       Engine        Power     No_Years  \n",
       "count        6019.000000  5951.000000  6019.000000  6019.000000  6019.000000  \n",
       "mean            2.373335     1.055273     1.991012     1.530140     6.641801  \n",
       "std             0.070592     0.083916     0.046157     0.087826     3.269742  \n",
       "min             1.637377     0.618584     1.453174     1.261928     1.000000  \n",
       "25%             2.345081     1.003515     1.958461     1.471717     4.000000  \n",
       "50%             2.386747     1.065201     1.989044     1.524113     6.000000  \n",
       "75%             2.415754     1.114903     2.026210     1.594826     9.000000  \n",
       "max             2.752852     1.504035     2.163229     1.844974    22.000000  "
      ]
     },
     "execution_count": 553,
     "metadata": {},
     "output_type": "execute_result"
    }
   ],
   "source": [
    "train_data_label_encoded.describe()"
   ]
  },
  {
   "cell_type": "code",
   "execution_count": 555,
   "metadata": {},
   "outputs": [
    {
     "data": {
      "text/plain": [
       "count    6019.000000\n",
       "mean        1.825095\n",
       "std         0.874059\n",
       "min        -0.820981\n",
       "25%         1.252763\n",
       "50%         1.729884\n",
       "75%         2.297573\n",
       "max         5.075174\n",
       "dtype: float64"
      ]
     },
     "execution_count": 555,
     "metadata": {},
     "output_type": "execute_result"
    }
   ],
   "source": [
    "pd.Series(price_logs).describe()"
   ]
  },
  {
   "cell_type": "code",
   "execution_count": 559,
   "metadata": {},
   "outputs": [],
   "source": [
    "# Import the model we are using\n",
    "from sklearn.ensemble import RandomForestRegressor"
   ]
  },
  {
   "cell_type": "code",
   "execution_count": 560,
   "metadata": {},
   "outputs": [],
   "source": [
    "# Instantiate model with 1000 decision trees\n",
    "rf = RandomForestRegressor(n_estimators = 1000, random_state = 42)"
   ]
  },
  {
   "cell_type": "code",
   "execution_count": 561,
   "metadata": {},
   "outputs": [
    {
     "name": "stderr",
     "output_type": "stream",
     "text": [
      "/home/subramanyat/anaconda3/lib/python3.7/site-packages/sklearn/model_selection/_validation.py:542: FutureWarning: From version 0.22, errors during fit will result in a cross validation score of NaN by default. Use error_score='raise' if you want an exception raised or error_score=np.nan to adopt the behavior from version 0.22.\n",
      "  FutureWarning)\n"
     ]
    },
    {
     "ename": "ValueError",
     "evalue": "Input contains NaN, infinity or a value too large for dtype('float32').",
     "output_type": "error",
     "traceback": [
      "\u001b[0;31m---------------------------------------------------------------------------\u001b[0m",
      "\u001b[0;31mValueError\u001b[0m                                Traceback (most recent call last)",
      "\u001b[0;32m<ipython-input-561-fd66ed2b8ebd>\u001b[0m in \u001b[0;36m<module>\u001b[0;34m\u001b[0m\n\u001b[0;32m----> 1\u001b[0;31m \u001b[0mscores\u001b[0m \u001b[0;34m=\u001b[0m \u001b[0mcross_val_score\u001b[0m\u001b[0;34m(\u001b[0m\u001b[0mrf\u001b[0m\u001b[0;34m,\u001b[0m \u001b[0mtrain_data_label_encoded\u001b[0m\u001b[0;34m.\u001b[0m\u001b[0mvalues\u001b[0m\u001b[0;34m,\u001b[0m \u001b[0mprice_logs\u001b[0m\u001b[0;34m,\u001b[0m \u001b[0mcv\u001b[0m\u001b[0;34m=\u001b[0m\u001b[0;36m5\u001b[0m\u001b[0;34m)\u001b[0m\u001b[0;34m\u001b[0m\u001b[0;34m\u001b[0m\u001b[0m\n\u001b[0m",
      "\u001b[0;32m~/anaconda3/lib/python3.7/site-packages/sklearn/model_selection/_validation.py\u001b[0m in \u001b[0;36mcross_val_score\u001b[0;34m(estimator, X, y, groups, scoring, cv, n_jobs, verbose, fit_params, pre_dispatch, error_score)\u001b[0m\n\u001b[1;32m    400\u001b[0m                                 \u001b[0mfit_params\u001b[0m\u001b[0;34m=\u001b[0m\u001b[0mfit_params\u001b[0m\u001b[0;34m,\u001b[0m\u001b[0;34m\u001b[0m\u001b[0;34m\u001b[0m\u001b[0m\n\u001b[1;32m    401\u001b[0m                                 \u001b[0mpre_dispatch\u001b[0m\u001b[0;34m=\u001b[0m\u001b[0mpre_dispatch\u001b[0m\u001b[0;34m,\u001b[0m\u001b[0;34m\u001b[0m\u001b[0;34m\u001b[0m\u001b[0m\n\u001b[0;32m--> 402\u001b[0;31m                                 error_score=error_score)\n\u001b[0m\u001b[1;32m    403\u001b[0m     \u001b[0;32mreturn\u001b[0m \u001b[0mcv_results\u001b[0m\u001b[0;34m[\u001b[0m\u001b[0;34m'test_score'\u001b[0m\u001b[0;34m]\u001b[0m\u001b[0;34m\u001b[0m\u001b[0;34m\u001b[0m\u001b[0m\n\u001b[1;32m    404\u001b[0m \u001b[0;34m\u001b[0m\u001b[0m\n",
      "\u001b[0;32m~/anaconda3/lib/python3.7/site-packages/sklearn/model_selection/_validation.py\u001b[0m in \u001b[0;36mcross_validate\u001b[0;34m(estimator, X, y, groups, scoring, cv, n_jobs, verbose, fit_params, pre_dispatch, return_train_score, return_estimator, error_score)\u001b[0m\n\u001b[1;32m    238\u001b[0m             \u001b[0mreturn_times\u001b[0m\u001b[0;34m=\u001b[0m\u001b[0;32mTrue\u001b[0m\u001b[0;34m,\u001b[0m \u001b[0mreturn_estimator\u001b[0m\u001b[0;34m=\u001b[0m\u001b[0mreturn_estimator\u001b[0m\u001b[0;34m,\u001b[0m\u001b[0;34m\u001b[0m\u001b[0;34m\u001b[0m\u001b[0m\n\u001b[1;32m    239\u001b[0m             error_score=error_score)\n\u001b[0;32m--> 240\u001b[0;31m         for train, test in cv.split(X, y, groups))\n\u001b[0m\u001b[1;32m    241\u001b[0m \u001b[0;34m\u001b[0m\u001b[0m\n\u001b[1;32m    242\u001b[0m     \u001b[0mzipped_scores\u001b[0m \u001b[0;34m=\u001b[0m \u001b[0mlist\u001b[0m\u001b[0;34m(\u001b[0m\u001b[0mzip\u001b[0m\u001b[0;34m(\u001b[0m\u001b[0;34m*\u001b[0m\u001b[0mscores\u001b[0m\u001b[0;34m)\u001b[0m\u001b[0;34m)\u001b[0m\u001b[0;34m\u001b[0m\u001b[0;34m\u001b[0m\u001b[0m\n",
      "\u001b[0;32m~/anaconda3/lib/python3.7/site-packages/sklearn/externals/joblib/parallel.py\u001b[0m in \u001b[0;36m__call__\u001b[0;34m(self, iterable)\u001b[0m\n\u001b[1;32m    915\u001b[0m             \u001b[0;31m# remaining jobs.\u001b[0m\u001b[0;34m\u001b[0m\u001b[0;34m\u001b[0m\u001b[0;34m\u001b[0m\u001b[0m\n\u001b[1;32m    916\u001b[0m             \u001b[0mself\u001b[0m\u001b[0;34m.\u001b[0m\u001b[0m_iterating\u001b[0m \u001b[0;34m=\u001b[0m \u001b[0;32mFalse\u001b[0m\u001b[0;34m\u001b[0m\u001b[0;34m\u001b[0m\u001b[0m\n\u001b[0;32m--> 917\u001b[0;31m             \u001b[0;32mif\u001b[0m \u001b[0mself\u001b[0m\u001b[0;34m.\u001b[0m\u001b[0mdispatch_one_batch\u001b[0m\u001b[0;34m(\u001b[0m\u001b[0miterator\u001b[0m\u001b[0;34m)\u001b[0m\u001b[0;34m:\u001b[0m\u001b[0;34m\u001b[0m\u001b[0;34m\u001b[0m\u001b[0m\n\u001b[0m\u001b[1;32m    918\u001b[0m                 \u001b[0mself\u001b[0m\u001b[0;34m.\u001b[0m\u001b[0m_iterating\u001b[0m \u001b[0;34m=\u001b[0m \u001b[0mself\u001b[0m\u001b[0;34m.\u001b[0m\u001b[0m_original_iterator\u001b[0m \u001b[0;32mis\u001b[0m \u001b[0;32mnot\u001b[0m \u001b[0;32mNone\u001b[0m\u001b[0;34m\u001b[0m\u001b[0;34m\u001b[0m\u001b[0m\n\u001b[1;32m    919\u001b[0m \u001b[0;34m\u001b[0m\u001b[0m\n",
      "\u001b[0;32m~/anaconda3/lib/python3.7/site-packages/sklearn/externals/joblib/parallel.py\u001b[0m in \u001b[0;36mdispatch_one_batch\u001b[0;34m(self, iterator)\u001b[0m\n\u001b[1;32m    757\u001b[0m                 \u001b[0;32mreturn\u001b[0m \u001b[0;32mFalse\u001b[0m\u001b[0;34m\u001b[0m\u001b[0;34m\u001b[0m\u001b[0m\n\u001b[1;32m    758\u001b[0m             \u001b[0;32melse\u001b[0m\u001b[0;34m:\u001b[0m\u001b[0;34m\u001b[0m\u001b[0;34m\u001b[0m\u001b[0m\n\u001b[0;32m--> 759\u001b[0;31m                 \u001b[0mself\u001b[0m\u001b[0;34m.\u001b[0m\u001b[0m_dispatch\u001b[0m\u001b[0;34m(\u001b[0m\u001b[0mtasks\u001b[0m\u001b[0;34m)\u001b[0m\u001b[0;34m\u001b[0m\u001b[0;34m\u001b[0m\u001b[0m\n\u001b[0m\u001b[1;32m    760\u001b[0m                 \u001b[0;32mreturn\u001b[0m \u001b[0;32mTrue\u001b[0m\u001b[0;34m\u001b[0m\u001b[0;34m\u001b[0m\u001b[0m\n\u001b[1;32m    761\u001b[0m \u001b[0;34m\u001b[0m\u001b[0m\n",
      "\u001b[0;32m~/anaconda3/lib/python3.7/site-packages/sklearn/externals/joblib/parallel.py\u001b[0m in \u001b[0;36m_dispatch\u001b[0;34m(self, batch)\u001b[0m\n\u001b[1;32m    714\u001b[0m         \u001b[0;32mwith\u001b[0m \u001b[0mself\u001b[0m\u001b[0;34m.\u001b[0m\u001b[0m_lock\u001b[0m\u001b[0;34m:\u001b[0m\u001b[0;34m\u001b[0m\u001b[0;34m\u001b[0m\u001b[0m\n\u001b[1;32m    715\u001b[0m             \u001b[0mjob_idx\u001b[0m \u001b[0;34m=\u001b[0m \u001b[0mlen\u001b[0m\u001b[0;34m(\u001b[0m\u001b[0mself\u001b[0m\u001b[0;34m.\u001b[0m\u001b[0m_jobs\u001b[0m\u001b[0;34m)\u001b[0m\u001b[0;34m\u001b[0m\u001b[0;34m\u001b[0m\u001b[0m\n\u001b[0;32m--> 716\u001b[0;31m             \u001b[0mjob\u001b[0m \u001b[0;34m=\u001b[0m \u001b[0mself\u001b[0m\u001b[0;34m.\u001b[0m\u001b[0m_backend\u001b[0m\u001b[0;34m.\u001b[0m\u001b[0mapply_async\u001b[0m\u001b[0;34m(\u001b[0m\u001b[0mbatch\u001b[0m\u001b[0;34m,\u001b[0m \u001b[0mcallback\u001b[0m\u001b[0;34m=\u001b[0m\u001b[0mcb\u001b[0m\u001b[0;34m)\u001b[0m\u001b[0;34m\u001b[0m\u001b[0;34m\u001b[0m\u001b[0m\n\u001b[0m\u001b[1;32m    717\u001b[0m             \u001b[0;31m# A job can complete so quickly than its callback is\u001b[0m\u001b[0;34m\u001b[0m\u001b[0;34m\u001b[0m\u001b[0;34m\u001b[0m\u001b[0m\n\u001b[1;32m    718\u001b[0m             \u001b[0;31m# called before we get here, causing self._jobs to\u001b[0m\u001b[0;34m\u001b[0m\u001b[0;34m\u001b[0m\u001b[0;34m\u001b[0m\u001b[0m\n",
      "\u001b[0;32m~/anaconda3/lib/python3.7/site-packages/sklearn/externals/joblib/_parallel_backends.py\u001b[0m in \u001b[0;36mapply_async\u001b[0;34m(self, func, callback)\u001b[0m\n\u001b[1;32m    180\u001b[0m     \u001b[0;32mdef\u001b[0m \u001b[0mapply_async\u001b[0m\u001b[0;34m(\u001b[0m\u001b[0mself\u001b[0m\u001b[0;34m,\u001b[0m \u001b[0mfunc\u001b[0m\u001b[0;34m,\u001b[0m \u001b[0mcallback\u001b[0m\u001b[0;34m=\u001b[0m\u001b[0;32mNone\u001b[0m\u001b[0;34m)\u001b[0m\u001b[0;34m:\u001b[0m\u001b[0;34m\u001b[0m\u001b[0;34m\u001b[0m\u001b[0m\n\u001b[1;32m    181\u001b[0m         \u001b[0;34m\"\"\"Schedule a func to be run\"\"\"\u001b[0m\u001b[0;34m\u001b[0m\u001b[0;34m\u001b[0m\u001b[0m\n\u001b[0;32m--> 182\u001b[0;31m         \u001b[0mresult\u001b[0m \u001b[0;34m=\u001b[0m \u001b[0mImmediateResult\u001b[0m\u001b[0;34m(\u001b[0m\u001b[0mfunc\u001b[0m\u001b[0;34m)\u001b[0m\u001b[0;34m\u001b[0m\u001b[0;34m\u001b[0m\u001b[0m\n\u001b[0m\u001b[1;32m    183\u001b[0m         \u001b[0;32mif\u001b[0m \u001b[0mcallback\u001b[0m\u001b[0;34m:\u001b[0m\u001b[0;34m\u001b[0m\u001b[0;34m\u001b[0m\u001b[0m\n\u001b[1;32m    184\u001b[0m             \u001b[0mcallback\u001b[0m\u001b[0;34m(\u001b[0m\u001b[0mresult\u001b[0m\u001b[0;34m)\u001b[0m\u001b[0;34m\u001b[0m\u001b[0;34m\u001b[0m\u001b[0m\n",
      "\u001b[0;32m~/anaconda3/lib/python3.7/site-packages/sklearn/externals/joblib/_parallel_backends.py\u001b[0m in \u001b[0;36m__init__\u001b[0;34m(self, batch)\u001b[0m\n\u001b[1;32m    547\u001b[0m         \u001b[0;31m# Don't delay the application, to avoid keeping the input\u001b[0m\u001b[0;34m\u001b[0m\u001b[0;34m\u001b[0m\u001b[0;34m\u001b[0m\u001b[0m\n\u001b[1;32m    548\u001b[0m         \u001b[0;31m# arguments in memory\u001b[0m\u001b[0;34m\u001b[0m\u001b[0;34m\u001b[0m\u001b[0;34m\u001b[0m\u001b[0m\n\u001b[0;32m--> 549\u001b[0;31m         \u001b[0mself\u001b[0m\u001b[0;34m.\u001b[0m\u001b[0mresults\u001b[0m \u001b[0;34m=\u001b[0m \u001b[0mbatch\u001b[0m\u001b[0;34m(\u001b[0m\u001b[0;34m)\u001b[0m\u001b[0;34m\u001b[0m\u001b[0;34m\u001b[0m\u001b[0m\n\u001b[0m\u001b[1;32m    550\u001b[0m \u001b[0;34m\u001b[0m\u001b[0m\n\u001b[1;32m    551\u001b[0m     \u001b[0;32mdef\u001b[0m \u001b[0mget\u001b[0m\u001b[0;34m(\u001b[0m\u001b[0mself\u001b[0m\u001b[0;34m)\u001b[0m\u001b[0;34m:\u001b[0m\u001b[0;34m\u001b[0m\u001b[0;34m\u001b[0m\u001b[0m\n",
      "\u001b[0;32m~/anaconda3/lib/python3.7/site-packages/sklearn/externals/joblib/parallel.py\u001b[0m in \u001b[0;36m__call__\u001b[0;34m(self)\u001b[0m\n\u001b[1;32m    223\u001b[0m         \u001b[0;32mwith\u001b[0m \u001b[0mparallel_backend\u001b[0m\u001b[0;34m(\u001b[0m\u001b[0mself\u001b[0m\u001b[0;34m.\u001b[0m\u001b[0m_backend\u001b[0m\u001b[0;34m,\u001b[0m \u001b[0mn_jobs\u001b[0m\u001b[0;34m=\u001b[0m\u001b[0mself\u001b[0m\u001b[0;34m.\u001b[0m\u001b[0m_n_jobs\u001b[0m\u001b[0;34m)\u001b[0m\u001b[0;34m:\u001b[0m\u001b[0;34m\u001b[0m\u001b[0;34m\u001b[0m\u001b[0m\n\u001b[1;32m    224\u001b[0m             return [func(*args, **kwargs)\n\u001b[0;32m--> 225\u001b[0;31m                     for func, args, kwargs in self.items]\n\u001b[0m\u001b[1;32m    226\u001b[0m \u001b[0;34m\u001b[0m\u001b[0m\n\u001b[1;32m    227\u001b[0m     \u001b[0;32mdef\u001b[0m \u001b[0m__len__\u001b[0m\u001b[0;34m(\u001b[0m\u001b[0mself\u001b[0m\u001b[0;34m)\u001b[0m\u001b[0;34m:\u001b[0m\u001b[0;34m\u001b[0m\u001b[0;34m\u001b[0m\u001b[0m\n",
      "\u001b[0;32m~/anaconda3/lib/python3.7/site-packages/sklearn/externals/joblib/parallel.py\u001b[0m in \u001b[0;36m<listcomp>\u001b[0;34m(.0)\u001b[0m\n\u001b[1;32m    223\u001b[0m         \u001b[0;32mwith\u001b[0m \u001b[0mparallel_backend\u001b[0m\u001b[0;34m(\u001b[0m\u001b[0mself\u001b[0m\u001b[0;34m.\u001b[0m\u001b[0m_backend\u001b[0m\u001b[0;34m,\u001b[0m \u001b[0mn_jobs\u001b[0m\u001b[0;34m=\u001b[0m\u001b[0mself\u001b[0m\u001b[0;34m.\u001b[0m\u001b[0m_n_jobs\u001b[0m\u001b[0;34m)\u001b[0m\u001b[0;34m:\u001b[0m\u001b[0;34m\u001b[0m\u001b[0;34m\u001b[0m\u001b[0m\n\u001b[1;32m    224\u001b[0m             return [func(*args, **kwargs)\n\u001b[0;32m--> 225\u001b[0;31m                     for func, args, kwargs in self.items]\n\u001b[0m\u001b[1;32m    226\u001b[0m \u001b[0;34m\u001b[0m\u001b[0m\n\u001b[1;32m    227\u001b[0m     \u001b[0;32mdef\u001b[0m \u001b[0m__len__\u001b[0m\u001b[0;34m(\u001b[0m\u001b[0mself\u001b[0m\u001b[0;34m)\u001b[0m\u001b[0;34m:\u001b[0m\u001b[0;34m\u001b[0m\u001b[0;34m\u001b[0m\u001b[0m\n",
      "\u001b[0;32m~/anaconda3/lib/python3.7/site-packages/sklearn/model_selection/_validation.py\u001b[0m in \u001b[0;36m_fit_and_score\u001b[0;34m(estimator, X, y, scorer, train, test, verbose, parameters, fit_params, return_train_score, return_parameters, return_n_test_samples, return_times, return_estimator, error_score)\u001b[0m\n\u001b[1;32m    526\u001b[0m             \u001b[0mestimator\u001b[0m\u001b[0;34m.\u001b[0m\u001b[0mfit\u001b[0m\u001b[0;34m(\u001b[0m\u001b[0mX_train\u001b[0m\u001b[0;34m,\u001b[0m \u001b[0;34m**\u001b[0m\u001b[0mfit_params\u001b[0m\u001b[0;34m)\u001b[0m\u001b[0;34m\u001b[0m\u001b[0;34m\u001b[0m\u001b[0m\n\u001b[1;32m    527\u001b[0m         \u001b[0;32melse\u001b[0m\u001b[0;34m:\u001b[0m\u001b[0;34m\u001b[0m\u001b[0;34m\u001b[0m\u001b[0m\n\u001b[0;32m--> 528\u001b[0;31m             \u001b[0mestimator\u001b[0m\u001b[0;34m.\u001b[0m\u001b[0mfit\u001b[0m\u001b[0;34m(\u001b[0m\u001b[0mX_train\u001b[0m\u001b[0;34m,\u001b[0m \u001b[0my_train\u001b[0m\u001b[0;34m,\u001b[0m \u001b[0;34m**\u001b[0m\u001b[0mfit_params\u001b[0m\u001b[0;34m)\u001b[0m\u001b[0;34m\u001b[0m\u001b[0;34m\u001b[0m\u001b[0m\n\u001b[0m\u001b[1;32m    529\u001b[0m \u001b[0;34m\u001b[0m\u001b[0m\n\u001b[1;32m    530\u001b[0m     \u001b[0;32mexcept\u001b[0m \u001b[0mException\u001b[0m \u001b[0;32mas\u001b[0m \u001b[0me\u001b[0m\u001b[0;34m:\u001b[0m\u001b[0;34m\u001b[0m\u001b[0;34m\u001b[0m\u001b[0m\n",
      "\u001b[0;32m~/anaconda3/lib/python3.7/site-packages/sklearn/ensemble/forest.py\u001b[0m in \u001b[0;36mfit\u001b[0;34m(self, X, y, sample_weight)\u001b[0m\n\u001b[1;32m    248\u001b[0m \u001b[0;34m\u001b[0m\u001b[0m\n\u001b[1;32m    249\u001b[0m         \u001b[0;31m# Validate or convert input data\u001b[0m\u001b[0;34m\u001b[0m\u001b[0;34m\u001b[0m\u001b[0;34m\u001b[0m\u001b[0m\n\u001b[0;32m--> 250\u001b[0;31m         \u001b[0mX\u001b[0m \u001b[0;34m=\u001b[0m \u001b[0mcheck_array\u001b[0m\u001b[0;34m(\u001b[0m\u001b[0mX\u001b[0m\u001b[0;34m,\u001b[0m \u001b[0maccept_sparse\u001b[0m\u001b[0;34m=\u001b[0m\u001b[0;34m\"csc\"\u001b[0m\u001b[0;34m,\u001b[0m \u001b[0mdtype\u001b[0m\u001b[0;34m=\u001b[0m\u001b[0mDTYPE\u001b[0m\u001b[0;34m)\u001b[0m\u001b[0;34m\u001b[0m\u001b[0;34m\u001b[0m\u001b[0m\n\u001b[0m\u001b[1;32m    251\u001b[0m         \u001b[0my\u001b[0m \u001b[0;34m=\u001b[0m \u001b[0mcheck_array\u001b[0m\u001b[0;34m(\u001b[0m\u001b[0my\u001b[0m\u001b[0;34m,\u001b[0m \u001b[0maccept_sparse\u001b[0m\u001b[0;34m=\u001b[0m\u001b[0;34m'csc'\u001b[0m\u001b[0;34m,\u001b[0m \u001b[0mensure_2d\u001b[0m\u001b[0;34m=\u001b[0m\u001b[0;32mFalse\u001b[0m\u001b[0;34m,\u001b[0m \u001b[0mdtype\u001b[0m\u001b[0;34m=\u001b[0m\u001b[0;32mNone\u001b[0m\u001b[0;34m)\u001b[0m\u001b[0;34m\u001b[0m\u001b[0;34m\u001b[0m\u001b[0m\n\u001b[1;32m    252\u001b[0m         \u001b[0;32mif\u001b[0m \u001b[0msample_weight\u001b[0m \u001b[0;32mis\u001b[0m \u001b[0;32mnot\u001b[0m \u001b[0;32mNone\u001b[0m\u001b[0;34m:\u001b[0m\u001b[0;34m\u001b[0m\u001b[0;34m\u001b[0m\u001b[0m\n",
      "\u001b[0;32m~/anaconda3/lib/python3.7/site-packages/sklearn/utils/validation.py\u001b[0m in \u001b[0;36mcheck_array\u001b[0;34m(array, accept_sparse, accept_large_sparse, dtype, order, copy, force_all_finite, ensure_2d, allow_nd, ensure_min_samples, ensure_min_features, warn_on_dtype, estimator)\u001b[0m\n\u001b[1;32m    571\u001b[0m         \u001b[0;32mif\u001b[0m \u001b[0mforce_all_finite\u001b[0m\u001b[0;34m:\u001b[0m\u001b[0;34m\u001b[0m\u001b[0;34m\u001b[0m\u001b[0m\n\u001b[1;32m    572\u001b[0m             _assert_all_finite(array,\n\u001b[0;32m--> 573\u001b[0;31m                                allow_nan=force_all_finite == 'allow-nan')\n\u001b[0m\u001b[1;32m    574\u001b[0m \u001b[0;34m\u001b[0m\u001b[0m\n\u001b[1;32m    575\u001b[0m     \u001b[0mshape_repr\u001b[0m \u001b[0;34m=\u001b[0m \u001b[0m_shape_repr\u001b[0m\u001b[0;34m(\u001b[0m\u001b[0marray\u001b[0m\u001b[0;34m.\u001b[0m\u001b[0mshape\u001b[0m\u001b[0;34m)\u001b[0m\u001b[0;34m\u001b[0m\u001b[0;34m\u001b[0m\u001b[0m\n",
      "\u001b[0;32m~/anaconda3/lib/python3.7/site-packages/sklearn/utils/validation.py\u001b[0m in \u001b[0;36m_assert_all_finite\u001b[0;34m(X, allow_nan)\u001b[0m\n\u001b[1;32m     54\u001b[0m                 not allow_nan and not np.isfinite(X).all()):\n\u001b[1;32m     55\u001b[0m             \u001b[0mtype_err\u001b[0m \u001b[0;34m=\u001b[0m \u001b[0;34m'infinity'\u001b[0m \u001b[0;32mif\u001b[0m \u001b[0mallow_nan\u001b[0m \u001b[0;32melse\u001b[0m \u001b[0;34m'NaN, infinity'\u001b[0m\u001b[0;34m\u001b[0m\u001b[0;34m\u001b[0m\u001b[0m\n\u001b[0;32m---> 56\u001b[0;31m             \u001b[0;32mraise\u001b[0m \u001b[0mValueError\u001b[0m\u001b[0;34m(\u001b[0m\u001b[0mmsg_err\u001b[0m\u001b[0;34m.\u001b[0m\u001b[0mformat\u001b[0m\u001b[0;34m(\u001b[0m\u001b[0mtype_err\u001b[0m\u001b[0;34m,\u001b[0m \u001b[0mX\u001b[0m\u001b[0;34m.\u001b[0m\u001b[0mdtype\u001b[0m\u001b[0;34m)\u001b[0m\u001b[0;34m)\u001b[0m\u001b[0;34m\u001b[0m\u001b[0;34m\u001b[0m\u001b[0m\n\u001b[0m\u001b[1;32m     57\u001b[0m \u001b[0;34m\u001b[0m\u001b[0m\n\u001b[1;32m     58\u001b[0m \u001b[0;34m\u001b[0m\u001b[0m\n",
      "\u001b[0;31mValueError\u001b[0m: Input contains NaN, infinity or a value too large for dtype('float32')."
     ]
    }
   ],
   "source": [
    "scores = cross_val_score(rf, train_data_label_encoded.values, price_logs, cv=5)"
   ]
  },
  {
   "cell_type": "code",
   "execution_count": null,
   "metadata": {},
   "outputs": [],
   "source": [
    "# Train the model on training data\n",
    "rf.fit(train_features, train_labels);"
   ]
  },
  {
   "cell_type": "markdown",
   "metadata": {},
   "source": [
    "#      TPOT Regression"
   ]
  },
  {
   "cell_type": "code",
   "execution_count": 565,
   "metadata": {},
   "outputs": [],
   "source": [
    "from tpot import TPOTRegressor"
   ]
  },
  {
   "cell_type": "code",
   "execution_count": 566,
   "metadata": {},
   "outputs": [],
   "source": [
    "tpot = TPOTRegressor(generations=5, population_size=50, verbosity=2)"
   ]
  },
  {
   "cell_type": "code",
   "execution_count": null,
   "metadata": {},
   "outputs": [],
   "source": [
    "tpot.fit(X_train, y_train)"
   ]
  },
  {
   "cell_type": "code",
   "execution_count": 568,
   "metadata": {},
   "outputs": [
    {
     "data": {
      "text/plain": [
       "array([-0.04539958, -0.06872512, -0.05038229, -0.0414901 , -0.03907188])"
      ]
     },
     "execution_count": 568,
     "metadata": {},
     "output_type": "execute_result"
    }
   ],
   "source": [
    "scores"
   ]
  },
  {
   "cell_type": "markdown",
   "metadata": {},
   "source": [
    "#   Auto Sklearn"
   ]
  },
  {
   "cell_type": "code",
   "execution_count": 580,
   "metadata": {},
   "outputs": [
    {
     "ename": "NameError",
     "evalue": "name 'autosklearn' is not defined",
     "output_type": "error",
     "traceback": [
      "\u001b[0;31m---------------------------------------------------------------------------\u001b[0m",
      "\u001b[0;31mNameError\u001b[0m                                 Traceback (most recent call last)",
      "\u001b[0;32m<ipython-input-580-068b5681a0a6>\u001b[0m in \u001b[0;36m<module>\u001b[0;34m\u001b[0m\n\u001b[0;32m----> 1\u001b[0;31m \u001b[0mautoml\u001b[0m \u001b[0;34m=\u001b[0m \u001b[0mautosklearn\u001b[0m\u001b[0;34m.\u001b[0m\u001b[0mregression\u001b[0m\u001b[0;34m.\u001b[0m\u001b[0mAutoSklearnRegressor\u001b[0m\u001b[0;34m(\u001b[0m\u001b[0;34m)\u001b[0m\u001b[0;34m\u001b[0m\u001b[0;34m\u001b[0m\u001b[0m\n\u001b[0m",
      "\u001b[0;31mNameError\u001b[0m: name 'autosklearn' is not defined"
     ]
    }
   ],
   "source": [
    "automl = autosklearn.regression.AutoSklearnRegressor()"
   ]
  },
  {
   "cell_type": "code",
   "execution_count": null,
   "metadata": {},
   "outputs": [],
   "source": []
  }
 ],
 "metadata": {
  "kernelspec": {
   "display_name": "Python 3",
   "language": "python",
   "name": "python3"
  },
  "language_info": {
   "codemirror_mode": {
    "name": "ipython",
    "version": 3
   },
   "file_extension": ".py",
   "mimetype": "text/x-python",
   "name": "python",
   "nbconvert_exporter": "python",
   "pygments_lexer": "ipython3",
   "version": "3.7.0"
  }
 },
 "nbformat": 4,
 "nbformat_minor": 2
}
